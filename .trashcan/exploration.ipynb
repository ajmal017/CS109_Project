{
 "cells": [
  {
   "cell_type": "markdown",
   "metadata": {},
   "source": [
    "# Exploratory analysis (con'td)\n"
   ]
  },
  {
   "cell_type": "markdown",
   "metadata": {},
   "source": [
    "## Feature analysis and initial ML implementation"
   ]
  },
  {
   "cell_type": "code",
   "execution_count": 1,
   "metadata": {
    "collapsed": true
   },
   "outputs": [],
   "source": [
    "%matplotlib inline\n",
    "import numpy as np\n",
    "import scipy as sp\n",
    "import matplotlib as mpl\n",
    "import matplotlib.cm as cm\n",
    "import matplotlib.pyplot as plt\n",
    "import pandas as pd\n",
    "pd.set_option('display.width', 500)\n",
    "pd.set_option('display.max_columns', 100)\n",
    "pd.set_option('display.notebook_repr_html', True)\n",
    "import seaborn as sns\n",
    "sns.set_style(\"whitegrid\")\n",
    "sns.set_context(\"poster\")"
   ]
  },
  {
   "cell_type": "markdown",
   "metadata": {},
   "source": [
    "### Feature engineering"
   ]
  },
  {
   "cell_type": "markdown",
   "metadata": {},
   "source": [
    "Let's first read in data with a few features we want to use.  For the sake of this example `result_14` is the actual result (False means stock is down in 14 days, True means stock is up).  The features we will use are:\n",
    "\n",
    "* `ema_signal1` (signal from exponential moving average)\n",
    "* `kama_signal1` (signal from adaptive moving average)\n",
    "* `sar_signal` (signal from parabolic SAR)\n",
    "* `cv_signal`\n",
    "* `trix_signal`\n",
    "* `ad_signal`\n"
   ]
  },
  {
   "cell_type": "code",
   "execution_count": 2,
   "metadata": {
    "collapsed": false
   },
   "outputs": [
    {
     "name": "stdout",
     "output_type": "stream",
     "text": [
      "ema_signal1      bool\n",
      "kama_signal1     bool\n",
      "sar_signal       bool\n",
      "cv_signal        bool\n",
      "trix_signal      bool\n",
      "bb_signal       int64\n",
      "ad_signal        bool\n",
      "aroon_signal     bool\n",
      "adx_signal      int64\n",
      "cci_signal      int64\n",
      "result_14        bool\n",
      "dtype: object\n",
      "(1258, 11)\n"
     ]
    }
   ],
   "source": [
    "df=pd.read_csv(\"./data/UXI.csv\")\n",
    "\n",
    "\n",
    "# Variables with binary signals \n",
    "SIGNAL_VARS = ['ema_signal1', 'kama_signal1','sar_signal','cv_signal','trix_signal',\n",
    "               'bb_signal','ad_signal','aroon_signal','adx_signal','cci_signal']\n",
    "\n",
    "dftouse = df.copy()\n",
    "dftouse = dftouse[SIGNAL_VARS]\n",
    "dftouse['result_14'] = df['result_14'] \n",
    "print dftouse.dtypes\n",
    "print dftouse.shape"
   ]
  },
  {
   "cell_type": "markdown",
   "metadata": {},
   "source": [
    "### Correlation analysis"
   ]
  },
  {
   "cell_type": "code",
   "execution_count": 3,
   "metadata": {
    "collapsed": false
   },
   "outputs": [
    {
     "data": {
      "text/html": [
       "<div>\n",
       "<table border=\"1\" class=\"dataframe\">\n",
       "  <thead>\n",
       "    <tr style=\"text-align: right;\">\n",
       "      <th></th>\n",
       "      <th>abscorr</th>\n",
       "      <th>corr</th>\n",
       "      <th>p_val</th>\n",
       "    </tr>\n",
       "    <tr>\n",
       "      <th>feature</th>\n",
       "      <th></th>\n",
       "      <th></th>\n",
       "      <th></th>\n",
       "    </tr>\n",
       "  </thead>\n",
       "  <tbody>\n",
       "    <tr>\n",
       "      <th>ema_signal1</th>\n",
       "      <td>0.074386</td>\n",
       "      <td>-0.074386</td>\n",
       "      <td>0.008305</td>\n",
       "    </tr>\n",
       "    <tr>\n",
       "      <th>aroon_signal</th>\n",
       "      <td>0.062820</td>\n",
       "      <td>-0.062820</td>\n",
       "      <td>0.025873</td>\n",
       "    </tr>\n",
       "    <tr>\n",
       "      <th>ad_signal</th>\n",
       "      <td>0.061355</td>\n",
       "      <td>-0.061355</td>\n",
       "      <td>0.029551</td>\n",
       "    </tr>\n",
       "    <tr>\n",
       "      <th>kama_signal1</th>\n",
       "      <td>0.054071</td>\n",
       "      <td>-0.054071</td>\n",
       "      <td>0.055201</td>\n",
       "    </tr>\n",
       "    <tr>\n",
       "      <th>sar_signal</th>\n",
       "      <td>0.047943</td>\n",
       "      <td>0.047943</td>\n",
       "      <td>0.089181</td>\n",
       "    </tr>\n",
       "    <tr>\n",
       "      <th>bb_signal</th>\n",
       "      <td>0.036060</td>\n",
       "      <td>-0.036060</td>\n",
       "      <td>0.201205</td>\n",
       "    </tr>\n",
       "    <tr>\n",
       "      <th>adx_signal</th>\n",
       "      <td>0.023721</td>\n",
       "      <td>-0.023721</td>\n",
       "      <td>0.400553</td>\n",
       "    </tr>\n",
       "    <tr>\n",
       "      <th>trix_signal</th>\n",
       "      <td>0.021312</td>\n",
       "      <td>0.021312</td>\n",
       "      <td>0.450117</td>\n",
       "    </tr>\n",
       "    <tr>\n",
       "      <th>cv_signal</th>\n",
       "      <td>0.020341</td>\n",
       "      <td>0.020341</td>\n",
       "      <td>0.471014</td>\n",
       "    </tr>\n",
       "    <tr>\n",
       "      <th>cci_signal</th>\n",
       "      <td>0.015993</td>\n",
       "      <td>0.015993</td>\n",
       "      <td>0.570916</td>\n",
       "    </tr>\n",
       "  </tbody>\n",
       "</table>\n",
       "</div>"
      ],
      "text/plain": [
       "               abscorr      corr     p_val\n",
       "feature                                   \n",
       "ema_signal1   0.074386 -0.074386  0.008305\n",
       "aroon_signal  0.062820 -0.062820  0.025873\n",
       "ad_signal     0.061355 -0.061355  0.029551\n",
       "kama_signal1  0.054071 -0.054071  0.055201\n",
       "sar_signal    0.047943  0.047943  0.089181\n",
       "bb_signal     0.036060 -0.036060  0.201205\n",
       "adx_signal    0.023721 -0.023721  0.400553\n",
       "trix_signal   0.021312  0.021312  0.450117\n",
       "cv_signal     0.020341  0.020341  0.471014\n",
       "cci_signal    0.015993  0.015993  0.570916"
      ]
     },
     "execution_count": 3,
     "metadata": {},
     "output_type": "execute_result"
    }
   ],
   "source": [
    "# Code adapted from HW3 code\n",
    "from scipy.stats.stats import pearsonr\n",
    "correlations=[]\n",
    "for col in SIGNAL_VARS:\n",
    "    r=pearsonr(dftouse[col], dftouse['result_14'])\n",
    "    r_val=r[0]\n",
    "    p_val=r[1]\n",
    "    correlations.append(dict(feature=col,corr=r_val, abscorr=np.abs(r_val),p_val=p_val))\n",
    "\n",
    "bpdf=pd.DataFrame(correlations).sort('abscorr', ascending=False)\n",
    "bpdf.set_index(['feature'], inplace=True)\n",
    "bpdf.head(25)"
   ]
  },
  {
   "cell_type": "markdown",
   "metadata": {},
   "source": [
    "As we can see, most of the indicators have very high p-values and may turn out to be useless.  I will try the same analysis, but using quantitative indicators that I will normalize."
   ]
  },
  {
   "cell_type": "code",
   "execution_count": 4,
   "metadata": {
    "collapsed": false
   },
   "outputs": [
    {
     "name": "stdout",
     "output_type": "stream",
     "text": [
      "ema50        float64\n",
      "kama50       float64\n",
      "sar          float64\n",
      "trix         float64\n",
      "ad_osc       float64\n",
      "aroon_osc    float64\n",
      "adx          float64\n",
      "cci          float64\n",
      "perf_14      float64\n",
      "dtype: object\n",
      "(1258, 9)\n"
     ]
    }
   ],
   "source": [
    "# Variables with binary signals \n",
    "QUANT_VARS = ['ema50', 'kama50','sar','trix','ad_osc','aroon_osc','adx','cci']\n",
    "\n",
    "dftouse = df.copy()\n",
    "dftouse = dftouse[QUANT_VARS]\n",
    "dftouse['perf_14'] = df['perf_14'] \n",
    "print dftouse.dtypes\n",
    "print dftouse.shape"
   ]
  },
  {
   "cell_type": "code",
   "execution_count": 5,
   "metadata": {
    "collapsed": false
   },
   "outputs": [],
   "source": [
    "from sklearn.preprocessing import StandardScaler\n",
    "\n",
    "dfTemp = dftouse[QUANT_VARS].copy() # Temporary data frame with only standardizable data\n",
    "\n",
    "# Perform scaling \n",
    "dfTemp = StandardScaler().fit_transform(dfTemp)\n",
    "\n",
    "dftouse[QUANT_VARS] = dfTemp "
   ]
  },
  {
   "cell_type": "code",
   "execution_count": 6,
   "metadata": {
    "collapsed": false
   },
   "outputs": [
    {
     "data": {
      "text/html": [
       "<div>\n",
       "<table border=\"1\" class=\"dataframe\">\n",
       "  <thead>\n",
       "    <tr style=\"text-align: right;\">\n",
       "      <th></th>\n",
       "      <th>abscorr</th>\n",
       "      <th>corr</th>\n",
       "      <th>p_val</th>\n",
       "    </tr>\n",
       "    <tr>\n",
       "      <th>feature</th>\n",
       "      <th></th>\n",
       "      <th></th>\n",
       "      <th></th>\n",
       "    </tr>\n",
       "  </thead>\n",
       "  <tbody>\n",
       "    <tr>\n",
       "      <th>sar</th>\n",
       "      <td>0.157397</td>\n",
       "      <td>-0.157397</td>\n",
       "      <td>1.999204e-08</td>\n",
       "    </tr>\n",
       "    <tr>\n",
       "      <th>kama50</th>\n",
       "      <td>0.145411</td>\n",
       "      <td>-0.145411</td>\n",
       "      <td>2.219940e-07</td>\n",
       "    </tr>\n",
       "    <tr>\n",
       "      <th>ema50</th>\n",
       "      <td>0.144496</td>\n",
       "      <td>-0.144496</td>\n",
       "      <td>2.647119e-07</td>\n",
       "    </tr>\n",
       "    <tr>\n",
       "      <th>adx</th>\n",
       "      <td>0.102510</td>\n",
       "      <td>0.102510</td>\n",
       "      <td>2.706859e-04</td>\n",
       "    </tr>\n",
       "    <tr>\n",
       "      <th>trix</th>\n",
       "      <td>0.079920</td>\n",
       "      <td>-0.079920</td>\n",
       "      <td>4.563108e-03</td>\n",
       "    </tr>\n",
       "    <tr>\n",
       "      <th>aroon_osc</th>\n",
       "      <td>0.062322</td>\n",
       "      <td>-0.062322</td>\n",
       "      <td>2.707711e-02</td>\n",
       "    </tr>\n",
       "    <tr>\n",
       "      <th>ad_osc</th>\n",
       "      <td>0.061914</td>\n",
       "      <td>-0.061914</td>\n",
       "      <td>2.809861e-02</td>\n",
       "    </tr>\n",
       "    <tr>\n",
       "      <th>cci</th>\n",
       "      <td>0.059511</td>\n",
       "      <td>-0.059511</td>\n",
       "      <td>3.481235e-02</td>\n",
       "    </tr>\n",
       "  </tbody>\n",
       "</table>\n",
       "</div>"
      ],
      "text/plain": [
       "            abscorr      corr         p_val\n",
       "feature                                    \n",
       "sar        0.157397 -0.157397  1.999204e-08\n",
       "kama50     0.145411 -0.145411  2.219940e-07\n",
       "ema50      0.144496 -0.144496  2.647119e-07\n",
       "adx        0.102510  0.102510  2.706859e-04\n",
       "trix       0.079920 -0.079920  4.563108e-03\n",
       "aroon_osc  0.062322 -0.062322  2.707711e-02\n",
       "ad_osc     0.061914 -0.061914  2.809861e-02\n",
       "cci        0.059511 -0.059511  3.481235e-02"
      ]
     },
     "execution_count": 6,
     "metadata": {},
     "output_type": "execute_result"
    }
   ],
   "source": [
    "# Code adapted from HW3 code\n",
    "from scipy.stats.stats import pearsonr\n",
    "correlations=[]\n",
    "for col in QUANT_VARS:\n",
    "    r=pearsonr(dftouse[col], dftouse['perf_14'])\n",
    "    r_val=r[0]\n",
    "    p_val=r[1]\n",
    "    correlations.append(dict(feature=col,corr=r_val, abscorr=np.abs(r_val),p_val=p_val))\n",
    "\n",
    "bpdf=pd.DataFrame(correlations).sort('abscorr', ascending=False)\n",
    "bpdf.set_index(['feature'], inplace=True)\n",
    "bpdf.head(25)"
   ]
  },
  {
   "cell_type": "markdown",
   "metadata": {},
   "source": [
    "Conclusion: better used quantitative indicators whenever we can!"
   ]
  },
  {
   "cell_type": "code",
   "execution_count": 8,
   "metadata": {
    "collapsed": true
   },
   "outputs": [],
   "source": [
    "from sklearn.cross_validation import KFold\n",
    "from sklearn.metrics import accuracy_score\n",
    "from sklearn.grid_search import GridSearchCV## Trying a classifier"
   ]
  },
  {
   "cell_type": "code",
   "execution_count": 9,
   "metadata": {
    "collapsed": true
   },
   "outputs": [],
   "source": [
    "\n",
    "\"\"\"\n",
    "Function\n",
    "--------\n",
    "cv_optimize\n",
    "\n",
    "Inputs\n",
    "------\n",
    "clf : an instance of a scikit-learn classifier\n",
    "parameters: a parameter grid dictionary thats passed to GridSearchCV (see above)\n",
    "X: a samples-features matrix in the scikit-learn style\n",
    "y: the response vectors of 1s and 0s (+ives and -ives)\n",
    "n_folds: the number of cross-validation folds (default 5)\n",
    "score_func: a score function we might want to pass (default python None)\n",
    "   \n",
    "Returns\n",
    "-------\n",
    "The best estimator from the GridSearchCV, after the GridSearchCV has been used to\n",
    "fit the model.\n",
    "     \n",
    "Notes\n",
    "-----\n",
    "see do_classify and the code below for an example of how this is used\n",
    "\"\"\"\n",
    "\n",
    "# Adapted from lab code\n",
    "def cv_optimize(clf, parameters, X, y, n_folds=5,score_func=None):\n",
    "    if score_func is None:\n",
    "        score_func = \"accuracy\"\n",
    "    gs = GridSearchCV(clf, param_grid=parameters, cv=n_folds, scoring=score_func, verbose=1)\n",
    "    gs.fit(X,y)\n",
    "    print \"BEST PARAMS\", gs.best_params_\n",
    "    best = gs.best_estimator_\n",
    "    return best"
   ]
  },
  {
   "cell_type": "code",
   "execution_count": 10,
   "metadata": {
    "collapsed": true
   },
   "outputs": [],
   "source": [
    "# Adapted from HW3 code\n",
    "from sklearn.metrics import confusion_matrix\n",
    "def do_classify(clf, parameters, indf, featurenames, targetname, target1val, mask=None, reuse_split=None, score_func=None, n_folds=5):\n",
    "    subdf=indf[featurenames]\n",
    "    X=subdf.values\n",
    "    y=(indf[targetname].values==target1val)*1\n",
    "    if mask !=None:\n",
    "        print \"using mask\"\n",
    "        Xtrain, Xtest, ytrain, ytest = X[mask], X[~mask], y[mask], y[~mask]\n",
    "    if reuse_split !=None:\n",
    "        print \"using reuse split\"\n",
    "        Xtrain, Xtest, ytrain, ytest = reuse_split['Xtrain'], reuse_split['Xtest'], reuse_split['ytrain'], reuse_split['ytest']\n",
    "    if parameters:\n",
    "        clf = cv_optimize(clf, parameters, Xtrain, ytrain, n_folds=n_folds, score_func=score_func)\n",
    "    clf=clf.fit(Xtrain, ytrain)\n",
    "    training_accuracy = clf.score(Xtrain, ytrain)\n",
    "    test_accuracy = clf.score(Xtest, ytest)\n",
    "    print \"############# based on standard predict ################\"\n",
    "    print \"Accuracy on training data: %0.2f\" % (training_accuracy)\n",
    "    print \"Accuracy on test data:     %0.2f\" % (test_accuracy)\n",
    "    print confusion_matrix(ytest, clf.predict(Xtest))\n",
    "    print \"########################################################\"\n",
    "    return clf, Xtrain, ytrain, Xtest, ytest"
   ]
  },
  {
   "cell_type": "code",
   "execution_count": 11,
   "metadata": {
    "collapsed": false
   },
   "outputs": [
    {
     "data": {
      "text/html": [
       "<div>\n",
       "<table border=\"1\" class=\"dataframe\">\n",
       "  <thead>\n",
       "    <tr style=\"text-align: right;\">\n",
       "      <th></th>\n",
       "      <th>ema50</th>\n",
       "      <th>kama50</th>\n",
       "      <th>sar</th>\n",
       "      <th>trix</th>\n",
       "      <th>ad_osc</th>\n",
       "      <th>aroon_osc</th>\n",
       "      <th>adx</th>\n",
       "      <th>cci</th>\n",
       "      <th>result_14</th>\n",
       "    </tr>\n",
       "  </thead>\n",
       "  <tbody>\n",
       "    <tr>\n",
       "      <th>0</th>\n",
       "      <td>-1.199394</td>\n",
       "      <td>-1.266628</td>\n",
       "      <td>-1.101811</td>\n",
       "      <td>0.704543</td>\n",
       "      <td>0.026528</td>\n",
       "      <td>0.939467</td>\n",
       "      <td>-1.368680</td>\n",
       "      <td>0.463370</td>\n",
       "      <td>False</td>\n",
       "    </tr>\n",
       "    <tr>\n",
       "      <th>1</th>\n",
       "      <td>-1.196200</td>\n",
       "      <td>-1.264570</td>\n",
       "      <td>-1.153055</td>\n",
       "      <td>0.700694</td>\n",
       "      <td>0.391518</td>\n",
       "      <td>0.939467</td>\n",
       "      <td>-1.391379</td>\n",
       "      <td>0.914802</td>\n",
       "      <td>False</td>\n",
       "    </tr>\n",
       "    <tr>\n",
       "      <th>2</th>\n",
       "      <td>-1.192901</td>\n",
       "      <td>-1.261528</td>\n",
       "      <td>-1.152040</td>\n",
       "      <td>0.698001</td>\n",
       "      <td>0.314637</td>\n",
       "      <td>1.266125</td>\n",
       "      <td>-1.381587</td>\n",
       "      <td>1.115226</td>\n",
       "      <td>False</td>\n",
       "    </tr>\n",
       "    <tr>\n",
       "      <th>3</th>\n",
       "      <td>-1.188704</td>\n",
       "      <td>-1.256352</td>\n",
       "      <td>-1.149746</td>\n",
       "      <td>0.698782</td>\n",
       "      <td>1.275523</td>\n",
       "      <td>1.266125</td>\n",
       "      <td>-1.291869</td>\n",
       "      <td>1.297294</td>\n",
       "      <td>False</td>\n",
       "    </tr>\n",
       "    <tr>\n",
       "      <th>4</th>\n",
       "      <td>-1.183413</td>\n",
       "      <td>-1.247987</td>\n",
       "      <td>-1.145148</td>\n",
       "      <td>0.705502</td>\n",
       "      <td>2.355499</td>\n",
       "      <td>0.939467</td>\n",
       "      <td>-1.110247</td>\n",
       "      <td>2.008873</td>\n",
       "      <td>False</td>\n",
       "    </tr>\n",
       "  </tbody>\n",
       "</table>\n",
       "</div>"
      ],
      "text/plain": [
       "      ema50    kama50       sar      trix    ad_osc  aroon_osc       adx       cci result_14\n",
       "0 -1.199394 -1.266628 -1.101811  0.704543  0.026528   0.939467 -1.368680  0.463370     False\n",
       "1 -1.196200 -1.264570 -1.153055  0.700694  0.391518   0.939467 -1.391379  0.914802     False\n",
       "2 -1.192901 -1.261528 -1.152040  0.698001  0.314637   1.266125 -1.381587  1.115226     False\n",
       "3 -1.188704 -1.256352 -1.149746  0.698782  1.275523   1.266125 -1.291869  1.297294     False\n",
       "4 -1.183413 -1.247987 -1.145148  0.705502  2.355499   0.939467 -1.110247  2.008873     False"
      ]
     },
     "execution_count": 11,
     "metadata": {},
     "output_type": "execute_result"
    }
   ],
   "source": [
    "dftouse['result_14'] = df['result_14'] \n",
    "del dftouse['perf_14']\n",
    "dftouse.head()"
   ]
  },
  {
   "cell_type": "code",
   "execution_count": 13,
   "metadata": {
    "collapsed": false
   },
   "outputs": [
    {
     "ename": "UnboundLocalError",
     "evalue": "local variable 'Xtrain' referenced before assignment",
     "output_type": "error",
     "traceback": [
      "\u001b[0;31m---------------------------------------------------------------------------\u001b[0m",
      "\u001b[0;31mUnboundLocalError\u001b[0m                         Traceback (most recent call last)",
      "\u001b[0;32m<ipython-input-13-1fba0b551906>\u001b[0m in \u001b[0;36m<module>\u001b[0;34m()\u001b[0m\n\u001b[0;32m----> 1\u001b[0;31m \u001b[0mget_ipython\u001b[0m\u001b[0;34m(\u001b[0m\u001b[0;34m)\u001b[0m\u001b[0;34m.\u001b[0m\u001b[0mrun_cell_magic\u001b[0m\u001b[0;34m(\u001b[0m\u001b[0;34mu'time'\u001b[0m\u001b[0;34m,\u001b[0m \u001b[0;34mu''\u001b[0m\u001b[0;34m,\u001b[0m \u001b[0;34mu'from sklearn.svm import LinearSVC\\nclfsvm, Xtrain, ytrain, Xtest, ytest = do_classify(LinearSVC(loss=\"hinge\"), {\"C\": [0.001, 0.01, 0.1, 1.0, 10.0, 100.0]}, dftouse,QUANT_VARS, \\'result_14\\',True)'\u001b[0m\u001b[0;34m)\u001b[0m\u001b[0;34m\u001b[0m\u001b[0m\n\u001b[0m",
      "\u001b[0;32m/Users/Yvan-Laptop/anaconda/lib/python2.7/site-packages/IPython/core/interactiveshell.pyc\u001b[0m in \u001b[0;36mrun_cell_magic\u001b[0;34m(self, magic_name, line, cell)\u001b[0m\n\u001b[1;32m   2291\u001b[0m             \u001b[0mmagic_arg_s\u001b[0m \u001b[0;34m=\u001b[0m \u001b[0mself\u001b[0m\u001b[0;34m.\u001b[0m\u001b[0mvar_expand\u001b[0m\u001b[0;34m(\u001b[0m\u001b[0mline\u001b[0m\u001b[0;34m,\u001b[0m \u001b[0mstack_depth\u001b[0m\u001b[0;34m)\u001b[0m\u001b[0;34m\u001b[0m\u001b[0m\n\u001b[1;32m   2292\u001b[0m             \u001b[0;32mwith\u001b[0m \u001b[0mself\u001b[0m\u001b[0;34m.\u001b[0m\u001b[0mbuiltin_trap\u001b[0m\u001b[0;34m:\u001b[0m\u001b[0;34m\u001b[0m\u001b[0m\n\u001b[0;32m-> 2293\u001b[0;31m                 \u001b[0mresult\u001b[0m \u001b[0;34m=\u001b[0m \u001b[0mfn\u001b[0m\u001b[0;34m(\u001b[0m\u001b[0mmagic_arg_s\u001b[0m\u001b[0;34m,\u001b[0m \u001b[0mcell\u001b[0m\u001b[0;34m)\u001b[0m\u001b[0;34m\u001b[0m\u001b[0m\n\u001b[0m\u001b[1;32m   2294\u001b[0m             \u001b[0;32mreturn\u001b[0m \u001b[0mresult\u001b[0m\u001b[0;34m\u001b[0m\u001b[0m\n\u001b[1;32m   2295\u001b[0m \u001b[0;34m\u001b[0m\u001b[0m\n",
      "\u001b[0;32m/Users/Yvan-Laptop/anaconda/lib/python2.7/site-packages/IPython/core/magics/execution.pyc\u001b[0m in \u001b[0;36mtime\u001b[0;34m(self, line, cell, local_ns)\u001b[0m\n",
      "\u001b[0;32m/Users/Yvan-Laptop/anaconda/lib/python2.7/site-packages/IPython/core/magic.pyc\u001b[0m in \u001b[0;36m<lambda>\u001b[0;34m(f, *a, **k)\u001b[0m\n\u001b[1;32m    191\u001b[0m     \u001b[0;31m# but it's overkill for just that one bit of state.\u001b[0m\u001b[0;34m\u001b[0m\u001b[0;34m\u001b[0m\u001b[0m\n\u001b[1;32m    192\u001b[0m     \u001b[0;32mdef\u001b[0m \u001b[0mmagic_deco\u001b[0m\u001b[0;34m(\u001b[0m\u001b[0marg\u001b[0m\u001b[0;34m)\u001b[0m\u001b[0;34m:\u001b[0m\u001b[0;34m\u001b[0m\u001b[0m\n\u001b[0;32m--> 193\u001b[0;31m         \u001b[0mcall\u001b[0m \u001b[0;34m=\u001b[0m \u001b[0;32mlambda\u001b[0m \u001b[0mf\u001b[0m\u001b[0;34m,\u001b[0m \u001b[0;34m*\u001b[0m\u001b[0ma\u001b[0m\u001b[0;34m,\u001b[0m \u001b[0;34m**\u001b[0m\u001b[0mk\u001b[0m\u001b[0;34m:\u001b[0m \u001b[0mf\u001b[0m\u001b[0;34m(\u001b[0m\u001b[0;34m*\u001b[0m\u001b[0ma\u001b[0m\u001b[0;34m,\u001b[0m \u001b[0;34m**\u001b[0m\u001b[0mk\u001b[0m\u001b[0;34m)\u001b[0m\u001b[0;34m\u001b[0m\u001b[0m\n\u001b[0m\u001b[1;32m    194\u001b[0m \u001b[0;34m\u001b[0m\u001b[0m\n\u001b[1;32m    195\u001b[0m         \u001b[0;32mif\u001b[0m \u001b[0mcallable\u001b[0m\u001b[0;34m(\u001b[0m\u001b[0marg\u001b[0m\u001b[0;34m)\u001b[0m\u001b[0;34m:\u001b[0m\u001b[0;34m\u001b[0m\u001b[0m\n",
      "\u001b[0;32m/Users/Yvan-Laptop/anaconda/lib/python2.7/site-packages/IPython/core/magics/execution.pyc\u001b[0m in \u001b[0;36mtime\u001b[0;34m(self, line, cell, local_ns)\u001b[0m\n\u001b[1;32m   1165\u001b[0m         \u001b[0;32melse\u001b[0m\u001b[0;34m:\u001b[0m\u001b[0;34m\u001b[0m\u001b[0m\n\u001b[1;32m   1166\u001b[0m             \u001b[0mst\u001b[0m \u001b[0;34m=\u001b[0m \u001b[0mclock2\u001b[0m\u001b[0;34m(\u001b[0m\u001b[0;34m)\u001b[0m\u001b[0;34m\u001b[0m\u001b[0m\n\u001b[0;32m-> 1167\u001b[0;31m             \u001b[0;32mexec\u001b[0m\u001b[0;34m(\u001b[0m\u001b[0mcode\u001b[0m\u001b[0;34m,\u001b[0m \u001b[0mglob\u001b[0m\u001b[0;34m,\u001b[0m \u001b[0mlocal_ns\u001b[0m\u001b[0;34m)\u001b[0m\u001b[0;34m\u001b[0m\u001b[0m\n\u001b[0m\u001b[1;32m   1168\u001b[0m             \u001b[0mend\u001b[0m \u001b[0;34m=\u001b[0m \u001b[0mclock2\u001b[0m\u001b[0;34m(\u001b[0m\u001b[0;34m)\u001b[0m\u001b[0;34m\u001b[0m\u001b[0m\n\u001b[1;32m   1169\u001b[0m             \u001b[0mout\u001b[0m \u001b[0;34m=\u001b[0m \u001b[0mNone\u001b[0m\u001b[0;34m\u001b[0m\u001b[0m\n",
      "\u001b[0;32m<timed exec>\u001b[0m in \u001b[0;36m<module>\u001b[0;34m()\u001b[0m\n",
      "\u001b[0;32m<ipython-input-10-856e3c83c267>\u001b[0m in \u001b[0;36mdo_classify\u001b[0;34m(clf, parameters, indf, featurenames, targetname, target1val, mask, reuse_split, score_func, n_folds)\u001b[0m\n\u001b[1;32m     12\u001b[0m         \u001b[0mXtrain\u001b[0m\u001b[0;34m,\u001b[0m \u001b[0mXtest\u001b[0m\u001b[0;34m,\u001b[0m \u001b[0mytrain\u001b[0m\u001b[0;34m,\u001b[0m \u001b[0mytest\u001b[0m \u001b[0;34m=\u001b[0m \u001b[0mreuse_split\u001b[0m\u001b[0;34m[\u001b[0m\u001b[0;34m'Xtrain'\u001b[0m\u001b[0;34m]\u001b[0m\u001b[0;34m,\u001b[0m \u001b[0mreuse_split\u001b[0m\u001b[0;34m[\u001b[0m\u001b[0;34m'Xtest'\u001b[0m\u001b[0;34m]\u001b[0m\u001b[0;34m,\u001b[0m \u001b[0mreuse_split\u001b[0m\u001b[0;34m[\u001b[0m\u001b[0;34m'ytrain'\u001b[0m\u001b[0;34m]\u001b[0m\u001b[0;34m,\u001b[0m \u001b[0mreuse_split\u001b[0m\u001b[0;34m[\u001b[0m\u001b[0;34m'ytest'\u001b[0m\u001b[0;34m]\u001b[0m\u001b[0;34m\u001b[0m\u001b[0m\n\u001b[1;32m     13\u001b[0m     \u001b[0;32mif\u001b[0m \u001b[0mparameters\u001b[0m\u001b[0;34m:\u001b[0m\u001b[0;34m\u001b[0m\u001b[0m\n\u001b[0;32m---> 14\u001b[0;31m         \u001b[0mclf\u001b[0m \u001b[0;34m=\u001b[0m \u001b[0mcv_optimize\u001b[0m\u001b[0;34m(\u001b[0m\u001b[0mclf\u001b[0m\u001b[0;34m,\u001b[0m \u001b[0mparameters\u001b[0m\u001b[0;34m,\u001b[0m \u001b[0mXtrain\u001b[0m\u001b[0;34m,\u001b[0m \u001b[0mytrain\u001b[0m\u001b[0;34m,\u001b[0m \u001b[0mn_folds\u001b[0m\u001b[0;34m=\u001b[0m\u001b[0mn_folds\u001b[0m\u001b[0;34m,\u001b[0m \u001b[0mscore_func\u001b[0m\u001b[0;34m=\u001b[0m\u001b[0mscore_func\u001b[0m\u001b[0;34m)\u001b[0m\u001b[0;34m\u001b[0m\u001b[0m\n\u001b[0m\u001b[1;32m     15\u001b[0m     \u001b[0mclf\u001b[0m\u001b[0;34m=\u001b[0m\u001b[0mclf\u001b[0m\u001b[0;34m.\u001b[0m\u001b[0mfit\u001b[0m\u001b[0;34m(\u001b[0m\u001b[0mXtrain\u001b[0m\u001b[0;34m,\u001b[0m \u001b[0mytrain\u001b[0m\u001b[0;34m)\u001b[0m\u001b[0;34m\u001b[0m\u001b[0m\n\u001b[1;32m     16\u001b[0m     \u001b[0mtraining_accuracy\u001b[0m \u001b[0;34m=\u001b[0m \u001b[0mclf\u001b[0m\u001b[0;34m.\u001b[0m\u001b[0mscore\u001b[0m\u001b[0;34m(\u001b[0m\u001b[0mXtrain\u001b[0m\u001b[0;34m,\u001b[0m \u001b[0mytrain\u001b[0m\u001b[0;34m)\u001b[0m\u001b[0;34m\u001b[0m\u001b[0m\n",
      "\u001b[0;31mUnboundLocalError\u001b[0m: local variable 'Xtrain' referenced before assignment"
     ]
    }
   ],
   "source": [
    "%%time\n",
    "from sklearn.svm import LinearSVC\n",
    "clfsvm, Xtrain, ytrain, Xtest, ytest = do_classify(LinearSVC(loss=\"hinge\"), {\"C\": [0.001, 0.01, 0.1, 1.0, 10.0, 100.0]}, dftouse,QUANT_VARS, 'result_14',True)"
   ]
  },
  {
   "cell_type": "code",
   "execution_count": null,
   "metadata": {
    "collapsed": true
   },
   "outputs": [],
   "source": []
  }
 ],
 "metadata": {
  "kernelspec": {
   "display_name": "Python 2",
   "language": "python",
   "name": "python2"
  },
  "language_info": {
   "codemirror_mode": {
    "name": "ipython",
    "version": 2
   },
   "file_extension": ".py",
   "mimetype": "text/x-python",
   "name": "python",
   "nbconvert_exporter": "python",
   "pygments_lexer": "ipython2",
   "version": "2.7.10"
  }
 },
 "nbformat": 4,
 "nbformat_minor": 0
}
