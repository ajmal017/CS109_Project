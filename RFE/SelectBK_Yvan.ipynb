{
 "cells": [
  {
   "cell_type": "markdown",
   "metadata": {},
   "source": [
    "# ML Feature enginerring - SelectKbest"
   ]
  },
  {
   "cell_type": "code",
   "execution_count": 1,
   "metadata": {
    "collapsed": false
   },
   "outputs": [],
   "source": [
    "%matplotlib inline\n",
    "%run ../talibref.py\n",
    "%run ensemble.py\n",
    "import numpy as np\n",
    "import scipy as sp\n",
    "import matplotlib as mpl\n",
    "import matplotlib.cm as cm\n",
    "import matplotlib.pyplot as plt\n",
    "import pandas as pd\n",
    "import time\n",
    "pd.set_option('display.width', 500)\n",
    "pd.set_option('display.max_columns', 100)\n",
    "pd.set_option('display.notebook_repr_html', True)\n",
    "import seaborn as sns\n",
    "sns.set_style(\"whitegrid\")\n",
    "sns.set_context(\"poster\")"
   ]
  },
  {
   "cell_type": "markdown",
   "metadata": {},
   "source": [
    "### Get data"
   ]
  },
  {
   "cell_type": "code",
   "execution_count": 2,
   "metadata": {
    "collapsed": false
   },
   "outputs": [
    {
     "name": "stdout",
     "output_type": "stream",
     "text": [
      "Available data: Ticker(IYJ) from 2000.07.14 to 2015.12.02\n",
      "Usable data: Ticker(IYJ) from 2001.05.01 to 2015.12.02 \n",
      "Returned data: Ticker(IYJ) from 2010.01.04 to 2015.12.02 \n",
      "Save path: data/IYJ_from_2010.01.04_2015.12.02.csv\n"
     ]
    }
   ],
   "source": [
    "#df=pd.read_csv(\"data/IYZ.csv\")\n",
    "ticker = 'IYJ'\n",
    "startdate=datetime.date(2010, 1, 1)\n",
    "enddate=datetime.date.today()\n",
    "df = generate_ticker_data(ticker, startdate, enddate)"
   ]
  },
  {
   "cell_type": "code",
   "execution_count": 3,
   "metadata": {
    "collapsed": false
   },
   "outputs": [],
   "source": [
    "dftouse=df.copy()"
   ]
  },
  {
   "cell_type": "markdown",
   "metadata": {},
   "source": [
    "### Feature Engineering"
   ]
  },
  {
   "cell_type": "code",
   "execution_count": 4,
   "metadata": {
    "collapsed": true
   },
   "outputs": [],
   "source": [
    "IGNORE = ['date', 'result_1','close_1','perf_1','result_14','close_14','perf_14','results']"
   ]
  },
  {
   "cell_type": "code",
   "execution_count": 5,
   "metadata": {
    "collapsed": false
   },
   "outputs": [],
   "source": [
    "INDICATORS=[]\n",
    "for v in df.columns:\n",
    "    l=df[v].unique()\n",
    "    if len(l) <= 10 and v not in IGNORE:\n",
    "        #print v, l\n",
    "        INDICATORS.append(v)"
   ]
  },
  {
   "cell_type": "code",
   "execution_count": 6,
   "metadata": {
    "collapsed": false
   },
   "outputs": [],
   "source": [
    "STANDARDIZABLE = []\n",
    "for v in df.columns:\n",
    "    if v not in INDICATORS and v not in IGNORE:\n",
    "        #print v\n",
    "        STANDARDIZABLE.append(v)"
   ]
  },
  {
   "cell_type": "code",
   "execution_count": 7,
   "metadata": {
    "collapsed": false
   },
   "outputs": [
    {
     "name": "stdout",
     "output_type": "stream",
     "text": [
      "####### Loading data for ^GSPC....\n",
      "Available data: Ticker(^GSPC) from 1950.01.03 to 2015.12.02\n",
      "Usable data: Ticker(^GSPC) from 1962.05.28 to 2015.12.02 \n",
      "Returned data: Ticker(^GSPC) from 2010.01.04 to 2015.12.02 \n",
      "Save path: data/^GSPC_from_2010.01.04_2015.12.02.csv\n",
      "####### Loading data for OIL....\n",
      "Available data: Ticker(OIL) from 2006.08.16 to 2015.12.02\n",
      "Usable data: Ticker(OIL) from 2007.06.05 to 2015.12.02 \n",
      "Returned data: Ticker(OIL) from 2010.01.04 to 2015.12.02 \n",
      "Save path: data/OIL_from_2010.01.04_2015.12.02.csv\n"
     ]
    },
    {
     "data": {
      "text/html": [
       "<div>\n",
       "<table border=\"1\" class=\"dataframe\">\n",
       "  <thead>\n",
       "    <tr style=\"text-align: right;\">\n",
       "      <th></th>\n",
       "      <th>date</th>\n",
       "      <th>open</th>\n",
       "      <th>high</th>\n",
       "      <th>low</th>\n",
       "      <th>close</th>\n",
       "      <th>volume</th>\n",
       "      <th>close_1</th>\n",
       "      <th>result_1</th>\n",
       "      <th>perf_1</th>\n",
       "      <th>close_14</th>\n",
       "      <th>result_14</th>\n",
       "      <th>perf_14</th>\n",
       "      <th>results</th>\n",
       "      <th>bb_upper</th>\n",
       "      <th>bb_middle</th>\n",
       "      <th>bb_lower</th>\n",
       "      <th>bb_pct</th>\n",
       "      <th>bb_bandwidth</th>\n",
       "      <th>bb_squeeze</th>\n",
       "      <th>bb_signalup</th>\n",
       "      <th>bb_signaldn</th>\n",
       "      <th>bb_signal</th>\n",
       "      <th>ema50</th>\n",
       "      <th>ema150</th>\n",
       "      <th>ema200</th>\n",
       "      <th>ema_signal1</th>\n",
       "      <th>ema_signal2</th>\n",
       "      <th>kama50</th>\n",
       "      <th>kama150</th>\n",
       "      <th>kama200</th>\n",
       "      <th>kama_signal1</th>\n",
       "      <th>kama_signal2</th>\n",
       "      <th>sar</th>\n",
       "      <th>sar_signal</th>\n",
       "      <th>adx</th>\n",
       "      <th>plus_di</th>\n",
       "      <th>minus_di</th>\n",
       "      <th>adx_trend</th>\n",
       "      <th>adx_direction</th>\n",
       "      <th>adx_signal</th>\n",
       "      <th>aroon_osc</th>\n",
       "      <th>aroon_signal</th>\n",
       "      <th>cci</th>\n",
       "      <th>cci_signal</th>\n",
       "      <th>macd</th>\n",
       "      <th>macd_sigline</th>\n",
       "      <th>macd_hist</th>\n",
       "      <th>macd_signal</th>\n",
       "      <th>ppo</th>\n",
       "      <th>ppo_signal</th>\n",
       "      <th>mfi</th>\n",
       "      <th>mfi_signal</th>\n",
       "      <th>roc</th>\n",
       "      <th>roc_signal</th>\n",
       "      <th>rsi</th>\n",
       "      <th>rsi_signal</th>\n",
       "      <th>ult_osc</th>\n",
       "      <th>ult_signal</th>\n",
       "      <th>willr</th>\n",
       "      <th>wr_signal</th>\n",
       "      <th>ad_osc</th>\n",
       "      <th>ad_signal</th>\n",
       "      <th>stoch_slowk</th>\n",
       "      <th>stoch_slowd</th>\n",
       "      <th>sslow_signal</th>\n",
       "      <th>stoch_fastk</th>\n",
       "      <th>stoch_fastd</th>\n",
       "      <th>srsi_signal</th>\n",
       "      <th>trix</th>\n",
       "      <th>trix_signal</th>\n",
       "      <th>sr_pivotpts</th>\n",
       "      <th>sr_res1</th>\n",
       "      <th>sr_sup1</th>\n",
       "      <th>sr_res2</th>\n",
       "      <th>sr_sup2</th>\n",
       "      <th>sr_res3</th>\n",
       "      <th>sr_sup3</th>\n",
       "      <th>cv_signal</th>\n",
       "      <th>roc_^GSPC</th>\n",
       "      <th>stoch_slowk_^GSPC</th>\n",
       "      <th>cci_signal_^GSPC</th>\n",
       "      <th>roc_OIL</th>\n",
       "      <th>stoch_slowk_OIL</th>\n",
       "      <th>cci_signal_OIL</th>\n",
       "    </tr>\n",
       "  </thead>\n",
       "  <tbody>\n",
       "    <tr>\n",
       "      <th>0</th>\n",
       "      <td>2010-01-04</td>\n",
       "      <td>53.189999</td>\n",
       "      <td>54.049999</td>\n",
       "      <td>53.189999</td>\n",
       "      <td>53.970001</td>\n",
       "      <td>46200</td>\n",
       "      <td>54.119999</td>\n",
       "      <td>True</td>\n",
       "      <td>0.002779</td>\n",
       "      <td>52.730000</td>\n",
       "      <td>False</td>\n",
       "      <td>-0.022976</td>\n",
       "      <td>1</td>\n",
       "      <td>54.222884</td>\n",
       "      <td>53.3775</td>\n",
       "      <td>52.532115</td>\n",
       "      <td>0.850433</td>\n",
       "      <td>3.167569</td>\n",
       "      <td>True</td>\n",
       "      <td>False</td>\n",
       "      <td>False</td>\n",
       "      <td>1</td>\n",
       "      <td>52.338221</td>\n",
       "      <td>49.217632</td>\n",
       "      <td>48.694854</td>\n",
       "      <td>1</td>\n",
       "      <td>1</td>\n",
       "      <td>51.557495</td>\n",
       "      <td>50.982940</td>\n",
       "      <td>50.002453</td>\n",
       "      <td>1</td>\n",
       "      <td>1</td>\n",
       "      <td>54.068800</td>\n",
       "      <td>0</td>\n",
       "      <td>9.779293</td>\n",
       "      <td>24.726332</td>\n",
       "      <td>24.399276</td>\n",
       "      <td>False</td>\n",
       "      <td>True</td>\n",
       "      <td>1</td>\n",
       "      <td>80</td>\n",
       "      <td>1</td>\n",
       "      <td>52.090771</td>\n",
       "      <td>1</td>\n",
       "      <td>0.393253</td>\n",
       "      <td>0.440465</td>\n",
       "      <td>-0.047212</td>\n",
       "      <td>0</td>\n",
       "      <td>0.695926</td>\n",
       "      <td>1</td>\n",
       "      <td>52.270638</td>\n",
       "      <td>1</td>\n",
       "      <td>1.734217</td>\n",
       "      <td>0</td>\n",
       "      <td>59.354174</td>\n",
       "      <td>0</td>\n",
       "      <td>53.369399</td>\n",
       "      <td>0</td>\n",
       "      <td>-8.955149</td>\n",
       "      <td>0</td>\n",
       "      <td>-7229.083239</td>\n",
       "      <td>0</td>\n",
       "      <td>47.281364</td>\n",
       "      <td>50.553030</td>\n",
       "      <td>0</td>\n",
       "      <td>80.475901</td>\n",
       "      <td>26.825300</td>\n",
       "      <td>0</td>\n",
       "      <td>0.135456</td>\n",
       "      <td>1</td>\n",
       "      <td>53.736666</td>\n",
       "      <td>56.493333</td>\n",
       "      <td>53.383333</td>\n",
       "      <td>56.846666</td>\n",
       "      <td>50.626666</td>\n",
       "      <td>59.603333</td>\n",
       "      <td>50.273333</td>\n",
       "      <td>1</td>\n",
       "      <td>3.367458</td>\n",
       "      <td>56.569007</td>\n",
       "      <td>1</td>\n",
       "      <td>11.120401</td>\n",
       "      <td>91.158111</td>\n",
       "      <td>0</td>\n",
       "    </tr>\n",
       "    <tr>\n",
       "      <th>1</th>\n",
       "      <td>2010-01-05</td>\n",
       "      <td>53.990002</td>\n",
       "      <td>54.209999</td>\n",
       "      <td>53.790001</td>\n",
       "      <td>54.119999</td>\n",
       "      <td>64300</td>\n",
       "      <td>54.220001</td>\n",
       "      <td>True</td>\n",
       "      <td>0.001848</td>\n",
       "      <td>52.950001</td>\n",
       "      <td>False</td>\n",
       "      <td>-0.021619</td>\n",
       "      <td>1</td>\n",
       "      <td>54.323151</td>\n",
       "      <td>53.4205</td>\n",
       "      <td>52.517849</td>\n",
       "      <td>0.887469</td>\n",
       "      <td>3.379418</td>\n",
       "      <td>True</td>\n",
       "      <td>False</td>\n",
       "      <td>False</td>\n",
       "      <td>1</td>\n",
       "      <td>52.408095</td>\n",
       "      <td>49.282564</td>\n",
       "      <td>48.748835</td>\n",
       "      <td>1</td>\n",
       "      <td>1</td>\n",
       "      <td>51.601240</td>\n",
       "      <td>51.048146</td>\n",
       "      <td>50.131333</td>\n",
       "      <td>1</td>\n",
       "      <td>1</td>\n",
       "      <td>53.029999</td>\n",
       "      <td>1</td>\n",
       "      <td>9.397055</td>\n",
       "      <td>25.372202</td>\n",
       "      <td>23.220531</td>\n",
       "      <td>False</td>\n",
       "      <td>True</td>\n",
       "      <td>1</td>\n",
       "      <td>100</td>\n",
       "      <td>1</td>\n",
       "      <td>129.266257</td>\n",
       "      <td>1</td>\n",
       "      <td>0.411119</td>\n",
       "      <td>0.434596</td>\n",
       "      <td>-0.023477</td>\n",
       "      <td>0</td>\n",
       "      <td>0.688899</td>\n",
       "      <td>1</td>\n",
       "      <td>53.483855</td>\n",
       "      <td>1</td>\n",
       "      <td>1.997735</td>\n",
       "      <td>0</td>\n",
       "      <td>60.633432</td>\n",
       "      <td>0</td>\n",
       "      <td>52.510015</td>\n",
       "      <td>0</td>\n",
       "      <td>-6.164388</td>\n",
       "      <td>0</td>\n",
       "      <td>9198.551251</td>\n",
       "      <td>1</td>\n",
       "      <td>60.350744</td>\n",
       "      <td>49.801431</td>\n",
       "      <td>0</td>\n",
       "      <td>91.337322</td>\n",
       "      <td>57.271074</td>\n",
       "      <td>0</td>\n",
       "      <td>0.134659</td>\n",
       "      <td>1</td>\n",
       "      <td>54.040000</td>\n",
       "      <td>57.099999</td>\n",
       "      <td>53.870000</td>\n",
       "      <td>57.269999</td>\n",
       "      <td>50.810001</td>\n",
       "      <td>60.329998</td>\n",
       "      <td>50.640001</td>\n",
       "      <td>1</td>\n",
       "      <td>3.088524</td>\n",
       "      <td>65.580311</td>\n",
       "      <td>1</td>\n",
       "      <td>10.696517</td>\n",
       "      <td>94.360616</td>\n",
       "      <td>0</td>\n",
       "    </tr>\n",
       "    <tr>\n",
       "      <th>2</th>\n",
       "      <td>2010-01-06</td>\n",
       "      <td>54.150002</td>\n",
       "      <td>54.349998</td>\n",
       "      <td>54.150002</td>\n",
       "      <td>54.220001</td>\n",
       "      <td>66500</td>\n",
       "      <td>54.750000</td>\n",
       "      <td>True</td>\n",
       "      <td>0.009775</td>\n",
       "      <td>52.799999</td>\n",
       "      <td>False</td>\n",
       "      <td>-0.026190</td>\n",
       "      <td>1</td>\n",
       "      <td>54.431958</td>\n",
       "      <td>53.4685</td>\n",
       "      <td>52.505042</td>\n",
       "      <td>0.890002</td>\n",
       "      <td>3.603834</td>\n",
       "      <td>True</td>\n",
       "      <td>False</td>\n",
       "      <td>False</td>\n",
       "      <td>1</td>\n",
       "      <td>52.479150</td>\n",
       "      <td>49.347961</td>\n",
       "      <td>48.803275</td>\n",
       "      <td>1</td>\n",
       "      <td>1</td>\n",
       "      <td>51.666056</td>\n",
       "      <td>51.122824</td>\n",
       "      <td>50.244748</td>\n",
       "      <td>1</td>\n",
       "      <td>1</td>\n",
       "      <td>53.053599</td>\n",
       "      <td>1</td>\n",
       "      <td>9.277359</td>\n",
       "      <td>26.355533</td>\n",
       "      <td>22.577283</td>\n",
       "      <td>False</td>\n",
       "      <td>True</td>\n",
       "      <td>1</td>\n",
       "      <td>100</td>\n",
       "      <td>1</td>\n",
       "      <td>155.845758</td>\n",
       "      <td>1</td>\n",
       "      <td>0.428409</td>\n",
       "      <td>0.433359</td>\n",
       "      <td>-0.004950</td>\n",
       "      <td>0</td>\n",
       "      <td>0.709069</td>\n",
       "      <td>1</td>\n",
       "      <td>53.723046</td>\n",
       "      <td>1</td>\n",
       "      <td>1.592659</td>\n",
       "      <td>0</td>\n",
       "      <td>61.503340</td>\n",
       "      <td>0</td>\n",
       "      <td>51.312050</td>\n",
       "      <td>0</td>\n",
       "      <td>-8.124823</td>\n",
       "      <td>0</td>\n",
       "      <td>8735.072612</td>\n",
       "      <td>1</td>\n",
       "      <td>90.401322</td>\n",
       "      <td>66.011143</td>\n",
       "      <td>0</td>\n",
       "      <td>100.000000</td>\n",
       "      <td>90.604408</td>\n",
       "      <td>0</td>\n",
       "      <td>0.133978</td>\n",
       "      <td>1</td>\n",
       "      <td>54.240000</td>\n",
       "      <td>57.500001</td>\n",
       "      <td>54.130003</td>\n",
       "      <td>57.609998</td>\n",
       "      <td>50.870002</td>\n",
       "      <td>60.869999</td>\n",
       "      <td>50.760005</td>\n",
       "      <td>1</td>\n",
       "      <td>2.072615</td>\n",
       "      <td>95.490211</td>\n",
       "      <td>1</td>\n",
       "      <td>13.871370</td>\n",
       "      <td>96.383747</td>\n",
       "      <td>0</td>\n",
       "    </tr>\n",
       "    <tr>\n",
       "      <th>3</th>\n",
       "      <td>2010-01-07</td>\n",
       "      <td>54.139999</td>\n",
       "      <td>54.830002</td>\n",
       "      <td>53.970001</td>\n",
       "      <td>54.750000</td>\n",
       "      <td>86500</td>\n",
       "      <td>55.430000</td>\n",
       "      <td>True</td>\n",
       "      <td>0.012420</td>\n",
       "      <td>52.930000</td>\n",
       "      <td>False</td>\n",
       "      <td>-0.033242</td>\n",
       "      <td>1</td>\n",
       "      <td>54.599599</td>\n",
       "      <td>53.5780</td>\n",
       "      <td>52.556401</td>\n",
       "      <td>1.073611</td>\n",
       "      <td>3.813502</td>\n",
       "      <td>True</td>\n",
       "      <td>True</td>\n",
       "      <td>False</td>\n",
       "      <td>1</td>\n",
       "      <td>52.568203</td>\n",
       "      <td>49.419511</td>\n",
       "      <td>48.862446</td>\n",
       "      <td>1</td>\n",
       "      <td>1</td>\n",
       "      <td>51.773798</td>\n",
       "      <td>51.206540</td>\n",
       "      <td>50.376313</td>\n",
       "      <td>1</td>\n",
       "      <td>1</td>\n",
       "      <td>53.105455</td>\n",
       "      <td>1</td>\n",
       "      <td>9.910203</td>\n",
       "      <td>29.311848</td>\n",
       "      <td>20.311559</td>\n",
       "      <td>False</td>\n",
       "      <td>True</td>\n",
       "      <td>1</td>\n",
       "      <td>76</td>\n",
       "      <td>1</td>\n",
       "      <td>176.280276</td>\n",
       "      <td>1</td>\n",
       "      <td>0.479352</td>\n",
       "      <td>0.442557</td>\n",
       "      <td>0.036795</td>\n",
       "      <td>1</td>\n",
       "      <td>0.776210</td>\n",
       "      <td>1</td>\n",
       "      <td>63.417454</td>\n",
       "      <td>1</td>\n",
       "      <td>2.069353</td>\n",
       "      <td>0</td>\n",
       "      <td>65.814893</td>\n",
       "      <td>0</td>\n",
       "      <td>59.517485</td>\n",
       "      <td>0</td>\n",
       "      <td>-3.846246</td>\n",
       "      <td>0</td>\n",
       "      <td>30153.468018</td>\n",
       "      <td>1</td>\n",
       "      <td>92.693356</td>\n",
       "      <td>81.148474</td>\n",
       "      <td>0</td>\n",
       "      <td>100.000000</td>\n",
       "      <td>97.112441</td>\n",
       "      <td>0</td>\n",
       "      <td>0.133640</td>\n",
       "      <td>1</td>\n",
       "      <td>54.516668</td>\n",
       "      <td>58.053335</td>\n",
       "      <td>54.203333</td>\n",
       "      <td>58.366670</td>\n",
       "      <td>50.666666</td>\n",
       "      <td>61.903337</td>\n",
       "      <td>50.353331</td>\n",
       "      <td>1</td>\n",
       "      <td>2.117129</td>\n",
       "      <td>96.100927</td>\n",
       "      <td>1</td>\n",
       "      <td>11.928517</td>\n",
       "      <td>90.221762</td>\n",
       "      <td>0</td>\n",
       "    </tr>\n",
       "    <tr>\n",
       "      <th>4</th>\n",
       "      <td>2010-01-08</td>\n",
       "      <td>54.599998</td>\n",
       "      <td>55.480000</td>\n",
       "      <td>54.599998</td>\n",
       "      <td>55.430000</td>\n",
       "      <td>82200</td>\n",
       "      <td>55.849998</td>\n",
       "      <td>True</td>\n",
       "      <td>0.007577</td>\n",
       "      <td>52.139999</td>\n",
       "      <td>False</td>\n",
       "      <td>-0.059354</td>\n",
       "      <td>0</td>\n",
       "      <td>54.927084</td>\n",
       "      <td>53.7195</td>\n",
       "      <td>52.511916</td>\n",
       "      <td>1.208232</td>\n",
       "      <td>4.495887</td>\n",
       "      <td>True</td>\n",
       "      <td>True</td>\n",
       "      <td>False</td>\n",
       "      <td>1</td>\n",
       "      <td>52.680430</td>\n",
       "      <td>49.499120</td>\n",
       "      <td>48.927795</td>\n",
       "      <td>1</td>\n",
       "      <td>1</td>\n",
       "      <td>51.946854</td>\n",
       "      <td>51.307196</td>\n",
       "      <td>50.530916</td>\n",
       "      <td>1</td>\n",
       "      <td>1</td>\n",
       "      <td>53.208928</td>\n",
       "      <td>1</td>\n",
       "      <td>11.324312</td>\n",
       "      <td>33.748070</td>\n",
       "      <td>18.289028</td>\n",
       "      <td>False</td>\n",
       "      <td>True</td>\n",
       "      <td>1</td>\n",
       "      <td>80</td>\n",
       "      <td>1</td>\n",
       "      <td>237.038937</td>\n",
       "      <td>0</td>\n",
       "      <td>0.568047</td>\n",
       "      <td>0.467655</td>\n",
       "      <td>0.100392</td>\n",
       "      <td>1</td>\n",
       "      <td>0.907952</td>\n",
       "      <td>1</td>\n",
       "      <td>70.635440</td>\n",
       "      <td>1</td>\n",
       "      <td>3.356328</td>\n",
       "      <td>0</td>\n",
       "      <td>70.396084</td>\n",
       "      <td>0</td>\n",
       "      <td>66.046931</td>\n",
       "      <td>0</td>\n",
       "      <td>-1.831502</td>\n",
       "      <td>0</td>\n",
       "      <td>59356.759273</td>\n",
       "      <td>1</td>\n",
       "      <td>94.507927</td>\n",
       "      <td>92.534202</td>\n",
       "      <td>0</td>\n",
       "      <td>100.000000</td>\n",
       "      <td>100.000000</td>\n",
       "      <td>0</td>\n",
       "      <td>0.133905</td>\n",
       "      <td>1</td>\n",
       "      <td>55.169999</td>\n",
       "      <td>59.359999</td>\n",
       "      <td>54.859999</td>\n",
       "      <td>59.669999</td>\n",
       "      <td>50.669999</td>\n",
       "      <td>63.859999</td>\n",
       "      <td>50.359999</td>\n",
       "      <td>1</td>\n",
       "      <td>2.176533</td>\n",
       "      <td>95.794862</td>\n",
       "      <td>1</td>\n",
       "      <td>8.644949</td>\n",
       "      <td>83.315586</td>\n",
       "      <td>0</td>\n",
       "    </tr>\n",
       "  </tbody>\n",
       "</table>\n",
       "</div>"
      ],
      "text/plain": [
       "         date       open       high        low      close  volume    close_1 result_1    perf_1   close_14 result_14   perf_14  results   bb_upper  bb_middle   bb_lower    bb_pct  bb_bandwidth bb_squeeze bb_signalup bb_signaldn  bb_signal      ema50     ema150     ema200  ema_signal1  ema_signal2     kama50    kama150    kama200  kama_signal1  kama_signal2        sar  sar_signal        adx    plus_di   minus_di adx_trend adx_direction  adx_signal  aroon_osc  aroon_signal         cci  \\\n",
       "0  2010-01-04  53.189999  54.049999  53.189999  53.970001   46200  54.119999     True  0.002779  52.730000     False -0.022976        1  54.222884    53.3775  52.532115  0.850433      3.167569       True       False       False          1  52.338221  49.217632  48.694854            1            1  51.557495  50.982940  50.002453             1             1  54.068800           0   9.779293  24.726332  24.399276     False          True           1         80             1   52.090771   \n",
       "1  2010-01-05  53.990002  54.209999  53.790001  54.119999   64300  54.220001     True  0.001848  52.950001     False -0.021619        1  54.323151    53.4205  52.517849  0.887469      3.379418       True       False       False          1  52.408095  49.282564  48.748835            1            1  51.601240  51.048146  50.131333             1             1  53.029999           1   9.397055  25.372202  23.220531     False          True           1        100             1  129.266257   \n",
       "2  2010-01-06  54.150002  54.349998  54.150002  54.220001   66500  54.750000     True  0.009775  52.799999     False -0.026190        1  54.431958    53.4685  52.505042  0.890002      3.603834       True       False       False          1  52.479150  49.347961  48.803275            1            1  51.666056  51.122824  50.244748             1             1  53.053599           1   9.277359  26.355533  22.577283     False          True           1        100             1  155.845758   \n",
       "3  2010-01-07  54.139999  54.830002  53.970001  54.750000   86500  55.430000     True  0.012420  52.930000     False -0.033242        1  54.599599    53.5780  52.556401  1.073611      3.813502       True        True       False          1  52.568203  49.419511  48.862446            1            1  51.773798  51.206540  50.376313             1             1  53.105455           1   9.910203  29.311848  20.311559     False          True           1         76             1  176.280276   \n",
       "4  2010-01-08  54.599998  55.480000  54.599998  55.430000   82200  55.849998     True  0.007577  52.139999     False -0.059354        0  54.927084    53.7195  52.511916  1.208232      4.495887       True        True       False          1  52.680430  49.499120  48.927795            1            1  51.946854  51.307196  50.530916             1             1  53.208928           1  11.324312  33.748070  18.289028     False          True           1         80             1  237.038937   \n",
       "\n",
       "   cci_signal      macd  macd_sigline  macd_hist  macd_signal       ppo  ppo_signal        mfi  mfi_signal       roc  roc_signal        rsi  rsi_signal    ult_osc  ult_signal     willr  wr_signal        ad_osc  ad_signal  stoch_slowk  stoch_slowd  sslow_signal  stoch_fastk  stoch_fastd  srsi_signal      trix  trix_signal  sr_pivotpts    sr_res1    sr_sup1    sr_res2    sr_sup2    sr_res3    sr_sup3  cv_signal  roc_^GSPC  stoch_slowk_^GSPC  cci_signal_^GSPC    roc_OIL  stoch_slowk_OIL  \\\n",
       "0           1  0.393253      0.440465  -0.047212            0  0.695926           1  52.270638           1  1.734217           0  59.354174           0  53.369399           0 -8.955149          0  -7229.083239          0    47.281364    50.553030             0    80.475901    26.825300            0  0.135456            1    53.736666  56.493333  53.383333  56.846666  50.626666  59.603333  50.273333          1   3.367458          56.569007                 1  11.120401        91.158111   \n",
       "1           1  0.411119      0.434596  -0.023477            0  0.688899           1  53.483855           1  1.997735           0  60.633432           0  52.510015           0 -6.164388          0   9198.551251          1    60.350744    49.801431             0    91.337322    57.271074            0  0.134659            1    54.040000  57.099999  53.870000  57.269999  50.810001  60.329998  50.640001          1   3.088524          65.580311                 1  10.696517        94.360616   \n",
       "2           1  0.428409      0.433359  -0.004950            0  0.709069           1  53.723046           1  1.592659           0  61.503340           0  51.312050           0 -8.124823          0   8735.072612          1    90.401322    66.011143             0   100.000000    90.604408            0  0.133978            1    54.240000  57.500001  54.130003  57.609998  50.870002  60.869999  50.760005          1   2.072615          95.490211                 1  13.871370        96.383747   \n",
       "3           1  0.479352      0.442557   0.036795            1  0.776210           1  63.417454           1  2.069353           0  65.814893           0  59.517485           0 -3.846246          0  30153.468018          1    92.693356    81.148474             0   100.000000    97.112441            0  0.133640            1    54.516668  58.053335  54.203333  58.366670  50.666666  61.903337  50.353331          1   2.117129          96.100927                 1  11.928517        90.221762   \n",
       "4           0  0.568047      0.467655   0.100392            1  0.907952           1  70.635440           1  3.356328           0  70.396084           0  66.046931           0 -1.831502          0  59356.759273          1    94.507927    92.534202             0   100.000000   100.000000            0  0.133905            1    55.169999  59.359999  54.859999  59.669999  50.669999  63.859999  50.359999          1   2.176533          95.794862                 1   8.644949        83.315586   \n",
       "\n",
       "   cci_signal_OIL  \n",
       "0               0  \n",
       "1               0  \n",
       "2               0  \n",
       "3               0  \n",
       "4               0  "
      ]
     },
     "execution_count": 7,
     "metadata": {},
     "output_type": "execute_result"
    }
   ],
   "source": [
    "################################################\n",
    "# Code to add signals from other tickers\n",
    "################################################\n",
    "\n",
    "# Additional tickers to consider\n",
    "moreTickers = [\n",
    "               '^GSPC', #S&P500\n",
    "               #'^dji',  #Dow Jones Industrials\n",
    "               #'^IXIC', #Nasdaq\n",
    "               'OIL'   #Oil price ETF\n",
    "              ]\n",
    "\n",
    "# Signals for additional tickers\n",
    "STANDARDIZABLE_TO_ADD = ['roc','stoch_slowk']\n",
    "INDICATORS_TO_ADD = ['cci_signal']\n",
    "\n",
    "\n",
    "def addDataFromOtherTicker(tickerPlus):\n",
    "    dfPlus = generate_ticker_data(tickerPlus, startdate, enddate)\n",
    "    if df.shape == dfPlus.shape:\n",
    "        dfPluss = dfPlus.copy()\n",
    "        dfPluss = dfPluss[STANDARDIZABLE_TO_ADD+INDICATORS_TO_ADD]\n",
    "        STANDARDIZABLE2 = STANDARDIZABLE_TO_ADD[:]\n",
    "        INDICATORS2 = INDICATORS_TO_ADD[:]\n",
    "        for p in STANDARDIZABLE2:\n",
    "            renamed = p+'_'+tickerPlus\n",
    "            dftouse[renamed]=dfPluss[p]*1.0\n",
    "            STANDARDIZABLE.append(renamed)\n",
    "        for p in INDICATORS2:\n",
    "            renamed = p+'_'+tickerPlus\n",
    "            dftouse[renamed]=dfPluss[p]\n",
    "            INDICATORS.append(renamed)\n",
    "    else:\n",
    "        print \"Data for additional tickers doesn't match data frame for sector of interest.\"\n",
    "\n",
    "for tick in moreTickers:\n",
    "    print \"####### Loading data for \"+tick+\"....\"\n",
    "    addDataFromOtherTicker(tick)    \n",
    "    time.sleep(0.5)\n",
    "    \n",
    "dftouse.head()"
   ]
  },
  {
   "cell_type": "code",
   "execution_count": 13,
   "metadata": {
    "collapsed": false
   },
   "outputs": [
    {
     "data": {
      "text/plain": [
       "((1490,), 1258)"
      ]
     },
     "execution_count": 13,
     "metadata": {},
     "output_type": "execute_result"
    }
   ],
   "source": [
    "dftouse['date'] = pd.to_datetime(dftouse['date'])\n",
    "mask = (dftouse.date < '2015-01-01').values\n",
    "mask.shape, mask.sum()"
   ]
  },
  {
   "cell_type": "markdown",
   "metadata": {},
   "source": [
    "#### 1.2 Standardize the data"
   ]
  },
  {
   "cell_type": "markdown",
   "metadata": {},
   "source": [
    "Use the mask to compute the training and test parts of the dataframe. Use `StandardScaler` from `sklearn.preprocessing` to \"fit\" the columns in `STANDARDIZABLE` on the training set. Then use the resultant estimator to transform both the training and the test parts of each of the columns in the dataframe, replacing the old unstandardized values in the `STANDARDIZABLE` columns of `dftouse` by the new standardized ones."
   ]
  },
  {
   "cell_type": "code",
   "execution_count": 14,
   "metadata": {
    "collapsed": false
   },
   "outputs": [
    {
     "data": {
      "text/html": [
       "<div>\n",
       "<table border=\"1\" class=\"dataframe\">\n",
       "  <thead>\n",
       "    <tr style=\"text-align: right;\">\n",
       "      <th></th>\n",
       "      <th>date</th>\n",
       "      <th>open</th>\n",
       "      <th>high</th>\n",
       "      <th>low</th>\n",
       "      <th>close</th>\n",
       "      <th>volume</th>\n",
       "      <th>close_1</th>\n",
       "      <th>result_1</th>\n",
       "      <th>perf_1</th>\n",
       "      <th>close_14</th>\n",
       "      <th>result_14</th>\n",
       "      <th>perf_14</th>\n",
       "      <th>results</th>\n",
       "      <th>bb_upper</th>\n",
       "      <th>bb_middle</th>\n",
       "      <th>bb_lower</th>\n",
       "      <th>bb_pct</th>\n",
       "      <th>bb_bandwidth</th>\n",
       "      <th>bb_squeeze</th>\n",
       "      <th>bb_signalup</th>\n",
       "      <th>bb_signaldn</th>\n",
       "      <th>bb_signal</th>\n",
       "      <th>ema50</th>\n",
       "      <th>ema150</th>\n",
       "      <th>ema200</th>\n",
       "      <th>ema_signal1</th>\n",
       "      <th>ema_signal2</th>\n",
       "      <th>kama50</th>\n",
       "      <th>kama150</th>\n",
       "      <th>kama200</th>\n",
       "      <th>kama_signal1</th>\n",
       "      <th>kama_signal2</th>\n",
       "      <th>sar</th>\n",
       "      <th>sar_signal</th>\n",
       "      <th>adx</th>\n",
       "      <th>plus_di</th>\n",
       "      <th>minus_di</th>\n",
       "      <th>adx_trend</th>\n",
       "      <th>adx_direction</th>\n",
       "      <th>adx_signal</th>\n",
       "      <th>aroon_osc</th>\n",
       "      <th>aroon_signal</th>\n",
       "      <th>cci</th>\n",
       "      <th>cci_signal</th>\n",
       "      <th>macd</th>\n",
       "      <th>macd_sigline</th>\n",
       "      <th>macd_hist</th>\n",
       "      <th>macd_signal</th>\n",
       "      <th>ppo</th>\n",
       "      <th>ppo_signal</th>\n",
       "      <th>mfi</th>\n",
       "      <th>mfi_signal</th>\n",
       "      <th>roc</th>\n",
       "      <th>roc_signal</th>\n",
       "      <th>rsi</th>\n",
       "      <th>rsi_signal</th>\n",
       "      <th>ult_osc</th>\n",
       "      <th>ult_signal</th>\n",
       "      <th>willr</th>\n",
       "      <th>wr_signal</th>\n",
       "      <th>ad_osc</th>\n",
       "      <th>ad_signal</th>\n",
       "      <th>stoch_slowk</th>\n",
       "      <th>stoch_slowd</th>\n",
       "      <th>sslow_signal</th>\n",
       "      <th>stoch_fastk</th>\n",
       "      <th>stoch_fastd</th>\n",
       "      <th>srsi_signal</th>\n",
       "      <th>trix</th>\n",
       "      <th>trix_signal</th>\n",
       "      <th>sr_pivotpts</th>\n",
       "      <th>sr_res1</th>\n",
       "      <th>sr_sup1</th>\n",
       "      <th>sr_res2</th>\n",
       "      <th>sr_sup2</th>\n",
       "      <th>sr_res3</th>\n",
       "      <th>sr_sup3</th>\n",
       "      <th>cv_signal</th>\n",
       "      <th>roc_^GSPC</th>\n",
       "      <th>stoch_slowk_^GSPC</th>\n",
       "      <th>cci_signal_^GSPC</th>\n",
       "      <th>roc_OIL</th>\n",
       "      <th>stoch_slowk_OIL</th>\n",
       "      <th>cci_signal_OIL</th>\n",
       "    </tr>\n",
       "  </thead>\n",
       "  <tbody>\n",
       "    <tr>\n",
       "      <th>0</th>\n",
       "      <td>2010-01-04</td>\n",
       "      <td>-1.375210</td>\n",
       "      <td>-1.350686</td>\n",
       "      <td>-1.345329</td>\n",
       "      <td>-1.329027</td>\n",
       "      <td>-0.226896</td>\n",
       "      <td>54.119999</td>\n",
       "      <td>True</td>\n",
       "      <td>0.002779</td>\n",
       "      <td>52.730000</td>\n",
       "      <td>False</td>\n",
       "      <td>-0.022976</td>\n",
       "      <td>1</td>\n",
       "      <td>-1.460237</td>\n",
       "      <td>-1.353711</td>\n",
       "      <td>-1.240541</td>\n",
       "      <td>0.812858</td>\n",
       "      <td>-1.051197</td>\n",
       "      <td>True</td>\n",
       "      <td>False</td>\n",
       "      <td>False</td>\n",
       "      <td>1</td>\n",
       "      <td>-1.399833</td>\n",
       "      <td>-1.518799</td>\n",
       "      <td>-1.522484</td>\n",
       "      <td>1</td>\n",
       "      <td>1</td>\n",
       "      <td>-1.483384</td>\n",
       "      <td>-1.465738</td>\n",
       "      <td>-1.511801</td>\n",
       "      <td>1</td>\n",
       "      <td>1</td>\n",
       "      <td>-1.300491</td>\n",
       "      <td>0</td>\n",
       "      <td>-1.541522</td>\n",
       "      <td>-0.378565</td>\n",
       "      <td>-0.086933</td>\n",
       "      <td>False</td>\n",
       "      <td>True</td>\n",
       "      <td>1</td>\n",
       "      <td>0.911100</td>\n",
       "      <td>1</td>\n",
       "      <td>0.272157</td>\n",
       "      <td>1</td>\n",
       "      <td>0.123524</td>\n",
       "      <td>0.199074</td>\n",
       "      <td>-0.177408</td>\n",
       "      <td>0</td>\n",
       "      <td>0.185486</td>\n",
       "      <td>1</td>\n",
       "      <td>-0.087700</td>\n",
       "      <td>1</td>\n",
       "      <td>0.328390</td>\n",
       "      <td>0</td>\n",
       "      <td>0.362331</td>\n",
       "      <td>0</td>\n",
       "      <td>-0.173967</td>\n",
       "      <td>0</td>\n",
       "      <td>0.937832</td>\n",
       "      <td>0</td>\n",
       "      <td>-0.265254</td>\n",
       "      <td>0</td>\n",
       "      <td>-0.429053</td>\n",
       "      <td>-0.335155</td>\n",
       "      <td>0</td>\n",
       "      <td>0.618889</td>\n",
       "      <td>-0.819085</td>\n",
       "      <td>0</td>\n",
       "      <td>0.752082</td>\n",
       "      <td>1</td>\n",
       "      <td>-1.341870</td>\n",
       "      <td>-1.380550</td>\n",
       "      <td>-1.157358</td>\n",
       "      <td>-1.555286</td>\n",
       "      <td>-1.098284</td>\n",
       "      <td>-1.569521</td>\n",
       "      <td>-0.918803</td>\n",
       "      <td>1</td>\n",
       "      <td>1.022709</td>\n",
       "      <td>-0.171535</td>\n",
       "      <td>1</td>\n",
       "      <td>2.097356</td>\n",
       "      <td>1.481709</td>\n",
       "      <td>0</td>\n",
       "    </tr>\n",
       "    <tr>\n",
       "      <th>1</th>\n",
       "      <td>2010-01-05</td>\n",
       "      <td>-1.327308</td>\n",
       "      <td>-1.341092</td>\n",
       "      <td>-1.309433</td>\n",
       "      <td>-1.320041</td>\n",
       "      <td>-0.197011</td>\n",
       "      <td>54.220001</td>\n",
       "      <td>True</td>\n",
       "      <td>0.001848</td>\n",
       "      <td>52.950001</td>\n",
       "      <td>False</td>\n",
       "      <td>-0.021619</td>\n",
       "      <td>1</td>\n",
       "      <td>-1.454170</td>\n",
       "      <td>-1.351110</td>\n",
       "      <td>-1.241399</td>\n",
       "      <td>0.926320</td>\n",
       "      <td>-0.996594</td>\n",
       "      <td>True</td>\n",
       "      <td>False</td>\n",
       "      <td>False</td>\n",
       "      <td>1</td>\n",
       "      <td>-1.395539</td>\n",
       "      <td>-1.514644</td>\n",
       "      <td>-1.518946</td>\n",
       "      <td>1</td>\n",
       "      <td>1</td>\n",
       "      <td>-1.480645</td>\n",
       "      <td>-1.461663</td>\n",
       "      <td>-1.503755</td>\n",
       "      <td>1</td>\n",
       "      <td>1</td>\n",
       "      <td>-1.362895</td>\n",
       "      <td>1</td>\n",
       "      <td>-1.593179</td>\n",
       "      <td>-0.282381</td>\n",
       "      <td>-0.246651</td>\n",
       "      <td>False</td>\n",
       "      <td>True</td>\n",
       "      <td>1</td>\n",
       "      <td>1.232388</td>\n",
       "      <td>1</td>\n",
       "      <td>1.010862</td>\n",
       "      <td>1</td>\n",
       "      <td>0.146347</td>\n",
       "      <td>0.190963</td>\n",
       "      <td>-0.088500</td>\n",
       "      <td>0</td>\n",
       "      <td>0.181306</td>\n",
       "      <td>1</td>\n",
       "      <td>-0.032307</td>\n",
       "      <td>1</td>\n",
       "      <td>0.405692</td>\n",
       "      <td>0</td>\n",
       "      <td>0.474464</td>\n",
       "      <td>0</td>\n",
       "      <td>-0.253841</td>\n",
       "      <td>0</td>\n",
       "      <td>1.026354</td>\n",
       "      <td>0</td>\n",
       "      <td>-0.218309</td>\n",
       "      <td>1</td>\n",
       "      <td>0.052241</td>\n",
       "      <td>-0.365158</td>\n",
       "      <td>0</td>\n",
       "      <td>0.877013</td>\n",
       "      <td>0.084168</td>\n",
       "      <td>0</td>\n",
       "      <td>0.744480</td>\n",
       "      <td>1</td>\n",
       "      <td>-1.323697</td>\n",
       "      <td>-1.345501</td>\n",
       "      <td>-1.129668</td>\n",
       "      <td>-1.529917</td>\n",
       "      <td>-1.087598</td>\n",
       "      <td>-1.527973</td>\n",
       "      <td>-0.898733</td>\n",
       "      <td>1</td>\n",
       "      <td>0.922154</td>\n",
       "      <td>0.160817</td>\n",
       "      <td>1</td>\n",
       "      <td>2.019937</td>\n",
       "      <td>1.603270</td>\n",
       "      <td>0</td>\n",
       "    </tr>\n",
       "    <tr>\n",
       "      <th>2</th>\n",
       "      <td>2010-01-06</td>\n",
       "      <td>-1.317727</td>\n",
       "      <td>-1.332697</td>\n",
       "      <td>-1.287895</td>\n",
       "      <td>-1.314050</td>\n",
       "      <td>-0.193379</td>\n",
       "      <td>54.750000</td>\n",
       "      <td>True</td>\n",
       "      <td>0.009775</td>\n",
       "      <td>52.799999</td>\n",
       "      <td>False</td>\n",
       "      <td>-0.026190</td>\n",
       "      <td>1</td>\n",
       "      <td>-1.447586</td>\n",
       "      <td>-1.348206</td>\n",
       "      <td>-1.242170</td>\n",
       "      <td>0.934079</td>\n",
       "      <td>-0.938751</td>\n",
       "      <td>True</td>\n",
       "      <td>False</td>\n",
       "      <td>False</td>\n",
       "      <td>1</td>\n",
       "      <td>-1.391172</td>\n",
       "      <td>-1.510458</td>\n",
       "      <td>-1.515377</td>\n",
       "      <td>1</td>\n",
       "      <td>1</td>\n",
       "      <td>-1.476587</td>\n",
       "      <td>-1.456996</td>\n",
       "      <td>-1.496675</td>\n",
       "      <td>1</td>\n",
       "      <td>1</td>\n",
       "      <td>-1.361477</td>\n",
       "      <td>1</td>\n",
       "      <td>-1.609355</td>\n",
       "      <td>-0.135942</td>\n",
       "      <td>-0.333809</td>\n",
       "      <td>False</td>\n",
       "      <td>True</td>\n",
       "      <td>1</td>\n",
       "      <td>1.232388</td>\n",
       "      <td>1</td>\n",
       "      <td>1.265275</td>\n",
       "      <td>1</td>\n",
       "      <td>0.168433</td>\n",
       "      <td>0.189253</td>\n",
       "      <td>-0.019101</td>\n",
       "      <td>0</td>\n",
       "      <td>0.193305</td>\n",
       "      <td>1</td>\n",
       "      <td>-0.021386</td>\n",
       "      <td>1</td>\n",
       "      <td>0.286864</td>\n",
       "      <td>0</td>\n",
       "      <td>0.550716</td>\n",
       "      <td>0</td>\n",
       "      <td>-0.365182</td>\n",
       "      <td>0</td>\n",
       "      <td>0.964170</td>\n",
       "      <td>0</td>\n",
       "      <td>-0.219633</td>\n",
       "      <td>1</td>\n",
       "      <td>1.158884</td>\n",
       "      <td>0.281919</td>\n",
       "      <td>0</td>\n",
       "      <td>1.082883</td>\n",
       "      <td>1.073088</td>\n",
       "      <td>0</td>\n",
       "      <td>0.737989</td>\n",
       "      <td>1</td>\n",
       "      <td>-1.311715</td>\n",
       "      <td>-1.322392</td>\n",
       "      <td>-1.114875</td>\n",
       "      <td>-1.509542</td>\n",
       "      <td>-1.084101</td>\n",
       "      <td>-1.497098</td>\n",
       "      <td>-0.892165</td>\n",
       "      <td>1</td>\n",
       "      <td>0.555921</td>\n",
       "      <td>1.263944</td>\n",
       "      <td>1</td>\n",
       "      <td>2.599800</td>\n",
       "      <td>1.680065</td>\n",
       "      <td>0</td>\n",
       "    </tr>\n",
       "    <tr>\n",
       "      <th>3</th>\n",
       "      <td>2010-01-07</td>\n",
       "      <td>-1.318326</td>\n",
       "      <td>-1.303913</td>\n",
       "      <td>-1.298664</td>\n",
       "      <td>-1.282298</td>\n",
       "      <td>-0.160357</td>\n",
       "      <td>55.430000</td>\n",
       "      <td>True</td>\n",
       "      <td>0.012420</td>\n",
       "      <td>52.930000</td>\n",
       "      <td>False</td>\n",
       "      <td>-0.033242</td>\n",
       "      <td>1</td>\n",
       "      <td>-1.437442</td>\n",
       "      <td>-1.341581</td>\n",
       "      <td>-1.239079</td>\n",
       "      <td>1.496567</td>\n",
       "      <td>-0.884709</td>\n",
       "      <td>True</td>\n",
       "      <td>True</td>\n",
       "      <td>False</td>\n",
       "      <td>1</td>\n",
       "      <td>-1.385699</td>\n",
       "      <td>-1.505879</td>\n",
       "      <td>-1.511497</td>\n",
       "      <td>1</td>\n",
       "      <td>1</td>\n",
       "      <td>-1.469841</td>\n",
       "      <td>-1.451764</td>\n",
       "      <td>-1.488461</td>\n",
       "      <td>1</td>\n",
       "      <td>1</td>\n",
       "      <td>-1.358362</td>\n",
       "      <td>1</td>\n",
       "      <td>-1.523831</td>\n",
       "      <td>0.304318</td>\n",
       "      <td>-0.640810</td>\n",
       "      <td>False</td>\n",
       "      <td>True</td>\n",
       "      <td>1</td>\n",
       "      <td>0.846842</td>\n",
       "      <td>1</td>\n",
       "      <td>1.460869</td>\n",
       "      <td>1</td>\n",
       "      <td>0.233510</td>\n",
       "      <td>0.201965</td>\n",
       "      <td>0.137266</td>\n",
       "      <td>1</td>\n",
       "      <td>0.233249</td>\n",
       "      <td>1</td>\n",
       "      <td>0.421240</td>\n",
       "      <td>1</td>\n",
       "      <td>0.426701</td>\n",
       "      <td>0</td>\n",
       "      <td>0.928645</td>\n",
       "      <td>0</td>\n",
       "      <td>0.397451</td>\n",
       "      <td>0</td>\n",
       "      <td>1.099884</td>\n",
       "      <td>0</td>\n",
       "      <td>-0.158426</td>\n",
       "      <td>1</td>\n",
       "      <td>1.243290</td>\n",
       "      <td>0.886187</td>\n",
       "      <td>0</td>\n",
       "      <td>1.082883</td>\n",
       "      <td>1.266166</td>\n",
       "      <td>0</td>\n",
       "      <td>0.734771</td>\n",
       "      <td>1</td>\n",
       "      <td>-1.295141</td>\n",
       "      <td>-1.290424</td>\n",
       "      <td>-1.110702</td>\n",
       "      <td>-1.464198</td>\n",
       "      <td>-1.095953</td>\n",
       "      <td>-1.438016</td>\n",
       "      <td>-0.914424</td>\n",
       "      <td>1</td>\n",
       "      <td>0.571968</td>\n",
       "      <td>1.286468</td>\n",
       "      <td>1</td>\n",
       "      <td>2.244953</td>\n",
       "      <td>1.446167</td>\n",
       "      <td>0</td>\n",
       "    </tr>\n",
       "    <tr>\n",
       "      <th>4</th>\n",
       "      <td>2010-01-08</td>\n",
       "      <td>-1.290782</td>\n",
       "      <td>-1.264935</td>\n",
       "      <td>-1.260974</td>\n",
       "      <td>-1.241560</td>\n",
       "      <td>-0.167457</td>\n",
       "      <td>55.849998</td>\n",
       "      <td>True</td>\n",
       "      <td>0.007577</td>\n",
       "      <td>52.139999</td>\n",
       "      <td>False</td>\n",
       "      <td>-0.059354</td>\n",
       "      <td>0</td>\n",
       "      <td>-1.417627</td>\n",
       "      <td>-1.333019</td>\n",
       "      <td>-1.241756</td>\n",
       "      <td>1.908984</td>\n",
       "      <td>-0.708824</td>\n",
       "      <td>True</td>\n",
       "      <td>True</td>\n",
       "      <td>False</td>\n",
       "      <td>1</td>\n",
       "      <td>-1.378802</td>\n",
       "      <td>-1.500784</td>\n",
       "      <td>-1.507213</td>\n",
       "      <td>1</td>\n",
       "      <td>1</td>\n",
       "      <td>-1.459005</td>\n",
       "      <td>-1.445474</td>\n",
       "      <td>-1.478810</td>\n",
       "      <td>1</td>\n",
       "      <td>1</td>\n",
       "      <td>-1.352146</td>\n",
       "      <td>1</td>\n",
       "      <td>-1.332725</td>\n",
       "      <td>0.964967</td>\n",
       "      <td>-0.914858</td>\n",
       "      <td>False</td>\n",
       "      <td>True</td>\n",
       "      <td>1</td>\n",
       "      <td>0.911100</td>\n",
       "      <td>1</td>\n",
       "      <td>2.042436</td>\n",
       "      <td>0</td>\n",
       "      <td>0.346813</td>\n",
       "      <td>0.236647</td>\n",
       "      <td>0.375488</td>\n",
       "      <td>1</td>\n",
       "      <td>0.311625</td>\n",
       "      <td>1</td>\n",
       "      <td>0.750797</td>\n",
       "      <td>1</td>\n",
       "      <td>0.804230</td>\n",
       "      <td>0</td>\n",
       "      <td>1.330208</td>\n",
       "      <td>0</td>\n",
       "      <td>1.004314</td>\n",
       "      <td>0</td>\n",
       "      <td>1.163790</td>\n",
       "      <td>0</td>\n",
       "      <td>-0.074972</td>\n",
       "      <td>1</td>\n",
       "      <td>1.310114</td>\n",
       "      <td>1.340695</td>\n",
       "      <td>0</td>\n",
       "      <td>1.082883</td>\n",
       "      <td>1.351833</td>\n",
       "      <td>0</td>\n",
       "      <td>0.737292</td>\n",
       "      <td>1</td>\n",
       "      <td>-1.256000</td>\n",
       "      <td>-1.214933</td>\n",
       "      <td>-1.073340</td>\n",
       "      <td>-1.386094</td>\n",
       "      <td>-1.095758</td>\n",
       "      <td>-1.326142</td>\n",
       "      <td>-0.914059</td>\n",
       "      <td>1</td>\n",
       "      <td>0.593383</td>\n",
       "      <td>1.275180</td>\n",
       "      <td>1</td>\n",
       "      <td>1.645234</td>\n",
       "      <td>1.184022</td>\n",
       "      <td>0</td>\n",
       "    </tr>\n",
       "  </tbody>\n",
       "</table>\n",
       "</div>"
      ],
      "text/plain": [
       "        date      open      high       low     close    volume    close_1 result_1    perf_1   close_14 result_14   perf_14  results  bb_upper  bb_middle  bb_lower    bb_pct  bb_bandwidth bb_squeeze bb_signalup bb_signaldn  bb_signal     ema50    ema150    ema200  ema_signal1  ema_signal2    kama50   kama150   kama200  kama_signal1  kama_signal2       sar  sar_signal       adx   plus_di  minus_di adx_trend adx_direction  adx_signal  aroon_osc  aroon_signal       cci  cci_signal      macd  \\\n",
       "0 2010-01-04 -1.375210 -1.350686 -1.345329 -1.329027 -0.226896  54.119999     True  0.002779  52.730000     False -0.022976        1 -1.460237  -1.353711 -1.240541  0.812858     -1.051197       True       False       False          1 -1.399833 -1.518799 -1.522484            1            1 -1.483384 -1.465738 -1.511801             1             1 -1.300491           0 -1.541522 -0.378565 -0.086933     False          True           1   0.911100             1  0.272157           1  0.123524   \n",
       "1 2010-01-05 -1.327308 -1.341092 -1.309433 -1.320041 -0.197011  54.220001     True  0.001848  52.950001     False -0.021619        1 -1.454170  -1.351110 -1.241399  0.926320     -0.996594       True       False       False          1 -1.395539 -1.514644 -1.518946            1            1 -1.480645 -1.461663 -1.503755             1             1 -1.362895           1 -1.593179 -0.282381 -0.246651     False          True           1   1.232388             1  1.010862           1  0.146347   \n",
       "2 2010-01-06 -1.317727 -1.332697 -1.287895 -1.314050 -0.193379  54.750000     True  0.009775  52.799999     False -0.026190        1 -1.447586  -1.348206 -1.242170  0.934079     -0.938751       True       False       False          1 -1.391172 -1.510458 -1.515377            1            1 -1.476587 -1.456996 -1.496675             1             1 -1.361477           1 -1.609355 -0.135942 -0.333809     False          True           1   1.232388             1  1.265275           1  0.168433   \n",
       "3 2010-01-07 -1.318326 -1.303913 -1.298664 -1.282298 -0.160357  55.430000     True  0.012420  52.930000     False -0.033242        1 -1.437442  -1.341581 -1.239079  1.496567     -0.884709       True        True       False          1 -1.385699 -1.505879 -1.511497            1            1 -1.469841 -1.451764 -1.488461             1             1 -1.358362           1 -1.523831  0.304318 -0.640810     False          True           1   0.846842             1  1.460869           1  0.233510   \n",
       "4 2010-01-08 -1.290782 -1.264935 -1.260974 -1.241560 -0.167457  55.849998     True  0.007577  52.139999     False -0.059354        0 -1.417627  -1.333019 -1.241756  1.908984     -0.708824       True        True       False          1 -1.378802 -1.500784 -1.507213            1            1 -1.459005 -1.445474 -1.478810             1             1 -1.352146           1 -1.332725  0.964967 -0.914858     False          True           1   0.911100             1  2.042436           0  0.346813   \n",
       "\n",
       "   macd_sigline  macd_hist  macd_signal       ppo  ppo_signal       mfi  mfi_signal       roc  roc_signal       rsi  rsi_signal   ult_osc  ult_signal     willr  wr_signal    ad_osc  ad_signal  stoch_slowk  stoch_slowd  sslow_signal  stoch_fastk  stoch_fastd  srsi_signal      trix  trix_signal  sr_pivotpts   sr_res1   sr_sup1   sr_res2   sr_sup2   sr_res3   sr_sup3  cv_signal  roc_^GSPC  stoch_slowk_^GSPC  cci_signal_^GSPC   roc_OIL  stoch_slowk_OIL  cci_signal_OIL  \n",
       "0      0.199074  -0.177408            0  0.185486           1 -0.087700           1  0.328390           0  0.362331           0 -0.173967           0  0.937832          0 -0.265254          0    -0.429053    -0.335155             0     0.618889    -0.819085            0  0.752082            1    -1.341870 -1.380550 -1.157358 -1.555286 -1.098284 -1.569521 -0.918803          1   1.022709          -0.171535                 1  2.097356         1.481709               0  \n",
       "1      0.190963  -0.088500            0  0.181306           1 -0.032307           1  0.405692           0  0.474464           0 -0.253841           0  1.026354          0 -0.218309          1     0.052241    -0.365158             0     0.877013     0.084168            0  0.744480            1    -1.323697 -1.345501 -1.129668 -1.529917 -1.087598 -1.527973 -0.898733          1   0.922154           0.160817                 1  2.019937         1.603270               0  \n",
       "2      0.189253  -0.019101            0  0.193305           1 -0.021386           1  0.286864           0  0.550716           0 -0.365182           0  0.964170          0 -0.219633          1     1.158884     0.281919             0     1.082883     1.073088            0  0.737989            1    -1.311715 -1.322392 -1.114875 -1.509542 -1.084101 -1.497098 -0.892165          1   0.555921           1.263944                 1  2.599800         1.680065               0  \n",
       "3      0.201965   0.137266            1  0.233249           1  0.421240           1  0.426701           0  0.928645           0  0.397451           0  1.099884          0 -0.158426          1     1.243290     0.886187             0     1.082883     1.266166            0  0.734771            1    -1.295141 -1.290424 -1.110702 -1.464198 -1.095953 -1.438016 -0.914424          1   0.571968           1.286468                 1  2.244953         1.446167               0  \n",
       "4      0.236647   0.375488            1  0.311625           1  0.750797           1  0.804230           0  1.330208           0  1.004314           0  1.163790          0 -0.074972          1     1.310114     1.340695             0     1.082883     1.351833            0  0.737292            1    -1.256000 -1.214933 -1.073340 -1.386094 -1.095758 -1.326142 -0.914059          1   0.593383           1.275180                 1  1.645234         1.184022               0  "
      ]
     },
     "execution_count": 14,
     "metadata": {},
     "output_type": "execute_result"
    }
   ],
   "source": [
    "#your code here\n",
    "from sklearn.preprocessing import StandardScaler\n",
    "scaler = StandardScaler()\n",
    "scaler.fit(dftouse[mask][STANDARDIZABLE])\n",
    "dftouse[STANDARDIZABLE] = scaler.transform(dftouse[STANDARDIZABLE])\n",
    "dftouse.head()"
   ]
  },
  {
   "cell_type": "markdown",
   "metadata": {},
   "source": [
    "We create a list `lcols` of the columns we will use in our classifier. This list should not contain the response `RESP`. How many features do we have?"
   ]
  },
  {
   "cell_type": "code",
   "execution_count": 15,
   "metadata": {
    "collapsed": false
   },
   "outputs": [
    {
     "name": "stdout",
     "output_type": "stream",
     "text": [
      "76\n"
     ]
    }
   ],
   "source": [
    "#lcols=list(dftouse.columns)\n",
    "#lcols.remove(u'results')\n",
    "lcols=[]\n",
    "for c in list(dftouse.columns):\n",
    "    if c not in IGNORE: \n",
    "        lcols.append(c)\n",
    "print len(lcols)"
   ]
  },
  {
   "cell_type": "markdown",
   "metadata": {},
   "source": [
    "### EDA for the data"
   ]
  },
  {
   "cell_type": "markdown",
   "metadata": {
    "collapsed": true
   },
   "source": [
    "We create a variable `ccols` which contains all variables not in our indicators list"
   ]
  },
  {
   "cell_type": "code",
   "execution_count": 16,
   "metadata": {
    "collapsed": false
   },
   "outputs": [
    {
     "name": "stdout",
     "output_type": "stream",
     "text": [
      "48 28\n"
     ]
    }
   ],
   "source": [
    "ccols=[]\n",
    "for c in lcols:\n",
    "    if c not in INDICATORS and c not in IGNORE:\n",
    "        ccols.append(c)\n",
    "print len(ccols), len(INDICATORS)"
   ]
  },
  {
   "cell_type": "code",
   "execution_count": 17,
   "metadata": {
    "collapsed": true
   },
   "outputs": [],
   "source": [
    "def cv_optimize(clf, parameters, X, y, n_folds, score_func):\n",
    "    fitmodel = GridSearchCV(clf, param_grid=parameters, cv=n_folds, scoring=score_func, n_jobs=2)\n",
    "    fitmodel.fit(X, y)\n",
    "    return fitmodel.best_estimator_"
   ]
  },
  {
   "cell_type": "code",
   "execution_count": 18,
   "metadata": {
    "collapsed": true
   },
   "outputs": [],
   "source": [
    "from sklearn.metrics import confusion_matrix\n",
    "def do_classify(clf, parameters, indf, featurenames, targetname, target1val, mask=None, reuse_split=None, score_func=None, n_folds=7):\n",
    "    subdf=indf[featurenames]\n",
    "    X=subdf.values\n",
    "    y=(indf[targetname].values==target1val)*1\n",
    "    if mask !=None:\n",
    "        #print \"using mask\"\n",
    "        Xtrain, Xtest, ytrain, ytest = X[mask], X[~mask], y[mask], y[~mask]\n",
    "    if reuse_split !=None:\n",
    "        #print \"using reuse split\"\n",
    "        Xtrain, Xtest, ytrain, ytest = reuse_split['Xtrain'], reuse_split['Xtest'], reuse_split['ytrain'], reuse_split['ytest']\n",
    "    if parameters:\n",
    "        clf = cv_optimize(clf, parameters, Xtrain, ytrain, n_folds=n_folds, score_func=score_func)\n",
    "    clf=clf.fit(Xtrain, ytrain)\n",
    "    training_accuracy = clf.score(Xtrain, ytrain)\n",
    "    test_accuracy = clf.score(Xtest, ytest)\n",
    "    #print \"############# based on standard predict ################\"\n",
    "    #print \"Accuracy on training data: %0.2f\" % (training_accuracy)\n",
    "    #print \"Accuracy on test data:     %0.2f\" % (test_accuracy)\n",
    "    #print confusion_matrix(ytest, clf.predict(Xtest))\n",
    "    #print \"########################################################\"\n",
    "    return clf, Xtrain, ytrain, Xtest, ytest"
   ]
  },
  {
   "cell_type": "code",
   "execution_count": 19,
   "metadata": {
    "collapsed": true
   },
   "outputs": [],
   "source": [
    "X=dftouse[lcols].values\n",
    "y=dftouse['results'].values\n",
    "Xtrain, Xtest, ytrain, ytest = X[mask], X[~mask], y[mask], y[~mask]  \n",
    "reuse_split=dict(Xtrain=Xtrain, Xtest=Xtest, ytrain=ytrain, ytest=ytest)"
   ]
  },
  {
   "cell_type": "code",
   "execution_count": 20,
   "metadata": {
    "collapsed": false
   },
   "outputs": [
    {
     "name": "stdout",
     "output_type": "stream",
     "text": [
      "whole data set 0.461744966443\n",
      "training set 0.472972972973 test set 0.400862068966\n"
     ]
    }
   ],
   "source": [
    "print \"whole data set\", dftouse['results'].mean()\n",
    "print \"training set\", dftouse['results'][mask].mean(), \"test set\", dftouse['results'][~mask].mean()"
   ]
  },
  {
   "cell_type": "markdown",
   "metadata": {},
   "source": [
    "#####our data is not very asymmetric, but we might still want to balance the trainset"
   ]
  },
  {
   "cell_type": "markdown",
   "metadata": {},
   "source": [
    "### Balancing train set to test set for training, \n",
    "### intended to be used with SVM only"
   ]
  },
  {
   "cell_type": "code",
   "execution_count": 21,
   "metadata": {
    "collapsed": false
   },
   "outputs": [
    {
     "name": "stdout",
     "output_type": "stream",
     "text": [
      "595 663\n",
      "(1190, 76) (1190,)\n"
     ]
    }
   ],
   "source": [
    "jtrain=np.arange(0, ytrain.shape[0])\n",
    "n_pos=len(jtrain[ytrain==1])\n",
    "n_neg=len(jtrain[ytrain==0])\n",
    "print n_pos, n_neg\n",
    "\n",
    "ineg = np.random.choice(jtrain[ytrain==0], n_pos, replace=False)\n",
    "alli=np.concatenate((jtrain[ytrain==1], ineg))\n",
    "Xtrain_new = Xtrain[alli]\n",
    "ytrain_new = ytrain[alli]\n",
    "print Xtrain_new.shape, ytrain_new.shape\n",
    "\n",
    "reuse_split_balanced=dict(Xtrain=Xtrain_new, Xtest=Xtest, ytrain=ytrain_new, ytest=ytest)"
   ]
  },
  {
   "cell_type": "markdown",
   "metadata": {},
   "source": [
    "## Test all classifiersres using SelectKbest"
   ]
  },
  {
   "cell_type": "code",
   "execution_count": 22,
   "metadata": {
    "collapsed": false
   },
   "outputs": [],
   "source": [
    "from sklearn.grid_search import GridSearchCV\n",
    "from sklearn.pipeline import Pipeline\n",
    "from sklearn.feature_selection import SelectKBest, f_regression\n",
    "from sklearn.linear_model import LogisticRegression\n",
    "from sklearn.metrics import accuracy_score\n",
    "\n",
    "def evaluate(clf):\n",
    "    clf.fit(Xtrain,ytrain)\n",
    "    training_accuracy = accuracy_score(ytrain, clf.predict(Xtrain))\n",
    "    test_accuracy = accuracy_score(ytest, clf.predict(Xtest))\n",
    "    df_pred = df[~mask].reset_index(drop=True)\n",
    "    df_pred['pred_result'] = clf.predict(Xtest)\n",
    "    df_pred['result_baseline'] = np.ones(df_pred.shape[0])\n",
    "    _,_,ROI_base,_,_ = evaluate_profit(df_pred, startdate, enddate, 10000, 'result_baseline', 'close', True, [1])\n",
    "    _,_,ROI_long,bal_over_time,_ = evaluate_profit(df_pred, startdate, enddate, 10000, 'pred_result', 'close', True, [1])\n",
    "    _,_,ROI_lgst,_,signals = evaluate_profit(df_pred, startdate, enddate, 10000, 'pred_result', 'close', True, [1,0])\n",
    "    return training_accuracy, test_accuracy, ROI_base, ROI_long, ROI_lgst, signals,bal_over_time\n",
    "\n",
    "def print_result(clfpipe):     \n",
    "    print \"Number of features: {0}\".format(clfpipe.get_params()['selectk__k'])\n",
    "    print \"Features: {0}\".format(np.array(lcols)[clfpipe.named_steps['selectk'].get_support()].tolist())\n",
    "    r = evaluate(clfpipe)\n",
    "    print \"train accuracy: {0}\".format(r[0])\n",
    "    print \"test accuracy: {0}\".format(r[1])\n",
    "    print \"ROI baseline: {0}\".format(r[2])\n",
    "    print \"ROI long-only: {0}\".format(r[3])\n",
    "    print \"ROI long-short: {0}\".format(r[4])"
   ]
  },
  {
   "cell_type": "code",
   "execution_count": 23,
   "metadata": {
    "collapsed": true
   },
   "outputs": [],
   "source": [
    "from sklearn.neighbors import KNeighborsClassifier\n",
    "from sklearn.svm import SVC\n",
    "from sklearn.svm import LinearSVC\n",
    "from sklearn.tree import DecisionTreeClassifier\n",
    "from sklearn.linear_model import LogisticRegression\n",
    "from sklearn.ensemble import RandomForestClassifier, AdaBoostClassifier\n",
    "from sklearn.naive_bayes import GaussianNB\n",
    "from sklearn.naive_bayes import MultinomialNB\n",
    "from sklearn.ensemble import GradientBoostingClassifier\n",
    "from sklearn.ensemble import ExtraTreesClassifier\n",
    "from sklearn.metrics import f1_score\n",
    "from sklearn.metrics import recall_score\n"
   ]
  },
  {
   "cell_type": "code",
   "execution_count": 24,
   "metadata": {
    "collapsed": false
   },
   "outputs": [
    {
     "name": "stdout",
     "output_type": "stream",
     "text": [
      "#############====================== Log Regression =====================#############\n",
      "0.1\n",
      "Number of features: 11\n",
      "Features: ['bb_pct', 'plus_di', 'cci', 'rsi', 'willr', 'stoch_slowk', 'stoch_slowd', 'stoch_fastk', 'stoch_fastd', 'srsi_signal', 'stoch_slowk_^GSPC']\n",
      "train accuracy: 0.678060413355\n",
      "test accuracy: 0.698275862069\n",
      "ROI baseline: -0.004199\n",
      "ROI long-only: 0.0211240847\n",
      "ROI long-short: 0.0370401688\n",
      "CPU times: user 11.3 s, sys: 1.23 s, total: 12.5 s\n",
      "Wall time: 14.2 s\n"
     ]
    }
   ],
   "source": [
    "%%time\n",
    "max_number_featrues = 20\n",
    "Results={}\n",
    "scoring_func=\"accuracy\"\n",
    "\n",
    "\n",
    "print \"#############====================== Log Regression =====================#############\"\n",
    "selectk = SelectKBest(score_func=f_regression)\n",
    "pipeLR = Pipeline([('selectk', selectk), ('LR', LogisticRegression(penalty=\"l1\"))])\n",
    "pipeLR, _,_,_,_  = do_classify(pipeLR, {\"selectk__k\":range(1,max_number_featrues+1), \n",
    "                                        \"LR__C\": [1e-3, 1e-2, 1e-1, 1, 1e2],\n",
    "                                        \"LR__random_state\": [111]}, \n",
    "                               dftouse,lcols, u'results',1, reuse_split=reuse_split,score_func=scoring_func)\n",
    "\n",
    "print pipeLR.get_params()['LR__C']\n",
    "print_result(pipeLR)\n",
    "Results[\"log_regression\"] = evaluate(pipeLR)[0:5]"
   ]
  },
  {
   "cell_type": "code",
   "execution_count": 25,
   "metadata": {
    "collapsed": false
   },
   "outputs": [
    {
     "name": "stdout",
     "output_type": "stream",
     "text": [
      "#############====================== RBF SVM ===========================#############\n",
      "1000000.0 1e-08\n",
      "Number of features: 18\n",
      "Features: ['bb_pct', 'plus_di', 'minus_di', 'adx_direction', 'cci', 'macd_hist', 'macd_signal', 'roc', 'rsi', 'ult_osc', 'willr', 'stoch_slowk', 'stoch_slowd', 'stoch_fastk', 'stoch_fastd', 'srsi_signal', 'roc_^GSPC', 'stoch_slowk_^GSPC']\n",
      "train accuracy: 0.680445151033\n",
      "test accuracy: 0.728448275862\n",
      "ROI baseline: -0.004199\n",
      "ROI long-only: 0.0853949863\n",
      "ROI long-short: 0.1731149603\n",
      "CPU times: user 45.4 s, sys: 5.16 s, total: 50.5 s\n",
      "Wall time: 1min 58s\n"
     ]
    }
   ],
   "source": [
    "%%time\n",
    "print \"#############====================== RBF SVM ===========================#############\"\n",
    "pipesvm2 = Pipeline([('selectk', selectk), ('svm2', SVC())])\n",
    "pipesvm2,_,_,_,_  = do_classify(pipesvm2, {\"selectk__k\":[2,3,4,5,6,7,9,12,18,25], \n",
    "                                            \"svm2__C\": [1e-2,1e-1,1,1e2,1e4,1e5,1e6,1e7, 1e8,1e9], \n",
    "                                            \"svm2__gamma\": [ 1e-7,1e-8, 1e-9, 1e-10],\n",
    "                                            \"svm2__random_state\": [111]}, \n",
    "                                 dftouse,lcols, u'results',1, reuse_split=reuse_split,score_func=scoring_func)\n",
    "print pipesvm2.get_params()['svm2__C'], pipesvm2.get_params()['svm2__gamma']\n",
    "print_result(pipesvm2)\n",
    "Results[\"RBF_SVM\"] = evaluate(pipesvm2)[0:5]"
   ]
  },
  {
   "cell_type": "code",
   "execution_count": 26,
   "metadata": {
    "collapsed": false
   },
   "outputs": [
    {
     "name": "stdout",
     "output_type": "stream",
     "text": [
      "#############====================== Random Forest =====================#############\n",
      "5 10 1\n",
      "Number of features: 10\n",
      "Features: ['bb_pct', 'plus_di', 'cci', 'rsi', 'willr', 'stoch_slowk', 'stoch_fastk', 'stoch_fastd', 'srsi_signal', 'stoch_slowk_^GSPC']\n",
      "train accuracy: 0.724960254372\n",
      "test accuracy: 0.741379310345\n",
      "ROI baseline: -0.004199\n",
      "ROI long-only: 0.0453419365\n",
      "ROI long-short: 0.0882488739\n",
      "CPU times: user 19 s, sys: 2.51 s, total: 21.5 s\n",
      "Wall time: 33.2 s\n"
     ]
    }
   ],
   "source": [
    "%%time\n",
    "print \"#############====================== Random Forest =====================#############\"\n",
    "pipeRF = Pipeline([('selectk', selectk), ('RF', RandomForestClassifier())])\n",
    "pipeRF,_,_,_,_  = do_classify(pipeRF, {\"selectk__k\": [5,6,7,8,9,10],\n",
    "                                       \"RF__max_depth\": [3,5,7], \n",
    "                                       \"RF__n_estimators\": [5,10,20],\n",
    "                                       \"RF__max_features\": [1,2,3],\n",
    "                                       \"RF__random_state\": [111]}, \n",
    "                              dftouse, lcols, u'results', 1, reuse_split=reuse_split,score_func=scoring_func)\n",
    "\n",
    "print pipeRF.get_params()['RF__max_depth'], pipeRF.get_params()['RF__n_estimators'], pipeRF.get_params()['RF__max_features']\n",
    "print_result(pipeRF)\n",
    "Results[\"Random_forest\"] = evaluate(pipeRF)[0:5]"
   ]
  },
  {
   "cell_type": "code",
   "execution_count": 27,
   "metadata": {
    "collapsed": false
   },
   "outputs": [
    {
     "name": "stdout",
     "output_type": "stream",
     "text": [
      "#############====================== Extra Trees= =====================#############\n",
      "ET__max_depth: 5\n",
      "ET__n_estimators: 10\n",
      "ET__max_features: 2\n",
      "Number of features: 9\n",
      "Features: ['bb_pct', 'plus_di', 'cci', 'rsi', 'willr', 'stoch_slowk', 'stoch_fastd', 'srsi_signal', 'stoch_slowk_^GSPC']\n",
      "train accuracy: 0.693163751987\n",
      "test accuracy: 0.737068965517\n",
      "ROI baseline: -0.004199\n",
      "ROI long-only: 0.1324338885\n",
      "ROI long-short: 0.2729887477\n",
      "CPU times: user 52 s, sys: 6.35 s, total: 58.4 s\n",
      "Wall time: 1min 13s\n"
     ]
    }
   ],
   "source": [
    "%%time\n",
    "print \"#############====================== Extra Trees= =====================#############\"\n",
    "pipeET = Pipeline([('selectk', selectk), ('ET', ExtraTreesClassifier())])\n",
    "pipeET, _,_,_,_  = do_classify(pipeET, {\"selectk__k\": [5,6,7,8,9,10,15],\n",
    "                                        \"ET__max_depth\": [1,2,3,5,7,10,15], \n",
    "                                        \"ET__n_estimators\": [3,5,10],\n",
    "                                        \"ET__max_features\": [1,2,3],\n",
    "                                        \"ET__random_state\": [111]}, \n",
    "                               dftouse, lcols, u'results', 1, reuse_split=reuse_split,score_func=scoring_func)\n",
    "print \"ET__max_depth: {0}\".format(pipeET.get_params()['ET__max_depth']) \n",
    "print \"ET__n_estimators: {0}\".format(pipeET.get_params()['ET__n_estimators']) \n",
    "print \"ET__max_features: {0}\".format(pipeET.get_params()['ET__max_features']) \n",
    "print_result(pipeET)\n",
    "Results[\"Extra_Trees\"] = evaluate(pipeET)[0:5]"
   ]
  },
  {
   "cell_type": "code",
   "execution_count": 28,
   "metadata": {
    "collapsed": false
   },
   "outputs": [
    {
     "name": "stdout",
     "output_type": "stream",
     "text": [
      "#############====================== Gaussian NB ==========================#############\n",
      "Number of features: 1\n",
      "Features: ['stoch_slowk_^GSPC']\n",
      "train accuracy: 0.654213036566\n",
      "test accuracy: 0.73275862069\n",
      "ROI baseline: -0.004199\n",
      "ROI long-only: 0.064762931\n",
      "ROI long-short: 0.1269178413\n",
      "CPU times: user 2.27 s, sys: 300 ms, total: 2.57 s\n",
      "Wall time: 2.76 s\n"
     ]
    }
   ],
   "source": [
    "%%time\n",
    "print \"#############====================== Gaussian NB ==========================#############\"\n",
    "pipeNB = Pipeline([('selectk', selectk), ('NB', GaussianNB())])\n",
    "pipeNB,_,_,_,_ = do_classify(pipeNB, {\"selectk__k\":range(1,max_number_featrues+1)}, \n",
    "                             dftouse, lcols, u'results',1, reuse_split=reuse_split,score_func=scoring_func)\n",
    "print_result(pipeNB)\n",
    "Results[\"Gaussian_NB\"] = evaluate(pipeNB)[0:5]"
   ]
  },
  {
   "cell_type": "code",
   "execution_count": 29,
   "metadata": {
    "collapsed": false
   },
   "outputs": [],
   "source": [
    "#%%time\n",
    "#print \"#############====================== Gradient Boosting ====================#############\"\n",
    "#pipeGB = Pipeline([('selectk', selectk), ('GB', GradientBoostingClassifier())])\n",
    "#pipeGB, _,_,_,_  = do_classify(pipeGB, {\"selectk__k\":range(1,max_number_featrues+1), \n",
    "#                                        \"GB__n_estimators\": [5,10,20,40],\n",
    "#                                        \"GB__learning_rate\": [0.1,0.5,1.0],\n",
    "#                                        \"GB__random_state\": [111]}, \n",
    "#                               dftouse,lcols, u'results',1, reuse_split=reuse_split)\n",
    "#print pipeGB.get_params()['GB__n_estimators'], pipeGB.get_params()['GB__learning_rate']\n",
    "#print_result(pipeGB)\n",
    "#Long_ROI_result[\"Gradient_bossting\"] = evaluate(pipeGB)[3]\n",
    "#Test_set_accuracies[\"Gradient_bossting\"] = evaluate(pipeGB)[1]"
   ]
  },
  {
   "cell_type": "code",
   "execution_count": 30,
   "metadata": {
    "collapsed": false
   },
   "outputs": [
    {
     "name": "stdout",
     "output_type": "stream",
     "text": [
      "#############====================== ENSEMBLE ==========================#############\n",
      "train accuracy: 0.690779014308\n",
      "test accuracy: 0.741379310345\n",
      "ROI baseline: -0.004199\n",
      "ROI long-only: 0.1186459164\n",
      "ROI long-short: 0.2420998168\n"
     ]
    }
   ],
   "source": [
    "print \"#############====================== ENSEMBLE ==========================#############\"\n",
    "eclf = EnsembleClassifier(clfs=[pipeLR, pipesvm2, pipeRF, pipeET, pipeNB], voting='hard')\n",
    "r = evaluate(eclf)\n",
    "Results[\"Ensemble\"] = r[0:5]\n",
    "print \"train accuracy: {0}\".format(r[0])\n",
    "print \"test accuracy: {0}\".format(r[1])\n",
    "print \"ROI baseline: {0}\".format(r[2])\n",
    "print \"ROI long-only: {0}\".format(r[3])\n",
    "print \"ROI long-short: {0}\".format(r[4])"
   ]
  },
  {
   "cell_type": "code",
   "execution_count": 31,
   "metadata": {
    "collapsed": false
   },
   "outputs": [
    {
     "name": "stdout",
     "output_type": "stream",
     "text": [
      "---Test accuracy results---\n",
      "RBF_SVM 0.728448275862\n",
      "Extra_Trees 0.737068965517\n",
      "Gaussian_NB 0.73275862069\n",
      "log_regression 0.698275862069\n",
      "Random_forest 0.741379310345\n",
      "Ensemble 0.741379310345\n"
     ]
    }
   ],
   "source": [
    "print \"---Test accuracy results---\"\n",
    "for key, value in Results.iteritems():\n",
    "    print key, value[1]"
   ]
  },
  {
   "cell_type": "code",
   "execution_count": 32,
   "metadata": {
    "collapsed": false
   },
   "outputs": [
    {
     "name": "stdout",
     "output_type": "stream",
     "text": [
      "ROI baseline: -0.004199\n",
      "---Long ROI results---\n",
      "RBF_SVM 0.0853949863\n",
      "Extra_Trees 0.1324338885\n",
      "Gaussian_NB 0.064762931\n",
      "log_regression 0.0211240847\n",
      "Random_forest 0.0453419365\n",
      "Ensemble 0.1186459164\n"
     ]
    }
   ],
   "source": [
    "print \"ROI baseline: {0}\".format(evaluate(pipeNB)[2])\n",
    "print \"---Long ROI results---\"\n",
    "for key, value in Results.iteritems():\n",
    "    print key, value[3]"
   ]
  },
  {
   "cell_type": "code",
   "execution_count": 33,
   "metadata": {
    "collapsed": false
   },
   "outputs": [
    {
     "name": "stderr",
     "output_type": "stream",
     "text": [
      "/Users/Yvan-Laptop/anaconda/lib/python2.7/site-packages/matplotlib/collections.py:590: FutureWarning: elementwise comparison failed; returning scalar instead, but in the future will perform elementwise comparison\n",
      "  if self._edgecolors == str('face'):\n"
     ]
    },
    {
     "data": {
      "image/png": "[encoded data removed]",
      "text/plain": [
       "<matplotlib.figure.Figure at 0x10954f650>"
      ]
     },
     "metadata": {},
     "output_type": "display_data"
    }
   ],
   "source": [
    "def plot_signal(model, title):\n",
    "    fig, (ax0,ax1) = plt.subplots(nrows=2, ncols=1, figsize=(20, 10),sharex=True)\n",
    "    ax0.plot(df.date[~mask], df.close[~mask], lw=1)\n",
    "    short_days=zip(*evaluate(model)[5][0])[0]\n",
    "    short_prices=zip(*evaluate(model)[5][0])[1]\n",
    "    long_days=zip(*evaluate(model)[5][1])[0]\n",
    "    long_prices=zip(*evaluate(model)[5][1])[1]\n",
    "    ax0.scatter(long_days, long_prices, color='g', label=\"Long Signals\") \n",
    "    ax0.scatter(short_days, short_prices, color='r', label=\"Short Signals\")\n",
    "    ax0.legend(frameon=False, loc='upper right')\n",
    "    ax0.set_title(title)\n",
    "    ax0.set_ylabel(ticker + \" price\")\n",
    "    \n",
    "    ax1.plot(zip(*evaluate(model)[6])[0], zip(*evaluate(model)[6])[1], lw=1)\n",
    "    ax1.set_ylabel(\"Balance\")\n",
    "plot_signal(eclf, 'Results of Ensemble Classifier for '+ticker)"
   ]
  },
  {
   "cell_type": "code",
   "execution_count": 34,
   "metadata": {
    "collapsed": false
   },
   "outputs": [],
   "source": [
    "# Save results for this ticker to a JSON file\n",
    "import json\n",
    "fd = open(\"../ML_results/\"+ticker+\".json\",\"w\")\n",
    "json.dump(Results, fd)\n",
    "fd.close()"
   ]
  },
  {
   "cell_type": "code",
   "execution_count": 39,
   "metadata": {
    "collapsed": false
   },
   "outputs": [
    {
     "name": "stdout",
     "output_type": "stream",
     "text": [
      "['../ML_results/ITB.json', '../ML_results/IYE.json', '../ML_results/IYF.json', '../ML_results/IYH.json', '../ML_results/IYJ.json', '../ML_results/IYM.json', '../ML_results/IYR.json', '../ML_results/IYW.json', '../ML_results/IYZ.json']\n"
     ]
    }
   ],
   "source": [
    "# Load results from all files\n",
    "import glob\n",
    "result_files = glob.glob(\"../ML_results/*.json\")\n",
    "print result_files\n",
    "accuracies_all= {}\n",
    "ROI_diff_all={}\n",
    "ROI_all={}\n",
    "for aFile in result_files:\n",
    "    file_tickr = aFile[14:17]\n",
    "    #print file_tickr\n",
    "    with open(aFile, \"r\") as fd:\n",
    "        result_dict = json.load(fd)\n",
    "        models_acc = {}\n",
    "        models_ROI_diff = {}\n",
    "        models_ROI = {}\n",
    "        for key, value in result_dict.iteritems():\n",
    "            models_acc[key] =  value[1]\n",
    "            models_ROI_diff[key] =  value[3]-value[2]\n",
    "            models_ROI[key] =  value[3]\n",
    "            accuracies_all[file_tickr] =  models_acc\n",
    "            ROI_diff_all[file_tickr] =  models_ROI_diff\n",
    "            ROI_all[file_tickr] =  models_ROI\n",
    "accuracies_df=pd.DataFrame(accuracies_all)\n",
    "ROI_diff_df=pd.DataFrame(ROI_diff_all)\n",
    "ROI_df=pd.DataFrame(ROI_all)"
   ]
  },
  {
   "cell_type": "code",
   "execution_count": 40,
   "metadata": {
    "collapsed": false
   },
   "outputs": [
    {
     "data": {
      "text/plain": [
       "<matplotlib.text.Text at 0x10f8cad90>"
      ]
     },
     "execution_count": 40,
     "metadata": {},
     "output_type": "execute_result"
    },
    {
     "data": {
      "image/png": "[encoded data removed]",
      "text/plain": [
       "<matplotlib.figure.Figure at 0x10f816410>"
      ]
     },
     "metadata": {},
     "output_type": "display_data"
    }
   ],
   "source": [
    "sns.set_context(\"talk\", font_scale=1.1, rc={\"lines.linewidth\": 2.5})\n",
    "ax = sns.heatmap(accuracies_df, annot=True, fmt='.2f',cmap=\"YlGnBu\")\n",
    "ax.set_title(\"Model accuracy on test set (Jan-Dec 2015)\")"
   ]
  },
  {
   "cell_type": "code",
   "execution_count": 41,
   "metadata": {
    "collapsed": false
   },
   "outputs": [
    {
     "data": {
      "text/plain": [
       "<matplotlib.text.Text at 0x10dc52150>"
      ]
     },
     "execution_count": 41,
     "metadata": {},
     "output_type": "execute_result"
    },
    {
     "data": {
      "image/png": "[encoded data removed]",
      "text/plain": [
       "<matplotlib.figure.Figure at 0x10fbdfd10>"
      ]
     },
     "metadata": {},
     "output_type": "display_data"
    }
   ],
   "source": [
    "ax2 = sns.heatmap(ROI_diff_df, annot=True, fmt='.1%',cmap=\"BrBG\")\n",
    "ax2.set_title(\"Model ROI minus Index ROI (long positions only)\")"
   ]
  },
  {
   "cell_type": "code",
   "execution_count": 38,
   "metadata": {
    "collapsed": false
   },
   "outputs": [
    {
     "data": {
      "text/plain": [
       "<matplotlib.text.Text at 0x10f29d210>"
      ]
     },
     "execution_count": 38,
     "metadata": {},
     "output_type": "execute_result"
    },
    {
     "data": {
      "image/png": "[encoded data removed]",
      "text/plain": [
       "<matplotlib.figure.Figure at 0x10f1dfb10>"
      ]
     },
     "metadata": {},
     "output_type": "display_data"
    }
   ],
   "source": [
    "ax2 = sns.heatmap(ROI_all, annot=True, fmt='.1%',cmap=\"BrBG\")\n",
    "ax2.set_title(\"Model ROI (long positions only)\")"
   ]
  },
  {
   "cell_type": "code",
   "execution_count": 51,
   "metadata": {
    "collapsed": false
   },
   "outputs": [
    {
     "name": "stdout",
     "output_type": "stream",
     "text": [
      "['RBF_SVM', 'Extra_Trees', 'Gaussian_NB', 'log_regression', 'Random_forest', 'Ensemble']\n",
      "['IYE', 'IYF', 'IYM', 'ITB', 'IYH', 'IYJ', 'IYW', 'IYR', 'IYZ']\n",
      "[[0, 0, 0.65], [1, 0, 0.63], [2, 0, 0.61], [3, 0, 0.67], [4, 0, 0.6], [5, 0, 0.63], [0, 1, 0.72], [1, 1, 0.71], [2, 1, 0.72], [3, 1, 0.71], [4, 1, 0.72], [5, 1, 0.73], [0, 2, 0.7], [1, 2, 0.67], [2, 2, 0.64], [3, 2, 0.68], [4, 2, 0.63], [5, 2, 0.68], [0, 3, 0.6], [1, 3, 0.66], [2, 3, 0.65], [3, 3, 0.65], [4, 3, 0.64], [5, 3, 0.66], [0, 4, 0.7], [1, 4, 0.7], [2, 4, 0.75], [3, 4, 0.67], [4, 4, 0.73], [5, 4, 0.71], [0, 5, 0.73], [1, 5, 0.74], [2, 5, 0.73], [3, 5, 0.7], [4, 5, 0.74], [5, 5, 0.74], [0, 6, 0.74], [1, 6, 0.7], [2, 6, 0.73], [3, 6, 0.7], [4, 6, 0.73], [5, 6, 0.74], [0, 7, 0.71], [1, 7, 0.67], [2, 7, 0.69], [3, 7, 0.67], [4, 7, 0.7], [5, 7, 0.7], [0, 8, 0.74], [1, 8, 0.71], [2, 8, 0.68], [3, 8, 0.68], [4, 8, 0.68], [5, 8, 0.72]]\n"
     ]
    }
   ],
   "source": [
    "def print_arrays_for_heatmap(aDict):\n",
    "    y=0\n",
    "    xcategories=[]\n",
    "    ycategories=[]\n",
    "    data_array=[]\n",
    "    for atickr, resDict in aDict.iteritems():\n",
    "        ycategories.append(atickr)\n",
    "        x=0\n",
    "        for aModel, value in resDict.iteritems():\n",
    "            data_array.append([x,y,round(value,2)])\n",
    "            x=x+1\n",
    "        y=y+1\n",
    "    for aModel, value in resDict.iteritems():\n",
    "            xcategories.append(str(aModel))    \n",
    "            \n",
    "    print xcategories\n",
    "    print ycategories\n",
    "    print data_array\n",
    "print_arrays_for_heatmap(ROI_all)"
   ]
  },
  {
   "cell_type": "code",
   "execution_count": null,
   "metadata": {
    "collapsed": true
   },
   "outputs": [],
   "source": []
  },
  {
   "cell_type": "code",
   "execution_count": null,
   "metadata": {
    "collapsed": true
   },
   "outputs": [],
   "source": []
  }
 ],
 "metadata": {
  "kernelspec": {
   "display_name": "Python 2",
   "language": "python",
   "name": "python2"
  },
  "language_info": {
   "codemirror_mode": {
    "name": "ipython",
    "version": 2
   },
   "file_extension": ".py",
   "mimetype": "text/x-python",
   "name": "python",
   "nbconvert_exporter": "python",
   "pygments_lexer": "ipython2",
   "version": "2.7.10"
  }
 },
 "nbformat": 4,
 "nbformat_minor": 0
}
