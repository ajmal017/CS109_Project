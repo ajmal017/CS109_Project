{
 "cells": [
  {
   "cell_type": "markdown",
   "metadata": {},
   "source": [
    "# ML Feature enginerring - SelectKbest"
   ]
  },
  {
   "cell_type": "code",
   "execution_count": 28,
   "metadata": {
    "collapsed": false
   },
   "outputs": [],
   "source": [
    "%matplotlib inline\n",
    "%run ../talibref.py\n",
    "import numpy as np\n",
    "import scipy as sp\n",
    "import matplotlib as mpl\n",
    "import matplotlib.cm as cm\n",
    "import matplotlib.pyplot as plt\n",
    "import pandas as pd\n",
    "pd.set_option('display.width', 500)\n",
    "pd.set_option('display.max_columns', 100)\n",
    "pd.set_option('display.notebook_repr_html', True)\n",
    "import seaborn as sns\n",
    "sns.set_style(\"whitegrid\")\n",
    "sns.set_context(\"poster\")"
   ]
  },
  {
   "cell_type": "markdown",
   "metadata": {},
   "source": [
    "### Get data"
   ]
  },
  {
   "cell_type": "code",
   "execution_count": 2,
   "metadata": {
    "collapsed": false
   },
   "outputs": [
    {
     "name": "stdout",
     "output_type": "stream",
     "text": [
      "Available data: Ticker(IYZ) from 2000.05.26 to 2015.11.27\n",
      "Usable data: Ticker(IYZ) from 2001.03.14 to 2015.11.27 \n",
      "Returned data: Ticker(IYZ) from 2009.12.31 to 2015.11.27 \n",
      "Save path: data/IYZ_from_2009.12.31_2015.11.27.csv\n"
     ]
    }
   ],
   "source": [
    "#df=pd.read_csv(\"data/IYZ.csv\")\n",
    "ticker = 'IYZ'\n",
    "startdate=datetime.date(2009, 12, 31)\n",
    "enddate=datetime.date.today()\n",
    "df = generate_ticker_data(ticker, startdate, enddate)"
   ]
  },
  {
   "cell_type": "code",
   "execution_count": 3,
   "metadata": {
    "collapsed": false
   },
   "outputs": [],
   "source": [
    "dftouse=df.copy()"
   ]
  },
  {
   "cell_type": "markdown",
   "metadata": {},
   "source": [
    "### Feature Engineering"
   ]
  },
  {
   "cell_type": "code",
   "execution_count": 4,
   "metadata": {
    "collapsed": true
   },
   "outputs": [],
   "source": [
    "IGNORE = ['date', 'result_1','close_1','perf_1','result_14','close_14','perf_14','results']"
   ]
  },
  {
   "cell_type": "code",
   "execution_count": 5,
   "metadata": {
    "collapsed": false
   },
   "outputs": [],
   "source": [
    "INDICATORS=[]\n",
    "for v in df.columns:\n",
    "    l=df[v].unique()\n",
    "    if len(l) <= 10 and v not in IGNORE:\n",
    "        #print v, l\n",
    "        INDICATORS.append(v)"
   ]
  },
  {
   "cell_type": "code",
   "execution_count": 6,
   "metadata": {
    "collapsed": false
   },
   "outputs": [],
   "source": [
    "STANDARDIZABLE = []\n",
    "for v in df.columns:\n",
    "    if v not in INDICATORS and v not in IGNORE:\n",
    "        #print v\n",
    "        STANDARDIZABLE.append(v)"
   ]
  },
  {
   "cell_type": "code",
   "execution_count": 7,
   "metadata": {
    "collapsed": false
   },
   "outputs": [
    {
     "data": {
      "text/plain": [
       "((1488L,), 1258)"
      ]
     },
     "execution_count": 7,
     "metadata": {},
     "output_type": "execute_result"
    }
   ],
   "source": [
    "dftouse['date'] = pd.to_datetime(dftouse['date'])\n",
    "mask = (dftouse.date < '2014-12-31').values\n",
    "mask.shape, mask.sum()"
   ]
  },
  {
   "cell_type": "markdown",
   "metadata": {},
   "source": [
    "#### 1.2 Standardize the data"
   ]
  },
  {
   "cell_type": "markdown",
   "metadata": {},
   "source": [
    "Use the mask to compute the training and test parts of the dataframe. Use `StandardScaler` from `sklearn.preprocessing` to \"fit\" the columns in `STANDARDIZABLE` on the training set. Then use the resultant estimator to transform both the training and the test parts of each of the columns in the dataframe, replacing the old unstandardized values in the `STANDARDIZABLE` columns of `dftouse` by the new standardized ones."
   ]
  },
  {
   "cell_type": "code",
   "execution_count": 8,
   "metadata": {
    "collapsed": false
   },
   "outputs": [
    {
     "data": {
      "text/html": [
       "<div>\n",
       "<table border=\"1\" class=\"dataframe\">\n",
       "  <thead>\n",
       "    <tr style=\"text-align: right;\">\n",
       "      <th></th>\n",
       "      <th>date</th>\n",
       "      <th>open</th>\n",
       "      <th>high</th>\n",
       "      <th>low</th>\n",
       "      <th>close</th>\n",
       "      <th>volume</th>\n",
       "      <th>close_1</th>\n",
       "      <th>result_1</th>\n",
       "      <th>perf_1</th>\n",
       "      <th>close_14</th>\n",
       "      <th>result_14</th>\n",
       "      <th>perf_14</th>\n",
       "      <th>results</th>\n",
       "      <th>bb_upper</th>\n",
       "      <th>bb_middle</th>\n",
       "      <th>bb_lower</th>\n",
       "      <th>bb_pct</th>\n",
       "      <th>bb_bandwidth</th>\n",
       "      <th>bb_squeeze</th>\n",
       "      <th>bb_signalup</th>\n",
       "      <th>bb_signaldn</th>\n",
       "      <th>bb_signal</th>\n",
       "      <th>ema50</th>\n",
       "      <th>ema150</th>\n",
       "      <th>ema200</th>\n",
       "      <th>ema_signal1</th>\n",
       "      <th>ema_signal2</th>\n",
       "      <th>kama50</th>\n",
       "      <th>kama150</th>\n",
       "      <th>kama200</th>\n",
       "      <th>kama_signal1</th>\n",
       "      <th>kama_signal2</th>\n",
       "      <th>sar</th>\n",
       "      <th>sar_signal</th>\n",
       "      <th>adx</th>\n",
       "      <th>plus_di</th>\n",
       "      <th>minus_di</th>\n",
       "      <th>adx_trend</th>\n",
       "      <th>adx_direction</th>\n",
       "      <th>adx_signal</th>\n",
       "      <th>aroon_osc</th>\n",
       "      <th>aroon_signal</th>\n",
       "      <th>cci</th>\n",
       "      <th>cci_signal</th>\n",
       "      <th>macd</th>\n",
       "      <th>macd_sigline</th>\n",
       "      <th>macd_hist</th>\n",
       "      <th>macd_signal</th>\n",
       "      <th>ppo</th>\n",
       "      <th>ppo_signal</th>\n",
       "      <th>mfi</th>\n",
       "      <th>mfi_signal</th>\n",
       "      <th>roc</th>\n",
       "      <th>roc_signal</th>\n",
       "      <th>rsi</th>\n",
       "      <th>rsi_signal</th>\n",
       "      <th>ult_osc</th>\n",
       "      <th>ult_signal</th>\n",
       "      <th>willr</th>\n",
       "      <th>wr_signal</th>\n",
       "      <th>ad_osc</th>\n",
       "      <th>ad_signal</th>\n",
       "      <th>stoch_slowk</th>\n",
       "      <th>stoch_slowd</th>\n",
       "      <th>sslow_signal</th>\n",
       "      <th>stoch_fastk</th>\n",
       "      <th>stoch_fastd</th>\n",
       "      <th>srsi_signal</th>\n",
       "      <th>trix</th>\n",
       "      <th>trix_signal</th>\n",
       "      <th>sr_pivotpts</th>\n",
       "      <th>sr_res1</th>\n",
       "      <th>sr_sup1</th>\n",
       "      <th>sr_res2</th>\n",
       "      <th>sr_sup2</th>\n",
       "      <th>sr_res3</th>\n",
       "      <th>sr_sup3</th>\n",
       "      <th>cv_signal</th>\n",
       "    </tr>\n",
       "  </thead>\n",
       "  <tbody>\n",
       "    <tr>\n",
       "      <th>0</th>\n",
       "      <td>2009-12-31</td>\n",
       "      <td>-1.201091</td>\n",
       "      <td>-1.239613</td>\n",
       "      <td>-1.220543</td>\n",
       "      <td>-1.265236</td>\n",
       "      <td>-0.008270</td>\n",
       "      <td>20.549999</td>\n",
       "      <td>True</td>\n",
       "      <td>0.026473</td>\n",
       "      <td>19.070000</td>\n",
       "      <td>False</td>\n",
       "      <td>-0.047453</td>\n",
       "      <td>1</td>\n",
       "      <td>-1.332303</td>\n",
       "      <td>-1.296524</td>\n",
       "      <td>-1.245343</td>\n",
       "      <td>0.175007</td>\n",
       "      <td>-0.145913</td>\n",
       "      <td>False</td>\n",
       "      <td>False</td>\n",
       "      <td>False</td>\n",
       "      <td>0</td>\n",
       "      <td>-1.473924</td>\n",
       "      <td>-1.612689</td>\n",
       "      <td>-1.595117</td>\n",
       "      <td>1</td>\n",
       "      <td>1</td>\n",
       "      <td>-1.615477</td>\n",
       "      <td>-1.695014</td>\n",
       "      <td>-1.685499</td>\n",
       "      <td>1</td>\n",
       "      <td>1</td>\n",
       "      <td>-1.266174</td>\n",
       "      <td>1</td>\n",
       "      <td>1.197050</td>\n",
       "      <td>0.755412</td>\n",
       "      <td>-0.763246</td>\n",
       "      <td>True</td>\n",
       "      <td>True</td>\n",
       "      <td>1</td>\n",
       "      <td>1.052312</td>\n",
       "      <td>1</td>\n",
       "      <td>0.093474</td>\n",
       "      <td>1</td>\n",
       "      <td>1.332842</td>\n",
       "      <td>1.558379</td>\n",
       "      <td>-0.279000</td>\n",
       "      <td>0</td>\n",
       "      <td>1.163484</td>\n",
       "      <td>1</td>\n",
       "      <td>1.588815</td>\n",
       "      <td>0</td>\n",
       "      <td>0.192107</td>\n",
       "      <td>0</td>\n",
       "      <td>0.607188</td>\n",
       "      <td>0</td>\n",
       "      <td>-0.417478</td>\n",
       "      <td>0</td>\n",
       "      <td>-0.156655</td>\n",
       "      <td>0</td>\n",
       "      <td>1.449704</td>\n",
       "      <td>1</td>\n",
       "      <td>-0.617705</td>\n",
       "      <td>0.285947</td>\n",
       "      <td>0</td>\n",
       "      <td>-1.224255</td>\n",
       "      <td>-1.201682</td>\n",
       "      <td>1</td>\n",
       "      <td>1.381892</td>\n",
       "      <td>1</td>\n",
       "      <td>-1.242212</td>\n",
       "      <td>-1.020557</td>\n",
       "      <td>-1.048089</td>\n",
       "      <td>-1.183834</td>\n",
       "      <td>-1.236724</td>\n",
       "      <td>-0.947053</td>\n",
       "      <td>-1.026232</td>\n",
       "      <td>0</td>\n",
       "    </tr>\n",
       "    <tr>\n",
       "      <th>1</th>\n",
       "      <td>2010-01-04</td>\n",
       "      <td>-1.167365</td>\n",
       "      <td>-1.155386</td>\n",
       "      <td>-1.150281</td>\n",
       "      <td>-1.116371</td>\n",
       "      <td>0.638583</td>\n",
       "      <td>20.680000</td>\n",
       "      <td>True</td>\n",
       "      <td>0.006326</td>\n",
       "      <td>18.719999</td>\n",
       "      <td>False</td>\n",
       "      <td>-0.089051</td>\n",
       "      <td>0</td>\n",
       "      <td>-1.319284</td>\n",
       "      <td>-1.277113</td>\n",
       "      <td>-1.219671</td>\n",
       "      <td>1.341483</td>\n",
       "      <td>-0.221063</td>\n",
       "      <td>False</td>\n",
       "      <td>True</td>\n",
       "      <td>False</td>\n",
       "      <td>0</td>\n",
       "      <td>-1.458621</td>\n",
       "      <td>-1.604374</td>\n",
       "      <td>-1.588638</td>\n",
       "      <td>1</td>\n",
       "      <td>1</td>\n",
       "      <td>-1.588448</td>\n",
       "      <td>-1.684346</td>\n",
       "      <td>-1.673483</td>\n",
       "      <td>1</td>\n",
       "      <td>1</td>\n",
       "      <td>-1.255717</td>\n",
       "      <td>1</td>\n",
       "      <td>1.217582</td>\n",
       "      <td>1.263539</td>\n",
       "      <td>-1.067442</td>\n",
       "      <td>True</td>\n",
       "      <td>True</td>\n",
       "      <td>1</td>\n",
       "      <td>1.312200</td>\n",
       "      <td>1</td>\n",
       "      <td>1.004830</td>\n",
       "      <td>1</td>\n",
       "      <td>1.387926</td>\n",
       "      <td>1.547044</td>\n",
       "      <td>-0.095395</td>\n",
       "      <td>0</td>\n",
       "      <td>1.162342</td>\n",
       "      <td>1</td>\n",
       "      <td>1.559683</td>\n",
       "      <td>0</td>\n",
       "      <td>1.443705</td>\n",
       "      <td>0</td>\n",
       "      <td>1.355867</td>\n",
       "      <td>0</td>\n",
       "      <td>0.191576</td>\n",
       "      <td>0</td>\n",
       "      <td>1.334706</td>\n",
       "      <td>0</td>\n",
       "      <td>1.561447</td>\n",
       "      <td>1</td>\n",
       "      <td>-0.269989</td>\n",
       "      <td>-0.148099</td>\n",
       "      <td>0</td>\n",
       "      <td>0.698039</td>\n",
       "      <td>-0.732061</td>\n",
       "      <td>0</td>\n",
       "      <td>1.448956</td>\n",
       "      <td>1</td>\n",
       "      <td>-1.141057</td>\n",
       "      <td>-0.825720</td>\n",
       "      <td>-0.888661</td>\n",
       "      <td>-1.049357</td>\n",
       "      <td>-1.173908</td>\n",
       "      <td>-0.727353</td>\n",
       "      <td>-0.907802</td>\n",
       "      <td>0</td>\n",
       "    </tr>\n",
       "    <tr>\n",
       "      <th>2</th>\n",
       "      <td>2010-01-05</td>\n",
       "      <td>-1.099915</td>\n",
       "      <td>-1.096427</td>\n",
       "      <td>-1.096882</td>\n",
       "      <td>-1.079857</td>\n",
       "      <td>2.142626</td>\n",
       "      <td>20.340000</td>\n",
       "      <td>False</td>\n",
       "      <td>-0.016441</td>\n",
       "      <td>18.900000</td>\n",
       "      <td>False</td>\n",
       "      <td>-0.086074</td>\n",
       "      <td>0</td>\n",
       "      <td>-1.294746</td>\n",
       "      <td>-1.258835</td>\n",
       "      <td>-1.207953</td>\n",
       "      <td>1.442826</td>\n",
       "      <td>-0.154935</td>\n",
       "      <td>False</td>\n",
       "      <td>True</td>\n",
       "      <td>False</td>\n",
       "      <td>0</td>\n",
       "      <td>-1.442453</td>\n",
       "      <td>-1.595657</td>\n",
       "      <td>-1.581828</td>\n",
       "      <td>1</td>\n",
       "      <td>1</td>\n",
       "      <td>-1.561351</td>\n",
       "      <td>-1.673068</td>\n",
       "      <td>-1.659668</td>\n",
       "      <td>1</td>\n",
       "      <td>1</td>\n",
       "      <td>-1.239756</td>\n",
       "      <td>1</td>\n",
       "      <td>1.293296</td>\n",
       "      <td>1.655441</td>\n",
       "      <td>-1.215555</td>\n",
       "      <td>True</td>\n",
       "      <td>True</td>\n",
       "      <td>1</td>\n",
       "      <td>1.377173</td>\n",
       "      <td>1</td>\n",
       "      <td>1.253848</td>\n",
       "      <td>1</td>\n",
       "      <td>1.455334</td>\n",
       "      <td>1.552644</td>\n",
       "      <td>0.079128</td>\n",
       "      <td>1</td>\n",
       "      <td>1.169243</td>\n",
       "      <td>1</td>\n",
       "      <td>1.643106</td>\n",
       "      <td>0</td>\n",
       "      <td>1.298933</td>\n",
       "      <td>0</td>\n",
       "      <td>1.504104</td>\n",
       "      <td>0</td>\n",
       "      <td>0.626435</td>\n",
       "      <td>0</td>\n",
       "      <td>1.120944</td>\n",
       "      <td>0</td>\n",
       "      <td>1.927408</td>\n",
       "      <td>1</td>\n",
       "      <td>0.257136</td>\n",
       "      <td>-0.227095</td>\n",
       "      <td>0</td>\n",
       "      <td>1.139066</td>\n",
       "      <td>0.256838</td>\n",
       "      <td>0</td>\n",
       "      <td>1.516808</td>\n",
       "      <td>1</td>\n",
       "      <td>-1.091416</td>\n",
       "      <td>-0.735518</td>\n",
       "      <td>-0.849930</td>\n",
       "      <td>-0.948727</td>\n",
       "      <td>-1.177549</td>\n",
       "      <td>-0.592085</td>\n",
       "      <td>-0.919817</td>\n",
       "      <td>0</td>\n",
       "    </tr>\n",
       "    <tr>\n",
       "      <th>3</th>\n",
       "      <td>2010-01-06</td>\n",
       "      <td>-1.069001</td>\n",
       "      <td>-1.104850</td>\n",
       "      <td>-1.150281</td>\n",
       "      <td>-1.175355</td>\n",
       "      <td>1.022106</td>\n",
       "      <td>20.260000</td>\n",
       "      <td>False</td>\n",
       "      <td>-0.003933</td>\n",
       "      <td>18.600000</td>\n",
       "      <td>False</td>\n",
       "      <td>-0.085546</td>\n",
       "      <td>0</td>\n",
       "      <td>-1.285061</td>\n",
       "      <td>-1.251184</td>\n",
       "      <td>-1.202451</td>\n",
       "      <td>0.550681</td>\n",
       "      <td>-0.133898</td>\n",
       "      <td>False</td>\n",
       "      <td>False</td>\n",
       "      <td>False</td>\n",
       "      <td>0</td>\n",
       "      <td>-1.430752</td>\n",
       "      <td>-1.588396</td>\n",
       "      <td>-1.576121</td>\n",
       "      <td>1</td>\n",
       "      <td>1</td>\n",
       "      <td>-1.542412</td>\n",
       "      <td>-1.663919</td>\n",
       "      <td>-1.651114</td>\n",
       "      <td>1</td>\n",
       "      <td>1</td>\n",
       "      <td>-1.215639</td>\n",
       "      <td>1</td>\n",
       "      <td>1.250911</td>\n",
       "      <td>1.079034</td>\n",
       "      <td>-0.844469</td>\n",
       "      <td>True</td>\n",
       "      <td>True</td>\n",
       "      <td>1</td>\n",
       "      <td>1.312200</td>\n",
       "      <td>1</td>\n",
       "      <td>0.658959</td>\n",
       "      <td>1</td>\n",
       "      <td>1.377076</td>\n",
       "      <td>1.540095</td>\n",
       "      <td>-0.107903</td>\n",
       "      <td>0</td>\n",
       "      <td>1.158204</td>\n",
       "      <td>1</td>\n",
       "      <td>1.401836</td>\n",
       "      <td>0</td>\n",
       "      <td>0.315018</td>\n",
       "      <td>0</td>\n",
       "      <td>0.702506</td>\n",
       "      <td>0</td>\n",
       "      <td>0.062282</td>\n",
       "      <td>0</td>\n",
       "      <td>0.212456</td>\n",
       "      <td>0</td>\n",
       "      <td>1.385121</td>\n",
       "      <td>1</td>\n",
       "      <td>0.803908</td>\n",
       "      <td>0.284862</td>\n",
       "      <td>0</td>\n",
       "      <td>-0.973098</td>\n",
       "      <td>0.361931</td>\n",
       "      <td>1</td>\n",
       "      <td>1.578204</td>\n",
       "      <td>1</td>\n",
       "      <td>-1.143867</td>\n",
       "      <td>-0.877135</td>\n",
       "      <td>-0.950811</td>\n",
       "      <td>-1.041123</td>\n",
       "      <td>-1.187564</td>\n",
       "      <td>-0.766123</td>\n",
       "      <td>-0.977316</td>\n",
       "      <td>0</td>\n",
       "    </tr>\n",
       "    <tr>\n",
       "      <th>4</th>\n",
       "      <td>2010-01-07</td>\n",
       "      <td>-1.175797</td>\n",
       "      <td>-1.203115</td>\n",
       "      <td>-1.181196</td>\n",
       "      <td>-1.197825</td>\n",
       "      <td>0.113288</td>\n",
       "      <td>20.110001</td>\n",
       "      <td>False</td>\n",
       "      <td>-0.007404</td>\n",
       "      <td>18.570000</td>\n",
       "      <td>False</td>\n",
       "      <td>-0.083416</td>\n",
       "      <td>0</td>\n",
       "      <td>-1.282289</td>\n",
       "      <td>-1.242399</td>\n",
       "      <td>-1.187670</td>\n",
       "      <td>0.302403</td>\n",
       "      <td>-0.202270</td>\n",
       "      <td>False</td>\n",
       "      <td>False</td>\n",
       "      <td>False</td>\n",
       "      <td>0</td>\n",
       "      <td>-1.420411</td>\n",
       "      <td>-1.581548</td>\n",
       "      <td>-1.570713</td>\n",
       "      <td>1</td>\n",
       "      <td>1</td>\n",
       "      <td>-1.522822</td>\n",
       "      <td>-1.655929</td>\n",
       "      <td>-1.642515</td>\n",
       "      <td>1</td>\n",
       "      <td>1</td>\n",
       "      <td>-1.193934</td>\n",
       "      <td>1</td>\n",
       "      <td>1.151281</td>\n",
       "      <td>0.829702</td>\n",
       "      <td>-0.625327</td>\n",
       "      <td>True</td>\n",
       "      <td>True</td>\n",
       "      <td>1</td>\n",
       "      <td>1.247228</td>\n",
       "      <td>1</td>\n",
       "      <td>0.087865</td>\n",
       "      <td>1</td>\n",
       "      <td>1.271081</td>\n",
       "      <td>1.506992</td>\n",
       "      <td>-0.319724</td>\n",
       "      <td>0</td>\n",
       "      <td>1.070066</td>\n",
       "      <td>1</td>\n",
       "      <td>1.153828</td>\n",
       "      <td>0</td>\n",
       "      <td>-0.190239</td>\n",
       "      <td>0</td>\n",
       "      <td>0.531060</td>\n",
       "      <td>0</td>\n",
       "      <td>-0.094912</td>\n",
       "      <td>0</td>\n",
       "      <td>-0.001305</td>\n",
       "      <td>0</td>\n",
       "      <td>0.969668</td>\n",
       "      <td>1</td>\n",
       "      <td>-0.050423</td>\n",
       "      <td>0.363933</td>\n",
       "      <td>0</td>\n",
       "      <td>-1.224255</td>\n",
       "      <td>-0.442426</td>\n",
       "      <td>1</td>\n",
       "      <td>1.631641</td>\n",
       "      <td>1</td>\n",
       "      <td>-1.194444</td>\n",
       "      <td>-0.974554</td>\n",
       "      <td>-1.048089</td>\n",
       "      <td>-1.090523</td>\n",
       "      <td>-1.236724</td>\n",
       "      <td>-0.859173</td>\n",
       "      <td>-1.070000</td>\n",
       "      <td>1</td>\n",
       "    </tr>\n",
       "  </tbody>\n",
       "</table>\n",
       "</div>"
      ],
      "text/plain": [
       "        date      open      high       low     close    volume    close_1 result_1    perf_1   close_14 result_14   perf_14  results  bb_upper  bb_middle  bb_lower    bb_pct  bb_bandwidth bb_squeeze bb_signalup bb_signaldn  bb_signal     ema50    ema150    ema200  ema_signal1  ema_signal2    kama50   kama150   kama200  kama_signal1  kama_signal2       sar  sar_signal       adx   plus_di  minus_di adx_trend adx_direction  adx_signal  aroon_osc  aroon_signal       cci  cci_signal      macd  \\\n",
       "0 2009-12-31 -1.201091 -1.239613 -1.220543 -1.265236 -0.008270  20.549999     True  0.026473  19.070000     False -0.047453        1 -1.332303  -1.296524 -1.245343  0.175007     -0.145913      False       False       False          0 -1.473924 -1.612689 -1.595117            1            1 -1.615477 -1.695014 -1.685499             1             1 -1.266174           1  1.197050  0.755412 -0.763246      True          True           1   1.052312             1  0.093474           1  1.332842   \n",
       "1 2010-01-04 -1.167365 -1.155386 -1.150281 -1.116371  0.638583  20.680000     True  0.006326  18.719999     False -0.089051        0 -1.319284  -1.277113 -1.219671  1.341483     -0.221063      False        True       False          0 -1.458621 -1.604374 -1.588638            1            1 -1.588448 -1.684346 -1.673483             1             1 -1.255717           1  1.217582  1.263539 -1.067442      True          True           1   1.312200             1  1.004830           1  1.387926   \n",
       "2 2010-01-05 -1.099915 -1.096427 -1.096882 -1.079857  2.142626  20.340000    False -0.016441  18.900000     False -0.086074        0 -1.294746  -1.258835 -1.207953  1.442826     -0.154935      False        True       False          0 -1.442453 -1.595657 -1.581828            1            1 -1.561351 -1.673068 -1.659668             1             1 -1.239756           1  1.293296  1.655441 -1.215555      True          True           1   1.377173             1  1.253848           1  1.455334   \n",
       "3 2010-01-06 -1.069001 -1.104850 -1.150281 -1.175355  1.022106  20.260000    False -0.003933  18.600000     False -0.085546        0 -1.285061  -1.251184 -1.202451  0.550681     -0.133898      False       False       False          0 -1.430752 -1.588396 -1.576121            1            1 -1.542412 -1.663919 -1.651114             1             1 -1.215639           1  1.250911  1.079034 -0.844469      True          True           1   1.312200             1  0.658959           1  1.377076   \n",
       "4 2010-01-07 -1.175797 -1.203115 -1.181196 -1.197825  0.113288  20.110001    False -0.007404  18.570000     False -0.083416        0 -1.282289  -1.242399 -1.187670  0.302403     -0.202270      False       False       False          0 -1.420411 -1.581548 -1.570713            1            1 -1.522822 -1.655929 -1.642515             1             1 -1.193934           1  1.151281  0.829702 -0.625327      True          True           1   1.247228             1  0.087865           1  1.271081   \n",
       "\n",
       "   macd_sigline  macd_hist  macd_signal       ppo  ppo_signal       mfi  mfi_signal       roc  roc_signal       rsi  rsi_signal   ult_osc  ult_signal     willr  wr_signal    ad_osc  ad_signal  stoch_slowk  stoch_slowd  sslow_signal  stoch_fastk  stoch_fastd  srsi_signal      trix  trix_signal  sr_pivotpts   sr_res1   sr_sup1   sr_res2   sr_sup2   sr_res3   sr_sup3  cv_signal  \n",
       "0      1.558379  -0.279000            0  1.163484           1  1.588815           0  0.192107           0  0.607188           0 -0.417478           0 -0.156655          0  1.449704          1    -0.617705     0.285947             0    -1.224255    -1.201682            1  1.381892            1    -1.242212 -1.020557 -1.048089 -1.183834 -1.236724 -0.947053 -1.026232          0  \n",
       "1      1.547044  -0.095395            0  1.162342           1  1.559683           0  1.443705           0  1.355867           0  0.191576           0  1.334706          0  1.561447          1    -0.269989    -0.148099             0     0.698039    -0.732061            0  1.448956            1    -1.141057 -0.825720 -0.888661 -1.049357 -1.173908 -0.727353 -0.907802          0  \n",
       "2      1.552644   0.079128            1  1.169243           1  1.643106           0  1.298933           0  1.504104           0  0.626435           0  1.120944          0  1.927408          1     0.257136    -0.227095             0     1.139066     0.256838            0  1.516808            1    -1.091416 -0.735518 -0.849930 -0.948727 -1.177549 -0.592085 -0.919817          0  \n",
       "3      1.540095  -0.107903            0  1.158204           1  1.401836           0  0.315018           0  0.702506           0  0.062282           0  0.212456          0  1.385121          1     0.803908     0.284862             0    -0.973098     0.361931            1  1.578204            1    -1.143867 -0.877135 -0.950811 -1.041123 -1.187564 -0.766123 -0.977316          0  \n",
       "4      1.506992  -0.319724            0  1.070066           1  1.153828           0 -0.190239           0  0.531060           0 -0.094912           0 -0.001305          0  0.969668          1    -0.050423     0.363933             0    -1.224255    -0.442426            1  1.631641            1    -1.194444 -0.974554 -1.048089 -1.090523 -1.236724 -0.859173 -1.070000          1  "
      ]
     },
     "execution_count": 8,
     "metadata": {},
     "output_type": "execute_result"
    }
   ],
   "source": [
    "#your code here\n",
    "from sklearn.preprocessing import StandardScaler\n",
    "scaler = StandardScaler()\n",
    "scaler.fit(dftouse[mask][STANDARDIZABLE])\n",
    "dftouse[STANDARDIZABLE] = scaler.transform(dftouse[STANDARDIZABLE])\n",
    "dftouse.head()"
   ]
  },
  {
   "cell_type": "markdown",
   "metadata": {},
   "source": [
    "We create a list `lcols` of the columns we will use in our classifier. This list should not contain the response `RESP`. How many features do we have?"
   ]
  },
  {
   "cell_type": "code",
   "execution_count": 9,
   "metadata": {
    "collapsed": false
   },
   "outputs": [
    {
     "name": "stdout",
     "output_type": "stream",
     "text": [
      "70\n"
     ]
    }
   ],
   "source": [
    "#lcols=list(dftouse.columns)\n",
    "#lcols.remove(u'results')\n",
    "lcols=[]\n",
    "for c in list(dftouse.columns):\n",
    "    if c not in IGNORE: \n",
    "        lcols.append(c)\n",
    "print len(lcols)"
   ]
  },
  {
   "cell_type": "markdown",
   "metadata": {},
   "source": [
    "### EDA for the data"
   ]
  },
  {
   "cell_type": "markdown",
   "metadata": {
    "collapsed": true
   },
   "source": [
    "We create a variable `ccols` which contains all variables not in our indicators list"
   ]
  },
  {
   "cell_type": "code",
   "execution_count": 10,
   "metadata": {
    "collapsed": false
   },
   "outputs": [
    {
     "name": "stdout",
     "output_type": "stream",
     "text": [
      "44 26\n"
     ]
    }
   ],
   "source": [
    "ccols=[]\n",
    "for c in lcols:\n",
    "    if c not in INDICATORS and c not in IGNORE:\n",
    "        ccols.append(c)\n",
    "print len(ccols), len(INDICATORS)"
   ]
  },
  {
   "cell_type": "code",
   "execution_count": 11,
   "metadata": {
    "collapsed": true
   },
   "outputs": [],
   "source": [
    "def cv_optimize(clf, parameters, X, y, n_folds, score_func):\n",
    "    fitmodel = GridSearchCV(clf, param_grid=parameters, cv=n_folds, scoring=score_func)\n",
    "    fitmodel.fit(X, y)\n",
    "    return fitmodel.best_estimator_"
   ]
  },
  {
   "cell_type": "code",
   "execution_count": 12,
   "metadata": {
    "collapsed": true
   },
   "outputs": [],
   "source": [
    "from sklearn.metrics import confusion_matrix\n",
    "def do_classify(clf, parameters, indf, featurenames, targetname, target1val, mask=None, reuse_split=None, score_func=None, n_folds=5):\n",
    "    subdf=indf[featurenames]\n",
    "    X=subdf.values\n",
    "    y=(indf[targetname].values==target1val)*1\n",
    "    if mask !=None:\n",
    "        #print \"using mask\"\n",
    "        Xtrain, Xtest, ytrain, ytest = X[mask], X[~mask], y[mask], y[~mask]\n",
    "    if reuse_split !=None:\n",
    "        #print \"using reuse split\"\n",
    "        Xtrain, Xtest, ytrain, ytest = reuse_split['Xtrain'], reuse_split['Xtest'], reuse_split['ytrain'], reuse_split['ytest']\n",
    "    if parameters:\n",
    "        clf = cv_optimize(clf, parameters, Xtrain, ytrain, n_folds=n_folds, score_func=score_func)\n",
    "    clf=clf.fit(Xtrain, ytrain)\n",
    "    training_accuracy = clf.score(Xtrain, ytrain)\n",
    "    test_accuracy = clf.score(Xtest, ytest)\n",
    "    #print \"############# based on standard predict ################\"\n",
    "    #print \"Accuracy on training data: %0.2f\" % (training_accuracy)\n",
    "    #print \"Accuracy on test data:     %0.2f\" % (test_accuracy)\n",
    "    #print confusion_matrix(ytest, clf.predict(Xtest))\n",
    "    #print \"########################################################\"\n",
    "    return clf, Xtrain, ytrain, Xtest, ytest"
   ]
  },
  {
   "cell_type": "code",
   "execution_count": 13,
   "metadata": {
    "collapsed": true
   },
   "outputs": [],
   "source": [
    "X=dftouse[lcols].values\n",
    "y=dftouse['results'].values\n",
    "Xtrain, Xtest, ytrain, ytest = X[mask], X[~mask], y[mask], y[~mask]  \n",
    "reuse_split=dict(Xtrain=Xtrain, Xtest=Xtest, ytrain=ytrain, ytest=ytest)"
   ]
  },
  {
   "cell_type": "code",
   "execution_count": 14,
   "metadata": {
    "collapsed": false
   },
   "outputs": [
    {
     "name": "stdout",
     "output_type": "stream",
     "text": [
      "whole data set 0.465725806452\n",
      "training set 0.468203497615 test set 0.452173913043\n"
     ]
    }
   ],
   "source": [
    "print \"whole data set\", dftouse['results'].mean()\n",
    "print \"training set\", dftouse['results'][mask].mean(), \"test set\", dftouse['results'][~mask].mean()"
   ]
  },
  {
   "cell_type": "markdown",
   "metadata": {},
   "source": [
    "#####our data is not very asymmetric, but we might still want to balance the trainset"
   ]
  },
  {
   "cell_type": "markdown",
   "metadata": {},
   "source": [
    "### Balancing train set to test set for training, \n",
    "### intended to be used with SVM only"
   ]
  },
  {
   "cell_type": "code",
   "execution_count": 15,
   "metadata": {
    "collapsed": false
   },
   "outputs": [
    {
     "name": "stdout",
     "output_type": "stream",
     "text": [
      "589 669\n",
      "(1178L, 70L) (1178L,)\n"
     ]
    }
   ],
   "source": [
    "jtrain=np.arange(0, ytrain.shape[0])\n",
    "n_pos=len(jtrain[ytrain==1])\n",
    "n_neg=len(jtrain[ytrain==0])\n",
    "print n_pos, n_neg\n",
    "\n",
    "ineg = np.random.choice(jtrain[ytrain==0], n_pos, replace=False)\n",
    "alli=np.concatenate((jtrain[ytrain==1], ineg))\n",
    "Xtrain_new = Xtrain[alli]\n",
    "ytrain_new = ytrain[alli]\n",
    "print Xtrain_new.shape, ytrain_new.shape\n",
    "\n",
    "reuse_split_balanced=dict(Xtrain=Xtrain_new, Xtest=Xtest, ytrain=ytrain_new, ytest=ytest)"
   ]
  },
  {
   "cell_type": "markdown",
   "metadata": {},
   "source": [
    "## Test all classifiersres using SelectKbest"
   ]
  },
  {
   "cell_type": "code",
   "execution_count": 16,
   "metadata": {
    "collapsed": false
   },
   "outputs": [],
   "source": [
    "from sklearn.grid_search import GridSearchCV\n",
    "from sklearn.pipeline import Pipeline\n",
    "from sklearn.feature_selection import SelectKBest, f_regression\n",
    "from sklearn.linear_model import LogisticRegression\n",
    "\n",
    "def evaluate(clf):\n",
    "    training_accuracy = clf.score(Xtrain, ytrain)\n",
    "    test_accuracy = clf.score(Xtest, ytest)\n",
    "    df_pred = df[~mask].reset_index(drop=True)\n",
    "    df_pred['pred_result'] = clf.predict(Xtest)\n",
    "    df_pred['result_baseline'] = np.ones(df_pred.shape[0])\n",
    "    _,_,ROI_base,_,_ = evaluate_profit(df_pred, startdate, enddate, 10000, 'result_baseline', 'close', False, [1])\n",
    "    _,_,ROI_long,_,_ = evaluate_profit(df_pred, startdate, enddate, 10000, 'pred_result', 'close', False, [1])\n",
    "    _,_,ROI_lgst,_,signals = evaluate_profit(df_pred, startdate, enddate, 10000, 'pred_result', 'close', False, [1,0])\n",
    "    return training_accuracy, test_accuracy, ROI_base, ROI_long, ROI_lgst, signals\n",
    "\n",
    "def print_result(clfpipe):     \n",
    "    print \"Number of features: {0}\".format(clfpipe.get_params()['selectk__k'])\n",
    "    print \"Features: {0}\".format(np.array(lcols)[clfpipe.named_steps['selectk'].get_support()].tolist())\n",
    "    r = evaluate(clfpipe)\n",
    "    print \"train accuracy: {0}\".format(r[0])\n",
    "    print \"test accuracy: {0}\".format(r[1])\n",
    "    print \"ROI baseline: {0}\".format(r[2])\n",
    "    print \"ROI long-only: {0}\".format(r[3])\n",
    "    print \"ROI long-short: {0}\".format(r[4])"
   ]
  },
  {
   "cell_type": "code",
   "execution_count": 17,
   "metadata": {
    "collapsed": true
   },
   "outputs": [],
   "source": [
    "from sklearn.neighbors import KNeighborsClassifier\n",
    "from sklearn.svm import SVC\n",
    "from sklearn.svm import LinearSVC\n",
    "from sklearn.tree import DecisionTreeClassifier\n",
    "from sklearn.linear_model import LogisticRegression\n",
    "from sklearn.ensemble import RandomForestClassifier, AdaBoostClassifier\n",
    "from sklearn.naive_bayes import GaussianNB\n",
    "from sklearn.naive_bayes import MultinomialNB\n",
    "from sklearn.ensemble import GradientBoostingClassifier\n",
    "from sklearn.ensemble import ExtraTreesClassifier\n",
    "from sklearn.metrics import f1_score"
   ]
  },
  {
   "cell_type": "code",
   "execution_count": 18,
   "metadata": {
    "collapsed": false
   },
   "outputs": [
    {
     "name": "stdout",
     "output_type": "stream",
     "text": [
      "#############====================== Log Regression =====================#############\n",
      "0.1\n",
      "Number of features: 4\n",
      "Features: ['bb_pct', 'cci', 'rsi', 'stoch_slowk']\n",
      "train accuracy: 0.694753577107\n",
      "test accuracy: 0.713043478261\n",
      "ROI baseline: 0.01705\n",
      "ROI long-only: 0.1756605927\n",
      "ROI long-short: 0.3529951048\n",
      "Wall time: 2.32 s\n"
     ]
    }
   ],
   "source": [
    "%%time\n",
    "max_number_featrues = 10 \n",
    "Long_ROI_result={}\n",
    "models={}\n",
    "print \"#############====================== Log Regression =====================#############\"\n",
    "selectk = SelectKBest(score_func=f_regression)\n",
    "pipeLR = Pipeline([('selectk', selectk), ('LR', LogisticRegression(penalty=\"l1\"))])\n",
    "pipeLR, _,_,_,_  = do_classify(pipeLR, {\"selectk__k\":range(1,max_number_featrues+1), \n",
    "                                        \"LR__C\": [1e-3, 1e-2, 1e-1, 1, 1e2]}, \n",
    "                               dftouse,lcols, u'results',1, reuse_split=reuse_split)\n",
    "\n",
    "print pipeLR.get_params()['LR__C']\n",
    "print_result(pipeLR)\n",
    "Long_ROI_result[\"log_regression\"] = evaluate(pipeLR)[3]\n",
    "models[\"log_regression\"] = pipeLR"
   ]
  },
  {
   "cell_type": "code",
   "execution_count": 19,
   "metadata": {
    "collapsed": false
   },
   "outputs": [
    {
     "name": "stdout",
     "output_type": "stream",
     "text": [
      "#############====================== Linear SVM ========================#############\n",
      "1e-300\n",
      "Number of features: 10\n",
      "Features: ['bb_pct', 'plus_di', 'cci', 'rsi', 'ult_osc', 'willr', 'stoch_slowk', 'stoch_slowd', 'stoch_fastk', 'stoch_fastd']\n",
      "train accuracy: 0.680445151033\n",
      "test accuracy: 0.686956521739\n",
      "ROI baseline: 0.01705\n",
      "ROI long-only: 0.1366878214\n",
      "ROI long-short: 0.2634956166\n",
      "Wall time: 2.34 s\n"
     ]
    }
   ],
   "source": [
    "%%time\n",
    "print \"#############====================== Linear SVM ========================#############\"\n",
    "clfsvm_b = Pipeline([('selectk', selectk), ('svm', LinearSVC(loss=\"hinge\"))])\n",
    "clfsvm_b,_,_,_,_  = do_classify(clfsvm_b, {\"selectk__k\":range(1,max_number_featrues+1), \n",
    "                                           \"svm__C\": [1e-300, 1e-200, 1e-100, 1e-10, 1e-1, 1]}, \n",
    "                                dftouse,lcols, u'results',1, reuse_split=reuse_split_balanced)\n",
    "\n",
    "print clfsvm_b.get_params()['svm__C']\n",
    "print_result(clfsvm_b)\n",
    "Long_ROI_result[\"Linear_SVM\"] = evaluate(clfsvm_b)[3]\n",
    "models[\"Linear_SVM\"] = clfsvm_b"
   ]
  },
  {
   "cell_type": "code",
   "execution_count": 20,
   "metadata": {
    "collapsed": false
   },
   "outputs": [
    {
     "name": "stdout",
     "output_type": "stream",
     "text": [
      "#############====================== RBF SVM ===========================#############\n",
      "10000000000.0 1e-09\n",
      "Number of features: 10\n",
      "Features: ['bb_pct', 'plus_di', 'cci', 'rsi', 'ult_osc', 'willr', 'stoch_slowk', 'stoch_slowd', 'stoch_fastk', 'stoch_fastd']\n",
      "train accuracy: 0.689984101749\n",
      "test accuracy: 0.686956521739\n",
      "ROI baseline: 0.01705\n",
      "ROI long-only: 0.1175109669\n",
      "ROI long-short: 0.2213139269\n",
      "Wall time: 29.5 s\n"
     ]
    }
   ],
   "source": [
    "%%time\n",
    "print \"#############====================== RBF SVM ===========================#############\"\n",
    "pipesvm2 = Pipeline([('selectk', selectk), ('svm2', SVC())])\n",
    "pipesvm2,_,_,_,_  = do_classify(pipesvm2, {\"selectk__k\":range(1,max_number_featrues+1), \n",
    "                                            \"svm2__C\": [1e-100, 1e-10, 1e-1, 1, 1e10], \n",
    "                                            \"svm2__gamma\": [ 1e-9, 1e-10, 1e-11]}, \n",
    "                                 dftouse,lcols, u'results',1, reuse_split=reuse_split_balanced)\n",
    "print pipesvm2.get_params()['svm2__C'], pipesvm2.get_params()['svm2__gamma']\n",
    "print_result(pipesvm2)\n",
    "Long_ROI_result[\"RBF_SVM\"] = evaluate(pipesvm2)[3]\n",
    "models[\"RBF_SVM\"] = pipesvm2"
   ]
  },
  {
   "cell_type": "code",
   "execution_count": 21,
   "metadata": {
    "collapsed": false
   },
   "outputs": [
    {
     "name": "stdout",
     "output_type": "stream",
     "text": [
      "#############====================== Random Forest =====================#############\n",
      "3 10 2\n",
      "Number of features: 10\n",
      "Features: ['bb_pct', 'plus_di', 'minus_di', 'cci', 'rsi', 'ult_osc', 'willr', 'stoch_slowk', 'stoch_slowd', 'stoch_fastd']\n",
      "train accuracy: 0.699523052464\n",
      "test accuracy: 0.708695652174\n",
      "ROI baseline: 0.01705\n",
      "ROI long-only: 0.1736937522\n",
      "ROI long-short: 0.348398476\n",
      "Wall time: 1min 29s\n"
     ]
    }
   ],
   "source": [
    "%%time\n",
    "print \"#############====================== Random Forest =====================#############\"\n",
    "pipeRF = Pipeline([('selectk', selectk), ('RF', RandomForestClassifier())])\n",
    "pipeRF,_,_,_,_  = do_classify(pipeRF, {\"selectk__k\": [5,6,7,8,9,10],\n",
    "                                       \"RF__max_depth\": [3,5,7,10], \n",
    "                                       \"RF__n_estimators\": [5,10,20,40],\n",
    "                                       \"RF__max_features\": [1,2,3,4,5]}, \n",
    "                              dftouse, lcols, u'results', 1, reuse_split=reuse_split)\n",
    "\n",
    "print pipeRF.get_params()['RF__max_depth'], pipeRF.get_params()['RF__n_estimators'], pipeRF.get_params()['RF__max_features']\n",
    "print_result(pipeRF)\n",
    "Long_ROI_result[\"Random_forest\"] = evaluate(pipeRF)[3]\n",
    "models[\"Random_forest\"] = pipeRF"
   ]
  },
  {
   "cell_type": "code",
   "execution_count": 22,
   "metadata": {
    "collapsed": false
   },
   "outputs": [
    {
     "name": "stdout",
     "output_type": "stream",
     "text": [
      "#############====================== Extra Trees= =====================#############\n",
      "ET__max_depth: 7\n",
      "ET__n_estimators: 40\n",
      "ET__max_features: 1\n",
      "Number of features: 5\n",
      "Features: ['bb_pct', 'plus_di', 'cci', 'rsi', 'stoch_slowk']\n",
      "train accuracy: 0.722575516693\n",
      "test accuracy: 0.691304347826\n",
      "ROI baseline: 0.01705\n",
      "ROI long-only: 0.1352567544\n",
      "ROI long-short: 0.2581104887\n",
      "Wall time: 1min 45s\n"
     ]
    }
   ],
   "source": [
    "%%time\n",
    "print \"#############====================== Extra Trees= =====================#############\"\n",
    "pipeET = Pipeline([('selectk', selectk), ('ET', ExtraTreesClassifier())])\n",
    "pipeET, _,_,_,_  = do_classify(pipeET, {\"selectk__k\": [5,6,7,8,9,10],\n",
    "                                        \"ET__max_depth\": [3,5,7,10,15,25,50], \n",
    "                                        \"ET__n_estimators\": [5,10,20,40],\n",
    "                                        \"ET__max_features\": [1,2,3,4,5]}, \n",
    "                               dftouse, lcols, u'results', 1, reuse_split=reuse_split)\n",
    "print \"ET__max_depth: {0}\".format(pipeET.get_params()['ET__max_depth']) \n",
    "print \"ET__n_estimators: {0}\".format(pipeET.get_params()['ET__n_estimators']) \n",
    "print \"ET__max_features: {0}\".format(pipeET.get_params()['ET__max_features']) \n",
    "print_result(pipeET)\n",
    "Long_ROI_result[\"Extra_Trees\"] = evaluate(pipeET)[3]\n",
    "models[\"Extra_Trees\"] = pipeET"
   ]
  },
  {
   "cell_type": "code",
   "execution_count": 23,
   "metadata": {
    "collapsed": false
   },
   "outputs": [
    {
     "name": "stdout",
     "output_type": "stream",
     "text": [
      "#############====================== Gaussian NB ==========================#############\n",
      "Number of features: 5\n",
      "Features: ['bb_pct', 'plus_di', 'cci', 'rsi', 'stoch_slowk']\n",
      "train accuracy: 0.692368839428\n",
      "test accuracy: 0.673913043478\n",
      "ROI baseline: 0.01705\n",
      "ROI long-only: 0.0961226444\n",
      "ROI long-short: 0.1773522541\n",
      "Wall time: 482 ms\n"
     ]
    }
   ],
   "source": [
    "%%time\n",
    "print \"#############====================== Gaussian NB ==========================#############\"\n",
    "pipeNB = Pipeline([('selectk', selectk), ('NB', GaussianNB())])\n",
    "pipeNB,_,_,_,_ = do_classify(pipeNB, {\"selectk__k\":range(1,max_number_featrues+1)},\n",
    "                             dftouse, lcols, u'results',1, reuse_split=reuse_split)\n",
    "print_result(pipeNB)\n",
    "Long_ROI_result[\"Gaussian_NB\"] = evaluate(pipeNB)[3]\n",
    "models[\"Gaussian_NB\"] = pipeNB"
   ]
  },
  {
   "cell_type": "code",
   "execution_count": 24,
   "metadata": {
    "collapsed": false
   },
   "outputs": [
    {
     "name": "stdout",
     "output_type": "stream",
     "text": [
      "#############====================== Gradient Boosting ====================#############\n",
      "40 0.1\n",
      "Number of features: 6\n",
      "Features: ['bb_pct', 'plus_di', 'cci', 'rsi', 'willr', 'stoch_slowk']\n",
      "train accuracy: 0.763116057234\n",
      "test accuracy: 0.65652173913\n",
      "ROI baseline: 0.01705\n",
      "ROI long-only: 0.0957098489\n",
      "ROI long-short: 0.1755636633\n",
      "Wall time: 20.4 s\n"
     ]
    }
   ],
   "source": [
    "%%time\n",
    "print \"#############====================== Gradient Boosting ====================#############\"\n",
    "pipeGB = Pipeline([('selectk', selectk), ('GB', GradientBoostingClassifier())])\n",
    "pipeGB, _,_,_,_  = do_classify(pipeGB, {\"selectk__k\":range(1,max_number_featrues+1), \n",
    "                                        \"GB__n_estimators\": [5,10,20,40],\n",
    "                                        \"GB__learning_rate\": [0.1,0.5,1.0]}, \n",
    "                               dftouse,lcols, u'results',1, reuse_split=reuse_split)\n",
    "print pipeGB.get_params()['GB__n_estimators'], pipeGB.get_params()['GB__learning_rate']\n",
    "print_result(pipeGB)\n",
    "Long_ROI_result[\"Gradient_Boosting\"] = evaluate(pipeGB)[3]\n",
    "models[\"Gradient_Boosting\"] = pipeGB"
   ]
  },
  {
   "cell_type": "code",
   "execution_count": 25,
   "metadata": {
    "collapsed": false
   },
   "outputs": [
    {
     "name": "stdout",
     "output_type": "stream",
     "text": [
      "ROI baseline: 0.01705\n"
     ]
    },
    {
     "data": {
      "text/plain": [
       "{'Extra_Trees': 0.13525675440000012,\n",
       " 'Gaussian_NB': 0.096122644399999985,\n",
       " 'Gradient_Boosting': 0.095709848899999811,\n",
       " 'Linear_SVM': 0.13668782139999949,\n",
       " 'RBF_SVM': 0.11751096689999958,\n",
       " 'Random_forest': 0.17369375219999966,\n",
       " 'log_regression': 0.1756605926999997}"
      ]
     },
     "execution_count": 25,
     "metadata": {},
     "output_type": "execute_result"
    }
   ],
   "source": [
    "print \"ROI baseline: {0}\".format(evaluate(pipeGB)[2])\n",
    "Long_ROI_result"
   ]
  },
  {
   "cell_type": "code",
   "execution_count": 33,
   "metadata": {
    "collapsed": false
   },
   "outputs": [
    {
     "data": {
      "image/png": "[encoded data removed]",
      "text/plain": [
       "<matplotlib.figure.Figure at 0x2365ca90>"
      ]
     },
     "metadata": {},
     "output_type": "display_data"
    }
   ],
   "source": [
    "def plot_signal(model, title):\n",
    "    fig, (ax0) = plt.subplots(nrows=1, ncols=1, figsize=(20, 8))\n",
    "    ax0.plot(df.date[~mask], df.close[~mask], lw=1)\n",
    "    short_days=zip(*evaluate(pipeLR)[5][0])[0]\n",
    "    short_prices=zip(*evaluate(pipeLR)[5][0])[1]\n",
    "    long_days=zip(*evaluate(pipeLR)[5][1])[0]\n",
    "    long_prices=zip(*evaluate(pipeLR)[5][1])[1]\n",
    "    ax0.scatter(long_days, long_prices, color='g', label=\"Long Signals\") \n",
    "    ax0.scatter(short_days, short_prices, color='r', label=\"Short Signals\")\n",
    "    ax0.legend(frameon=False, loc='upper right')\n",
    "    ax0.set_title(title)\n",
    "    \n",
    "plot_signal(pipeLR, 'log_regression')"
   ]
  },
  {
   "cell_type": "code",
   "execution_count": null,
   "metadata": {
    "collapsed": false
   },
   "outputs": [],
   "source": [
    "for k, v in models.items():\n",
    "    plot_signal(v, k)"
   ]
  }
 ],
 "metadata": {
  "kernelspec": {
   "display_name": "Python 2",
   "language": "python",
   "name": "python2"
  },
  "language_info": {
   "codemirror_mode": {
    "name": "ipython",
    "version": 2
   },
   "file_extension": ".py",
   "mimetype": "text/x-python",
   "name": "python",
   "nbconvert_exporter": "python",
   "pygments_lexer": "ipython2",
   "version": "2.7.10"
  }
 },
 "nbformat": 4,
 "nbformat_minor": 0
}
