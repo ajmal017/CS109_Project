{
 "cells": [
  {
   "cell_type": "markdown",
   "metadata": {},
   "source": [
    "# Exploratory analysis (con'td)\n"
   ]
  },
  {
   "cell_type": "markdown",
   "metadata": {},
   "source": [
    "## Feature analysis and initial ML implementation"
   ]
  },
  {
   "cell_type": "code",
   "execution_count": 1,
   "metadata": {
    "collapsed": true
   },
   "outputs": [],
   "source": [
    "%matplotlib inline\n",
    "import numpy as np\n",
    "import scipy as sp\n",
    "import matplotlib as mpl\n",
    "import matplotlib.cm as cm\n",
    "import matplotlib.pyplot as plt\n",
    "import pandas as pd\n",
    "pd.set_option('display.width', 500)\n",
    "pd.set_option('display.max_columns', 100)\n",
    "pd.set_option('display.notebook_repr_html', True)\n",
    "import seaborn as sns\n",
    "sns.set_style(\"whitegrid\")\n",
    "sns.set_context(\"poster\")"
   ]
  },
  {
   "cell_type": "markdown",
   "metadata": {},
   "source": [
    "### Feature engineering"
   ]
  },
  {
   "cell_type": "markdown",
   "metadata": {},
   "source": [
    "Let's first read in data with a few features we want to use.  For the sake of this example `result_14` is the actual result (False means stock is down in 14 days, True means stock is up).  The features we will use are:\n",
    "\n",
    "* `ema_signal1` (signal from exponential moving average)\n",
    "* `kama_signal1` (signal from adaptive moving average)\n",
    "* `sar_signal` (signal from parabolic SAR)\n",
    "* `cv_signal`\n",
    "* `trix_signal`\n",
    "* `ad_signal`\n"
   ]
  },
  {
   "cell_type": "code",
   "execution_count": 2,
   "metadata": {
    "collapsed": false
   },
   "outputs": [
    {
     "name": "stdout",
     "output_type": "stream",
     "text": [
      "ema_signal1      bool\n",
      "kama_signal1     bool\n",
      "sar_signal       bool\n",
      "cv_signal        bool\n",
      "trix_signal      bool\n",
      "bb_signal       int64\n",
      "ad_signal        bool\n",
      "aroon_signal     bool\n",
      "adx_signal      int64\n",
      "cci_signal      int64\n",
      "result_14        bool\n",
      "dtype: object\n",
      "(1258, 11)\n"
     ]
    }
   ],
   "source": [
    "df=pd.read_csv(\"./data/UXI.csv\")\n",
    "\n",
    "\n",
    "# Variables with binary signals \n",
    "SIGNAL_VARS = ['ema_signal1', 'kama_signal1','sar_signal','cv_signal','trix_signal',\n",
    "               'bb_signal','ad_signal','aroon_signal','adx_signal','cci_signal']\n",
    "\n",
    "dftouse = df.copy()\n",
    "dftouse = dftouse[SIGNAL_VARS]\n",
    "dftouse['result_14'] = df['result_14'] \n",
    "print dftouse.dtypes\n",
    "print dftouse.shape"
   ]
  },
  {
   "cell_type": "markdown",
   "metadata": {},
   "source": [
    "### Correlation analysis"
   ]
  },
  {
   "cell_type": "code",
   "execution_count": 3,
   "metadata": {
    "collapsed": false
   },
   "outputs": [
    {
     "data": {
      "text/html": [
       "<div>\n",
       "<table border=\"1\" class=\"dataframe\">\n",
       "  <thead>\n",
       "    <tr style=\"text-align: right;\">\n",
       "      <th></th>\n",
       "      <th>abscorr</th>\n",
       "      <th>corr</th>\n",
       "      <th>p_val</th>\n",
       "    </tr>\n",
       "    <tr>\n",
       "      <th>feature</th>\n",
       "      <th></th>\n",
       "      <th></th>\n",
       "      <th></th>\n",
       "    </tr>\n",
       "  </thead>\n",
       "  <tbody>\n",
       "    <tr>\n",
       "      <th>ema_signal1</th>\n",
       "      <td>0.074386</td>\n",
       "      <td>-0.074386</td>\n",
       "      <td>0.008305</td>\n",
       "    </tr>\n",
       "    <tr>\n",
       "      <th>aroon_signal</th>\n",
       "      <td>0.062820</td>\n",
       "      <td>-0.062820</td>\n",
       "      <td>0.025873</td>\n",
       "    </tr>\n",
       "    <tr>\n",
       "      <th>ad_signal</th>\n",
       "      <td>0.061355</td>\n",
       "      <td>-0.061355</td>\n",
       "      <td>0.029551</td>\n",
       "    </tr>\n",
       "    <tr>\n",
       "      <th>kama_signal1</th>\n",
       "      <td>0.054071</td>\n",
       "      <td>-0.054071</td>\n",
       "      <td>0.055201</td>\n",
       "    </tr>\n",
       "    <tr>\n",
       "      <th>sar_signal</th>\n",
       "      <td>0.047943</td>\n",
       "      <td>0.047943</td>\n",
       "      <td>0.089181</td>\n",
       "    </tr>\n",
       "    <tr>\n",
       "      <th>bb_signal</th>\n",
       "      <td>0.036060</td>\n",
       "      <td>-0.036060</td>\n",
       "      <td>0.201205</td>\n",
       "    </tr>\n",
       "    <tr>\n",
       "      <th>adx_signal</th>\n",
       "      <td>0.023721</td>\n",
       "      <td>-0.023721</td>\n",
       "      <td>0.400553</td>\n",
       "    </tr>\n",
       "    <tr>\n",
       "      <th>trix_signal</th>\n",
       "      <td>0.021312</td>\n",
       "      <td>0.021312</td>\n",
       "      <td>0.450117</td>\n",
       "    </tr>\n",
       "    <tr>\n",
       "      <th>cv_signal</th>\n",
       "      <td>0.020341</td>\n",
       "      <td>0.020341</td>\n",
       "      <td>0.471014</td>\n",
       "    </tr>\n",
       "    <tr>\n",
       "      <th>cci_signal</th>\n",
       "      <td>0.015993</td>\n",
       "      <td>0.015993</td>\n",
       "      <td>0.570916</td>\n",
       "    </tr>\n",
       "  </tbody>\n",
       "</table>\n",
       "</div>"
      ],
      "text/plain": [
       "               abscorr      corr     p_val\n",
       "feature                                   \n",
       "ema_signal1   0.074386 -0.074386  0.008305\n",
       "aroon_signal  0.062820 -0.062820  0.025873\n",
       "ad_signal     0.061355 -0.061355  0.029551\n",
       "kama_signal1  0.054071 -0.054071  0.055201\n",
       "sar_signal    0.047943  0.047943  0.089181\n",
       "bb_signal     0.036060 -0.036060  0.201205\n",
       "adx_signal    0.023721 -0.023721  0.400553\n",
       "trix_signal   0.021312  0.021312  0.450117\n",
       "cv_signal     0.020341  0.020341  0.471014\n",
       "cci_signal    0.015993  0.015993  0.570916"
      ]
     },
     "execution_count": 3,
     "metadata": {},
     "output_type": "execute_result"
    }
   ],
   "source": [
    "# Code adapted from HW3 code\n",
    "from scipy.stats.stats import pearsonr\n",
    "correlations=[]\n",
    "for col in SIGNAL_VARS:\n",
    "    r=pearsonr(dftouse[col], dftouse['result_14'])\n",
    "    r_val=r[0]\n",
    "    p_val=r[1]\n",
    "    correlations.append(dict(feature=col,corr=r_val, abscorr=np.abs(r_val),p_val=p_val))\n",
    "\n",
    "bpdf=pd.DataFrame(correlations).sort('abscorr', ascending=False)\n",
    "bpdf.set_index(['feature'], inplace=True)\n",
    "bpdf.head(25)"
   ]
  },
  {
   "cell_type": "markdown",
   "metadata": {},
   "source": [
    "As we can see, most of the indicators have very high p-values and may turn out to be useless.  I will try the same analysis, but using quantitative indicators that I will normalize."
   ]
  },
  {
   "cell_type": "code",
   "execution_count": 4,
   "metadata": {
    "collapsed": false
   },
   "outputs": [
    {
     "name": "stdout",
     "output_type": "stream",
     "text": [
      "ema50        float64\n",
      "kama50       float64\n",
      "sar          float64\n",
      "trix         float64\n",
      "ad_osc       float64\n",
      "aroon_osc    float64\n",
      "adx          float64\n",
      "cci          float64\n",
      "perf_14      float64\n",
      "dtype: object\n",
      "(1258, 9)\n"
     ]
    }
   ],
   "source": [
    "# Variables with binary signals \n",
    "QUANT_VARS = ['ema50', 'kama50','sar','trix','ad_osc','aroon_osc','adx','cci']\n",
    "\n",
    "dftouse = df.copy()\n",
    "dftouse = dftouse[QUANT_VARS]\n",
    "dftouse['perf_14'] = df['perf_14'] \n",
    "print dftouse.dtypes\n",
    "print dftouse.shape"
   ]
  },
  {
   "cell_type": "code",
   "execution_count": 5,
   "metadata": {
    "collapsed": false
   },
   "outputs": [],
   "source": [
    "from sklearn.preprocessing import StandardScaler\n",
    "\n",
    "dfTemp = dftouse[QUANT_VARS].copy() # Temporary data frame with only standardizable data\n",
    "\n",
    "# Perform scaling \n",
    "dfTemp = StandardScaler().fit_transform(dfTemp)\n",
    "\n",
    "dftouse[QUANT_VARS] = dfTemp "
   ]
  },
  {
   "cell_type": "code",
   "execution_count": 6,
   "metadata": {
    "collapsed": false
   },
   "outputs": [
    {
     "data": {
      "text/html": [
       "<div>\n",
       "<table border=\"1\" class=\"dataframe\">\n",
       "  <thead>\n",
       "    <tr style=\"text-align: right;\">\n",
       "      <th></th>\n",
       "      <th>abscorr</th>\n",
       "      <th>corr</th>\n",
       "      <th>p_val</th>\n",
       "    </tr>\n",
       "    <tr>\n",
       "      <th>feature</th>\n",
       "      <th></th>\n",
       "      <th></th>\n",
       "      <th></th>\n",
       "    </tr>\n",
       "  </thead>\n",
       "  <tbody>\n",
       "    <tr>\n",
       "      <th>sar</th>\n",
       "      <td>0.157397</td>\n",
       "      <td>-0.157397</td>\n",
       "      <td>1.999204e-08</td>\n",
       "    </tr>\n",
       "    <tr>\n",
       "      <th>kama50</th>\n",
       "      <td>0.145411</td>\n",
       "      <td>-0.145411</td>\n",
       "      <td>2.219940e-07</td>\n",
       "    </tr>\n",
       "    <tr>\n",
       "      <th>ema50</th>\n",
       "      <td>0.144496</td>\n",
       "      <td>-0.144496</td>\n",
       "      <td>2.647119e-07</td>\n",
       "    </tr>\n",
       "    <tr>\n",
       "      <th>adx</th>\n",
       "      <td>0.102510</td>\n",
       "      <td>0.102510</td>\n",
       "      <td>2.706859e-04</td>\n",
       "    </tr>\n",
       "    <tr>\n",
       "      <th>trix</th>\n",
       "      <td>0.079920</td>\n",
       "      <td>-0.079920</td>\n",
       "      <td>4.563108e-03</td>\n",
       "    </tr>\n",
       "    <tr>\n",
       "      <th>aroon_osc</th>\n",
       "      <td>0.062322</td>\n",
       "      <td>-0.062322</td>\n",
       "      <td>2.707711e-02</td>\n",
       "    </tr>\n",
       "    <tr>\n",
       "      <th>ad_osc</th>\n",
       "      <td>0.061914</td>\n",
       "      <td>-0.061914</td>\n",
       "      <td>2.809861e-02</td>\n",
       "    </tr>\n",
       "    <tr>\n",
       "      <th>cci</th>\n",
       "      <td>0.059511</td>\n",
       "      <td>-0.059511</td>\n",
       "      <td>3.481235e-02</td>\n",
       "    </tr>\n",
       "  </tbody>\n",
       "</table>\n",
       "</div>"
      ],
      "text/plain": [
       "            abscorr      corr         p_val\n",
       "feature                                    \n",
       "sar        0.157397 -0.157397  1.999204e-08\n",
       "kama50     0.145411 -0.145411  2.219940e-07\n",
       "ema50      0.144496 -0.144496  2.647119e-07\n",
       "adx        0.102510  0.102510  2.706859e-04\n",
       "trix       0.079920 -0.079920  4.563108e-03\n",
       "aroon_osc  0.062322 -0.062322  2.707711e-02\n",
       "ad_osc     0.061914 -0.061914  2.809861e-02\n",
       "cci        0.059511 -0.059511  3.481235e-02"
      ]
     },
     "execution_count": 6,
     "metadata": {},
     "output_type": "execute_result"
    }
   ],
   "source": [
    "# Code adapted from HW3 code\n",
    "from scipy.stats.stats import pearsonr\n",
    "correlations=[]\n",
    "for col in QUANT_VARS:\n",
    "    r=pearsonr(dftouse[col], dftouse['perf_14'])\n",
    "    r_val=r[0]\n",
    "    p_val=r[1]\n",
    "    correlations.append(dict(feature=col,corr=r_val, abscorr=np.abs(r_val),p_val=p_val))\n",
    "\n",
    "bpdf=pd.DataFrame(correlations).sort('abscorr', ascending=False)\n",
    "bpdf.set_index(['feature'], inplace=True)\n",
    "bpdf.head(25)"
   ]
  },
  {
   "cell_type": "markdown",
   "metadata": {},
   "source": [
    "Conclusion: better used quantitative indicators whenever we can!"
   ]
  },
  {
   "cell_type": "code",
   "execution_count": null,
   "metadata": {
    "collapsed": true
   },
   "outputs": [],
   "source": []
  },
  {
   "cell_type": "code",
   "execution_count": null,
   "metadata": {
    "collapsed": true
   },
   "outputs": [],
   "source": []
  }
 ],
 "metadata": {
  "kernelspec": {
   "display_name": "Python 2",
   "language": "python",
   "name": "python2"
  },
  "language_info": {
   "codemirror_mode": {
    "name": "ipython",
    "version": 2
   },
   "file_extension": ".py",
   "mimetype": "text/x-python",
   "name": "python",
   "nbconvert_exporter": "python",
   "pygments_lexer": "ipython2",
   "version": "2.7.10"
  }
 },
 "nbformat": 4,
 "nbformat_minor": 0
}
