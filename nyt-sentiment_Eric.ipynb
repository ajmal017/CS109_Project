{
 "cells": [
  {
   "cell_type": "markdown",
   "metadata": {},
   "source": [
    "# Sentiment Analysis using the New York Times API"
   ]
  },
  {
   "cell_type": "code",
   "execution_count": 1,
   "metadata": {
    "collapsed": true
   },
   "outputs": [],
   "source": [
    "# Import statements\n",
    "import csv\n",
    "import pandas as pd\n",
    "import numpy as np\n",
    "import time\n",
    "%matplotlib inline"
   ]
  },
  {
   "cell_type": "code",
   "execution_count": 2,
   "metadata": {
    "collapsed": true
   },
   "outputs": [],
   "source": [
    "# Using API tool with key\n",
    "from nytimesarticle import articleAPI\n",
    "api = articleAPI('6030f83cb2a273755c7c7145f6b91168:18:73659797')"
   ]
  },
  {
   "cell_type": "code",
   "execution_count": 3,
   "metadata": {
    "collapsed": false
   },
   "outputs": [
    {
     "name": "stdout",
     "output_type": "stream",
     "text": [
      "1490\n"
     ]
    }
   ],
   "source": [
    "# Read in the dates to use for sentiment analysis\n",
    "dframe=pd.read_csv('RFE/data/IYZ_from_2010-01-04_2015-12-02.csv')\n",
    "date_list = list(dframe['date'])\n",
    "cleaned_dates = []\n",
    "dates_dict = {}\n",
    "for entry in date_list:\n",
    "    cleaned_dates.append(entry.replace('-', ''))\n",
    "    dates_dict[entry.replace('-', '')] = 0.5\n",
    "print len(dates_dict)"
   ]
  },
  {
   "cell_type": "code",
   "execution_count": 4,
   "metadata": {
    "collapsed": true
   },
   "outputs": [],
   "source": [
    "# This function takes in a response to the NYT api and parses the articles into a list of dictionaries\n",
    "def parse_articles(articles, datestamp):  \n",
    "    news = []\n",
    "    for i in articles['response']['docs']:\n",
    "        dic = {}\n",
    "        dic['date'] = datestamp\n",
    "        dic['text'] = i['headline']['main'].encode(\"utf8\")\n",
    "        if i['snippet'] is not None:\n",
    "            dic['text'] = dic['text'] + \" \" + i['snippet'].encode(\"utf8\")     \n",
    "        news.append(dic)\n",
    "    return(news) "
   ]
  },
  {
   "cell_type": "code",
   "execution_count": 5,
   "metadata": {
    "collapsed": false
   },
   "outputs": [],
   "source": [
    "# This function accepts a list of dates and returns a dictionary of parsed articles for those dates \n",
    "def get_articles(dates,query):\n",
    "    all_articles = []\n",
    "    for date in dates:\n",
    "        articles = api.search(q = query,\n",
    "                fq = {'news_desk':['Business','Financial','Outlook','Personal Investing','Wealth']},\n",
    "                begin_date = date,\n",
    "                end_date = date,\n",
    "                sort='oldest')\n",
    "        articles = parse_articles(articles,date)\n",
    "        if len(articles) != 0:\n",
    "            all_articles  = all_articles + articles\n",
    "        time.sleep(0.1)\n",
    "    return(all_articles)"
   ]
  },
  {
   "cell_type": "code",
   "execution_count": 6,
   "metadata": {
    "collapsed": false
   },
   "outputs": [],
   "source": [
    "# Telecommunications_articles\n",
    "tele_articles = get_articles(cleaned_dates,'economy')\n",
    "tele_df = pd.DataFrame.from_dict(tele_articles)"
   ]
  },
  {
   "cell_type": "code",
   "execution_count": 7,
   "metadata": {
    "collapsed": false
   },
   "outputs": [],
   "source": [
    "# Store dataframe in a CSV for future analysis\n",
    "tele_df.to_csv('sentiment_data/economy.csv')"
   ]
  },
  {
   "cell_type": "code",
   "execution_count": null,
   "metadata": {
    "collapsed": false
   },
   "outputs": [],
   "source": [
    "# Read the CSV after manual classification of text as positive or negative\n",
    "tele_df = pd.read_csv('sentiment_data/tele.csv')"
   ]
  },
  {
   "cell_type": "code",
   "execution_count": null,
   "metadata": {
    "collapsed": false,
    "scrolled": true
   },
   "outputs": [],
   "source": [
    "tele_df"
   ]
  },
  {
   "cell_type": "code",
   "execution_count": null,
   "metadata": {
    "collapsed": false,
    "scrolled": true
   },
   "outputs": [],
   "source": [
    "#From: http://www2.imm.dtu.dk/pubdb/views/publication_details.php?id=6010\n",
    "# AFINN is a list of English words rated for valence with an integer\n",
    "# between minus five (negative) and plus five (positive). The words have\n",
    "# been manually labeled by Finn Årup Nielsen in 2009-2011.\n",
    "afinnfile = open(\"AFINN/AFINN-111.txt\")\n",
    "scores = {}\n",
    "for line in afinnfile:\n",
    "    term, score = line.split(\"\\t\")\n",
    "    scores[term] = int(score)\n",
    "scores"
   ]
  },
  {
   "cell_type": "code",
   "execution_count": null,
   "metadata": {
    "collapsed": true
   },
   "outputs": [],
   "source": [
    "def calc_sent(text):\n",
    "    score = 0\n",
    "    for word in text.split(\" \"):\n",
    "        if word in scores:\n",
    "            score += scores.get(word,0)\n",
    "    #rescale score to 0-1 range\n",
    "    return (score/10.0)+0.5"
   ]
  },
  {
   "cell_type": "code",
   "execution_count": null,
   "metadata": {
    "collapsed": false
   },
   "outputs": [],
   "source": [
    "print calc_sent(\"Firms Selling Apps for Simple Phones Software companies want to sell functions similar to those found on the iPhone to users of much simpler phones.\")\n",
    "print calc_sent(\"Nuance Communications Buys SpinVox, Which Converts Voice Mail to Text SpinVox was sold to Nuance Communications for $102.5 million, far less than the company was thought to be worth in recent years.\")\n",
    "print calc_sent(\"AT&T to Sell Smartphones Using the Android System The wireless carrier will offer five new devices by makers including Dell, Motorola and HTC.\")\n",
    "print calc_sent(\"Chinese Looking in America, but Not Buying As the United States housing market continues to struggle, potential buyers from China are checking out the market in increasing numbers.\")\n",
    "print calc_sent(\"Under Low-Key Chief, Canal Plus Prospers The French cable television group has defied skeptics, reversed the damage from Vivendi's failed expansion and insulated itself against the advertising recession.\")"
   ]
  },
  {
   "cell_type": "code",
   "execution_count": null,
   "metadata": {
    "collapsed": false,
    "scrolled": true
   },
   "outputs": [],
   "source": [
    "tele_df.rename(columns={'Unnamed: 0':'sentiment'}, inplace=True)\n",
    "tele_df['sentiment'] = tele_df['text'].apply(calc_sent)\n",
    "tele_df"
   ]
  },
  {
   "cell_type": "code",
   "execution_count": null,
   "metadata": {
    "collapsed": false,
    "scrolled": true
   },
   "outputs": [],
   "source": [
    "bydate = tele_df.groupby('date')\n",
    "temp_df = bydate.aggregate(np.mean).reset_index()\n",
    "temp_df"
   ]
  },
  {
   "cell_type": "code",
   "execution_count": null,
   "metadata": {
    "collapsed": false
   },
   "outputs": [],
   "source": [
    "for index, row in temp_df.iterrows():\n",
    "    dates_dict[str(int(row['date']))] = row['sentiment']\n",
    "print len(dates_dict)"
   ]
  },
  {
   "cell_type": "code",
   "execution_count": null,
   "metadata": {
    "collapsed": false
   },
   "outputs": [],
   "source": [
    "dates_dict"
   ]
  },
  {
   "cell_type": "code",
   "execution_count": null,
   "metadata": {
    "collapsed": false,
    "scrolled": true
   },
   "outputs": [],
   "source": [
    "sent_df = pd.DataFrame(dates_dict.items(), columns=['date', 'sentiment']).sort('date')\n",
    "print sent_df.shape\n",
    "sent_df"
   ]
  },
  {
   "cell_type": "code",
   "execution_count": null,
   "metadata": {
    "collapsed": true
   },
   "outputs": [],
   "source": [
    "# Store dataframe in a CSV for prediction\n",
    "sent_df.to_csv('data/tele_sent.csv')"
   ]
  },
  {
   "cell_type": "code",
   "execution_count": null,
   "metadata": {
    "collapsed": true
   },
   "outputs": [],
   "source": []
  }
 ],
 "metadata": {
  "kernelspec": {
   "display_name": "Python 2",
   "language": "python",
   "name": "python2"
  },
  "language_info": {
   "codemirror_mode": {
    "name": "ipython",
    "version": 2
   },
   "file_extension": ".py",
   "mimetype": "text/x-python",
   "name": "python",
   "nbconvert_exporter": "python",
   "pygments_lexer": "ipython2",
   "version": "2.7.10"
  }
 },
 "nbformat": 4,
 "nbformat_minor": 0
}
