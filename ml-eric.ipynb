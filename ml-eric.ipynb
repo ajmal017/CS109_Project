{
 "cells": [
  {
   "cell_type": "markdown",
   "metadata": {},
   "source": [
    "# Are We Rich Yet?"
   ]
  },
  {
   "cell_type": "code",
   "execution_count": 1,
   "metadata": {
    "collapsed": true
   },
   "outputs": [],
   "source": [
    "%matplotlib inline\n",
    "import numpy as np\n",
    "import scipy as sp\n",
    "import matplotlib as mpl\n",
    "import matplotlib.cm as cm\n",
    "import matplotlib.pyplot as plt\n",
    "import pandas as pd\n",
    "pd.set_option('display.width', 500)\n",
    "pd.set_option('display.max_columns', 100)\n",
    "pd.set_option('display.notebook_repr_html', True)\n",
    "import seaborn as sns\n",
    "sns.set_style(\"whitegrid\")\n",
    "sns.set_context(\"poster\")"
   ]
  },
  {
   "cell_type": "code",
   "execution_count": 2,
   "metadata": {
    "collapsed": true
   },
   "outputs": [],
   "source": [
    "def calculate_commission(price, quantity):\n",
    "    #fix rate pricing from IB including all exchange and regularotry fees\n",
    "    #https://www.interactivebrokers.com/en/index.php?f=1590&p=stocks1&ns=T\n",
    "    return np.minimum(np.maximum(0.005*quantity, 1), price*quantity*0.005)\n",
    "\n",
    "'''\n",
    "input:\n",
    "signal_column: name of the column that indicates the signal,  1 for long signal or -1 for short signal\n",
    "price_column: name of the column responding to order execution price, could be open or close\n",
    "include_commision: deduct commission for each transaction if True, default to True\n",
    "\n",
    "output: \n",
    "balance, profit, ROI\n",
    "\n",
    "NOTE: this is LONG only evaluation, SHORT is not implemented yet. SHORT position will involve margin, so we need to decide \n",
    "later.\n",
    "\n",
    "'''\n",
    "# Long only\n",
    "def evaluate_profit(df, intitial_balance, signal_column, price_column, include_commission=True):\n",
    "\n",
    "    balance = intitial_balance\n",
    "    current_position = 0 #1 for long position, -1 for short, 0 for closed position or no position\n",
    "    pos_quantity = 0 # current position quantity\n",
    "    pos_price = 0 #current position price\n",
    "\n",
    "    #iterate from first to n-1 row, as we want to close our position on the last day.\n",
    "    for index, row in df.head(-1).iterrows():\n",
    "        new_position = row[signal_column]\n",
    "        current_price = row[price_column]\n",
    "        \n",
    "        # receive signal to reverse current position\n",
    "        if current_position != new_position:\n",
    "            # bullish market: close short position and open a long position\n",
    "            if new_position == 1:\n",
    "                #open a long position (short position not implemented yet)\n",
    "                pos_quantity = np.floor_divide(balance, current_price) \n",
    "                balance = balance - current_price * pos_quantity\n",
    "                if include_commission:\n",
    "                    balance = balance - calculate_commission(current_price, pos_quantity)\n",
    "                \n",
    "                pos_price = current_price\n",
    "                current_position = new_position\n",
    "                #print \"long \", row['date'], balance, pos_quantity, pos_price\n",
    "            \n",
    "            # bearish market: close long position and open a short position\n",
    "            else:\n",
    "                #close the long position (short position not implemented yet)\n",
    "                balance = balance + current_price * pos_quantity\n",
    "                if include_commission:\n",
    "                    balance = balance - calculate_commission(current_price, pos_quantity)\n",
    "                    \n",
    "                pos_quantity = 0\n",
    "                pos_price = 0\n",
    "                current_position = new_position\n",
    "                #print \"close\", row['date'], balance, pos_quantity, pos_price\n",
    "            \n",
    "        #hold position and do nothing\n",
    "        else:\n",
    "            #print \"hold \", row['date'], balance, pos_quantity, pos_price\n",
    "            pass\n",
    "            \n",
    "            \n",
    "    #found open position on the last day, let's close it\n",
    "    if pos_quantity != 0:\n",
    "        # get price of last day\n",
    "        current_price = df.tail(1).iloc[0][price_column]\n",
    "        balance = balance + pos_quantity * current_price\n",
    "        if include_commission:\n",
    "            balance = balance - calculate_commission(current_price, pos_quantity)\n",
    "    \n",
    "    profit = balance - intitial_balance\n",
    "    ROI = profit/intitial_balance\n",
    "    \n",
    "    return  balance, profit, ROI\n",
    "\n",
    "# Long and Short\n",
    "def evaluate_profit2(df, intitial_balance, signal_column, price_column, include_commission=True):\n",
    "\n",
    "    balance = intitial_balance\n",
    "    current_position = -1 #1 for long position, 0 for short\n",
    "    pos_quantity = 0 # current position quantity\n",
    "    pos_price = 0 #current position price\n",
    "\n",
    "    #iterate from first to n-1 row, as we want to close our position on the last day.\n",
    "    for index, row in df.head(-1).iterrows():\n",
    "        new_position = row[signal_column]\n",
    "        current_price = row[price_column]\n",
    "        \n",
    "        # receive signal to reverse current position\n",
    "        if current_position != new_position:\n",
    "            # bullish market: close short position and open a long position\n",
    "            if new_position == 1:\n",
    "                #close the short position\n",
    "                balance = balance + pos_quantity * (2 * pos_price - current_price)\n",
    "                if include_commission:\n",
    "                    balance = balance - calculate_commission(current_price, pos_quantity)\n",
    "\n",
    "                #open a long position \n",
    "                pos_quantity = np.floor_divide(balance, current_price) \n",
    "                balance = balance - current_price * pos_quantity\n",
    "                if include_commission:\n",
    "                    balance = balance - calculate_commission(current_price, pos_quantity)\n",
    "                \n",
    "                pos_price = current_price\n",
    "                current_position = new_position\n",
    "                #print \"long \", row['date'], balance, pos_quantity, pos_price\n",
    "            \n",
    "            # bearish market: close long position and open a short position\n",
    "            else:\n",
    "                #close the long position\n",
    "                balance = balance + current_price * pos_quantity\n",
    "                if include_commission:\n",
    "                    balance = balance - calculate_commission(current_price, pos_quantity)\n",
    "                \n",
    "                #open a short position\n",
    "                pos_quantity = np.floor_divide(balance, current_price) \n",
    "                balance = balance - current_price * pos_quantity\n",
    "                pos_price = current_price\n",
    "                current_position = new_position\n",
    "                #print \"close\", row['date'], balance, pos_quantity, pos_price\n",
    "            \n",
    "        #hold position and do nothing\n",
    "        else:\n",
    "            #print \"hold \", row['date'], balance, pos_quantity, pos_price\n",
    "            pass\n",
    "            \n",
    "            \n",
    "    #found open position on the last day, let's close it\n",
    "    if pos_quantity != 0:\n",
    "        # get price of last day\n",
    "        current_price = df.tail(1).iloc[0][price_column]\n",
    "        \n",
    "        #close long position\n",
    "        if current_position == 1:\n",
    "            balance = balance + pos_quantity * current_price\n",
    "            if include_commission:\n",
    "                balance = balance - calculate_commission(current_price, pos_quantity)\n",
    "        \n",
    "        #close short position\n",
    "        else:\n",
    "            balance = balance + pos_quantity * (2 * pos_price - current_price)\n",
    "            if include_commission:\n",
    "                balance = balance - calculate_commission(current_price, pos_quantity)\n",
    "            \n",
    "    profit = balance - intitial_balance\n",
    "    ROI = profit/intitial_balance\n",
    "    \n",
    "    return  balance, profit, ROI"
   ]
  },
  {
   "cell_type": "markdown",
   "metadata": {},
   "source": [
    "### Get data"
   ]
  },
  {
   "cell_type": "code",
   "execution_count": 3,
   "metadata": {
    "collapsed": false
   },
   "outputs": [
    {
     "data": {
      "text/html": [
       "<div>\n",
       "<table border=\"1\" class=\"dataframe\">\n",
       "  <thead>\n",
       "    <tr style=\"text-align: right;\">\n",
       "      <th></th>\n",
       "      <th>date</th>\n",
       "      <th>open</th>\n",
       "      <th>high</th>\n",
       "      <th>low</th>\n",
       "      <th>close</th>\n",
       "      <th>volume</th>\n",
       "      <th>close_1</th>\n",
       "      <th>result_1</th>\n",
       "      <th>perf_1</th>\n",
       "      <th>close_14</th>\n",
       "      <th>result_14</th>\n",
       "      <th>perf_14</th>\n",
       "      <th>results</th>\n",
       "      <th>bb_upper</th>\n",
       "      <th>bb_middle</th>\n",
       "      <th>bb_lower</th>\n",
       "      <th>bb_pct</th>\n",
       "      <th>bb_bandwidth</th>\n",
       "      <th>bb_squeeze</th>\n",
       "      <th>bb_signalup</th>\n",
       "      <th>bb_signaldn</th>\n",
       "      <th>bb_signal</th>\n",
       "      <th>ema50</th>\n",
       "      <th>ema150</th>\n",
       "      <th>ema200</th>\n",
       "      <th>ema_signal1</th>\n",
       "      <th>ema_signal2</th>\n",
       "      <th>kama50</th>\n",
       "      <th>kama150</th>\n",
       "      <th>kama200</th>\n",
       "      <th>kama_signal1</th>\n",
       "      <th>kama_signal2</th>\n",
       "      <th>sar</th>\n",
       "      <th>sar_signal</th>\n",
       "      <th>adx</th>\n",
       "      <th>plus_di</th>\n",
       "      <th>minus_di</th>\n",
       "      <th>adx_trend</th>\n",
       "      <th>adx_direction</th>\n",
       "      <th>adx_signal</th>\n",
       "      <th>aroon_osc</th>\n",
       "      <th>aroon_signal</th>\n",
       "      <th>cci</th>\n",
       "      <th>cci_signal</th>\n",
       "      <th>macd</th>\n",
       "      <th>macd_sigline</th>\n",
       "      <th>macd_hist</th>\n",
       "      <th>macd_signal</th>\n",
       "      <th>ppo</th>\n",
       "      <th>ppo_signal</th>\n",
       "      <th>mfi</th>\n",
       "      <th>mfi_signal</th>\n",
       "      <th>roc</th>\n",
       "      <th>roc_signal</th>\n",
       "      <th>rsi</th>\n",
       "      <th>rsi_signal</th>\n",
       "      <th>ult_osc</th>\n",
       "      <th>ult_signal</th>\n",
       "      <th>willr</th>\n",
       "      <th>wr_signal</th>\n",
       "      <th>ad_osc</th>\n",
       "      <th>ad_signal</th>\n",
       "      <th>stoch_slowk</th>\n",
       "      <th>stoch_slowd</th>\n",
       "      <th>sslow_signal</th>\n",
       "      <th>stoch_fastk</th>\n",
       "      <th>stoch_fastd</th>\n",
       "      <th>srsi_signal</th>\n",
       "      <th>trix</th>\n",
       "      <th>trix_signal</th>\n",
       "      <th>sr_pivotpts</th>\n",
       "      <th>sr_res1</th>\n",
       "      <th>sr_sup1</th>\n",
       "      <th>sr_res2</th>\n",
       "      <th>sr_sup2</th>\n",
       "      <th>sr_res3</th>\n",
       "      <th>sr_sup3</th>\n",
       "      <th>cv_signal</th>\n",
       "    </tr>\n",
       "  </thead>\n",
       "  <tbody>\n",
       "    <tr>\n",
       "      <th>0</th>\n",
       "      <td>2010-01-04</td>\n",
       "      <td>20.370001</td>\n",
       "      <td>20.549999</td>\n",
       "      <td>20.270000</td>\n",
       "      <td>20.549999</td>\n",
       "      <td>664200</td>\n",
       "      <td>20.680000</td>\n",
       "      <td>True</td>\n",
       "      <td>0.006326</td>\n",
       "      <td>18.719999</td>\n",
       "      <td>False</td>\n",
       "      <td>-0.089051</td>\n",
       "      <td>0</td>\n",
       "      <td>20.545079</td>\n",
       "      <td>19.9480</td>\n",
       "      <td>19.350920</td>\n",
       "      <td>1.004120</td>\n",
       "      <td>5.986360</td>\n",
       "      <td>False</td>\n",
       "      <td>True</td>\n",
       "      <td>False</td>\n",
       "      <td>0</td>\n",
       "      <td>19.245605</td>\n",
       "      <td>18.466066</td>\n",
       "      <td>18.432535</td>\n",
       "      <td>1</td>\n",
       "      <td>1</td>\n",
       "      <td>19.030677</td>\n",
       "      <td>18.358833</td>\n",
       "      <td>18.371497</td>\n",
       "      <td>1</td>\n",
       "      <td>1</td>\n",
       "      <td>19.822958</td>\n",
       "      <td>1</td>\n",
       "      <td>34.171492</td>\n",
       "      <td>33.666344</td>\n",
       "      <td>15.692957</td>\n",
       "      <td>True</td>\n",
       "      <td>True</td>\n",
       "      <td>1</td>\n",
       "      <td>96</td>\n",
       "      <td>1</td>\n",
       "      <td>122.917840</td>\n",
       "      <td>1</td>\n",
       "      <td>0.393756</td>\n",
       "      <td>0.403865</td>\n",
       "      <td>-0.010110</td>\n",
       "      <td>0</td>\n",
       "      <td>2.048084</td>\n",
       "      <td>1</td>\n",
       "      <td>79.657038</td>\n",
       "      <td>0</td>\n",
       "      <td>4.900454</td>\n",
       "      <td>0</td>\n",
       "      <td>68.259660</td>\n",
       "      <td>0</td>\n",
       "      <td>56.239960</td>\n",
       "      <td>0</td>\n",
       "      <td>-0.000000</td>\n",
       "      <td>0</td>\n",
       "      <td>694259.549529</td>\n",
       "      <td>1</td>\n",
       "      <td>49.166583</td>\n",
       "      <td>52.670801</td>\n",
       "      <td>0</td>\n",
       "      <td>81.338670</td>\n",
       "      <td>27.112890</td>\n",
       "      <td>0</td>\n",
       "      <td>0.164700</td>\n",
       "      <td>1</td>\n",
       "      <td>20.456666</td>\n",
       "      <td>22.773333</td>\n",
       "      <td>20.363333</td>\n",
       "      <td>22.866666</td>\n",
       "      <td>18.046666</td>\n",
       "      <td>25.183333</td>\n",
       "      <td>17.953333</td>\n",
       "      <td>0</td>\n",
       "    </tr>\n",
       "    <tr>\n",
       "      <th>1</th>\n",
       "      <td>2010-01-05</td>\n",
       "      <td>20.610001</td>\n",
       "      <td>20.760000</td>\n",
       "      <td>20.459999</td>\n",
       "      <td>20.680000</td>\n",
       "      <td>1214800</td>\n",
       "      <td>20.340000</td>\n",
       "      <td>False</td>\n",
       "      <td>-0.016441</td>\n",
       "      <td>18.900000</td>\n",
       "      <td>False</td>\n",
       "      <td>-0.086074</td>\n",
       "      <td>0</td>\n",
       "      <td>20.632786</td>\n",
       "      <td>20.0125</td>\n",
       "      <td>19.392214</td>\n",
       "      <td>1.038058</td>\n",
       "      <td>6.198986</td>\n",
       "      <td>False</td>\n",
       "      <td>True</td>\n",
       "      <td>False</td>\n",
       "      <td>0</td>\n",
       "      <td>19.301856</td>\n",
       "      <td>18.495389</td>\n",
       "      <td>18.454898</td>\n",
       "      <td>1</td>\n",
       "      <td>1</td>\n",
       "      <td>19.120800</td>\n",
       "      <td>18.397050</td>\n",
       "      <td>18.419909</td>\n",
       "      <td>1</td>\n",
       "      <td>1</td>\n",
       "      <td>19.881121</td>\n",
       "      <td>1</td>\n",
       "      <td>34.807420</td>\n",
       "      <td>36.435763</td>\n",
       "      <td>14.496814</td>\n",
       "      <td>True</td>\n",
       "      <td>True</td>\n",
       "      <td>1</td>\n",
       "      <td>100</td>\n",
       "      <td>1</td>\n",
       "      <td>149.707718</td>\n",
       "      <td>1</td>\n",
       "      <td>0.410108</td>\n",
       "      <td>0.405114</td>\n",
       "      <td>0.004994</td>\n",
       "      <td>1</td>\n",
       "      <td>2.058941</td>\n",
       "      <td>1</td>\n",
       "      <td>81.099707</td>\n",
       "      <td>0</td>\n",
       "      <td>4.444450</td>\n",
       "      <td>0</td>\n",
       "      <td>69.920669</td>\n",
       "      <td>0</td>\n",
       "      <td>60.808637</td>\n",
       "      <td>0</td>\n",
       "      <td>-6.666661</td>\n",
       "      <td>0</td>\n",
       "      <td>828264.024156</td>\n",
       "      <td>1</td>\n",
       "      <td>63.063063</td>\n",
       "      <td>50.743160</td>\n",
       "      <td>0</td>\n",
       "      <td>100.000000</td>\n",
       "      <td>60.446223</td>\n",
       "      <td>0</td>\n",
       "      <td>0.170615</td>\n",
       "      <td>1</td>\n",
       "      <td>20.633333</td>\n",
       "      <td>23.106666</td>\n",
       "      <td>20.506666</td>\n",
       "      <td>23.233333</td>\n",
       "      <td>18.033333</td>\n",
       "      <td>25.706666</td>\n",
       "      <td>17.906666</td>\n",
       "      <td>0</td>\n",
       "    </tr>\n",
       "    <tr>\n",
       "      <th>2</th>\n",
       "      <td>2010-01-06</td>\n",
       "      <td>20.719999</td>\n",
       "      <td>20.730000</td>\n",
       "      <td>20.270000</td>\n",
       "      <td>20.340000</td>\n",
       "      <td>804600</td>\n",
       "      <td>20.260000</td>\n",
       "      <td>False</td>\n",
       "      <td>-0.003933</td>\n",
       "      <td>18.600000</td>\n",
       "      <td>False</td>\n",
       "      <td>-0.085546</td>\n",
       "      <td>0</td>\n",
       "      <td>20.667400</td>\n",
       "      <td>20.0395</td>\n",
       "      <td>19.411600</td>\n",
       "      <td>0.739290</td>\n",
       "      <td>6.266626</td>\n",
       "      <td>False</td>\n",
       "      <td>False</td>\n",
       "      <td>False</td>\n",
       "      <td>0</td>\n",
       "      <td>19.342568</td>\n",
       "      <td>18.519821</td>\n",
       "      <td>18.473655</td>\n",
       "      <td>1</td>\n",
       "      <td>1</td>\n",
       "      <td>19.183789</td>\n",
       "      <td>18.428070</td>\n",
       "      <td>18.450120</td>\n",
       "      <td>1</td>\n",
       "      <td>1</td>\n",
       "      <td>19.969009</td>\n",
       "      <td>1</td>\n",
       "      <td>34.451424</td>\n",
       "      <td>32.362519</td>\n",
       "      <td>17.493670</td>\n",
       "      <td>True</td>\n",
       "      <td>True</td>\n",
       "      <td>1</td>\n",
       "      <td>96</td>\n",
       "      <td>1</td>\n",
       "      <td>85.708389</td>\n",
       "      <td>1</td>\n",
       "      <td>0.391124</td>\n",
       "      <td>0.402316</td>\n",
       "      <td>-0.011192</td>\n",
       "      <td>0</td>\n",
       "      <td>2.041574</td>\n",
       "      <td>1</td>\n",
       "      <td>76.927311</td>\n",
       "      <td>0</td>\n",
       "      <td>1.345291</td>\n",
       "      <td>0</td>\n",
       "      <td>60.938720</td>\n",
       "      <td>0</td>\n",
       "      <td>54.881580</td>\n",
       "      <td>0</td>\n",
       "      <td>-34.999971</td>\n",
       "      <td>0</td>\n",
       "      <td>629694.026402</td>\n",
       "      <td>1</td>\n",
       "      <td>77.477477</td>\n",
       "      <td>63.235708</td>\n",
       "      <td>0</td>\n",
       "      <td>10.627286</td>\n",
       "      <td>63.988652</td>\n",
       "      <td>1</td>\n",
       "      <td>0.175967</td>\n",
       "      <td>1</td>\n",
       "      <td>20.446667</td>\n",
       "      <td>22.583334</td>\n",
       "      <td>20.133333</td>\n",
       "      <td>22.896668</td>\n",
       "      <td>17.996666</td>\n",
       "      <td>25.033335</td>\n",
       "      <td>17.683332</td>\n",
       "      <td>0</td>\n",
       "    </tr>\n",
       "    <tr>\n",
       "      <th>3</th>\n",
       "      <td>2010-01-07</td>\n",
       "      <td>20.340000</td>\n",
       "      <td>20.379999</td>\n",
       "      <td>20.160000</td>\n",
       "      <td>20.260000</td>\n",
       "      <td>471900</td>\n",
       "      <td>20.110001</td>\n",
       "      <td>False</td>\n",
       "      <td>-0.007404</td>\n",
       "      <td>18.570000</td>\n",
       "      <td>False</td>\n",
       "      <td>-0.083416</td>\n",
       "      <td>0</td>\n",
       "      <td>20.677310</td>\n",
       "      <td>20.0705</td>\n",
       "      <td>19.463690</td>\n",
       "      <td>0.656144</td>\n",
       "      <td>6.046787</td>\n",
       "      <td>False</td>\n",
       "      <td>False</td>\n",
       "      <td>False</td>\n",
       "      <td>0</td>\n",
       "      <td>19.378545</td>\n",
       "      <td>18.542870</td>\n",
       "      <td>18.491429</td>\n",
       "      <td>1</td>\n",
       "      <td>1</td>\n",
       "      <td>19.248942</td>\n",
       "      <td>18.455162</td>\n",
       "      <td>18.480566</td>\n",
       "      <td>1</td>\n",
       "      <td>1</td>\n",
       "      <td>20.048108</td>\n",
       "      <td>1</td>\n",
       "      <td>33.614615</td>\n",
       "      <td>30.600584</td>\n",
       "      <td>19.263447</td>\n",
       "      <td>True</td>\n",
       "      <td>True</td>\n",
       "      <td>1</td>\n",
       "      <td>92</td>\n",
       "      <td>1</td>\n",
       "      <td>24.268894</td>\n",
       "      <td>1</td>\n",
       "      <td>0.365411</td>\n",
       "      <td>0.394935</td>\n",
       "      <td>-0.029524</td>\n",
       "      <td>0</td>\n",
       "      <td>1.902912</td>\n",
       "      <td>1</td>\n",
       "      <td>72.638398</td>\n",
       "      <td>0</td>\n",
       "      <td>-0.246179</td>\n",
       "      <td>0</td>\n",
       "      <td>59.017652</td>\n",
       "      <td>0</td>\n",
       "      <td>53.230087</td>\n",
       "      <td>0</td>\n",
       "      <td>-41.666632</td>\n",
       "      <td>0</td>\n",
       "      <td>477566.554469</td>\n",
       "      <td>1</td>\n",
       "      <td>54.954955</td>\n",
       "      <td>65.165165</td>\n",
       "      <td>0</td>\n",
       "      <td>0.000000</td>\n",
       "      <td>36.875762</td>\n",
       "      <td>1</td>\n",
       "      <td>0.180626</td>\n",
       "      <td>1</td>\n",
       "      <td>20.266666</td>\n",
       "      <td>22.223334</td>\n",
       "      <td>19.773333</td>\n",
       "      <td>22.716667</td>\n",
       "      <td>17.816665</td>\n",
       "      <td>24.673335</td>\n",
       "      <td>17.323332</td>\n",
       "      <td>1</td>\n",
       "    </tr>\n",
       "    <tr>\n",
       "      <th>4</th>\n",
       "      <td>2010-01-08</td>\n",
       "      <td>20.250000</td>\n",
       "      <td>20.250000</td>\n",
       "      <td>20.020000</td>\n",
       "      <td>20.110001</td>\n",
       "      <td>549100</td>\n",
       "      <td>20.150000</td>\n",
       "      <td>True</td>\n",
       "      <td>0.001989</td>\n",
       "      <td>18.400000</td>\n",
       "      <td>False</td>\n",
       "      <td>-0.085032</td>\n",
       "      <td>0</td>\n",
       "      <td>20.670872</td>\n",
       "      <td>20.0925</td>\n",
       "      <td>19.514128</td>\n",
       "      <td>0.515130</td>\n",
       "      <td>5.757097</td>\n",
       "      <td>False</td>\n",
       "      <td>False</td>\n",
       "      <td>False</td>\n",
       "      <td>0</td>\n",
       "      <td>19.407230</td>\n",
       "      <td>18.563627</td>\n",
       "      <td>18.507535</td>\n",
       "      <td>1</td>\n",
       "      <td>1</td>\n",
       "      <td>19.296747</td>\n",
       "      <td>18.478643</td>\n",
       "      <td>18.507601</td>\n",
       "      <td>1</td>\n",
       "      <td>1</td>\n",
       "      <td>20.760000</td>\n",
       "      <td>0</td>\n",
       "      <td>32.227258</td>\n",
       "      <td>28.760971</td>\n",
       "      <td>21.612208</td>\n",
       "      <td>True</td>\n",
       "      <td>True</td>\n",
       "      <td>1</td>\n",
       "      <td>88</td>\n",
       "      <td>1</td>\n",
       "      <td>-45.787970</td>\n",
       "      <td>1</td>\n",
       "      <td>0.329136</td>\n",
       "      <td>0.381775</td>\n",
       "      <td>-0.052639</td>\n",
       "      <td>0</td>\n",
       "      <td>1.685848</td>\n",
       "      <td>1</td>\n",
       "      <td>70.597898</td>\n",
       "      <td>0</td>\n",
       "      <td>-0.049702</td>\n",
       "      <td>0</td>\n",
       "      <td>55.485710</td>\n",
       "      <td>0</td>\n",
       "      <td>53.570511</td>\n",
       "      <td>0</td>\n",
       "      <td>-54.621765</td>\n",
       "      <td>0</td>\n",
       "      <td>333937.741315</td>\n",
       "      <td>1</td>\n",
       "      <td>29.279324</td>\n",
       "      <td>53.903919</td>\n",
       "      <td>0</td>\n",
       "      <td>0.000000</td>\n",
       "      <td>3.542429</td>\n",
       "      <td>1</td>\n",
       "      <td>0.184391</td>\n",
       "      <td>1</td>\n",
       "      <td>20.126667</td>\n",
       "      <td>21.943335</td>\n",
       "      <td>19.493334</td>\n",
       "      <td>22.576668</td>\n",
       "      <td>17.676666</td>\n",
       "      <td>24.393336</td>\n",
       "      <td>17.043333</td>\n",
       "      <td>0</td>\n",
       "    </tr>\n",
       "  </tbody>\n",
       "</table>\n",
       "</div>"
      ],
      "text/plain": [
       "         date       open       high        low      close   volume    close_1 result_1    perf_1   close_14 result_14   perf_14  results   bb_upper  bb_middle   bb_lower    bb_pct  bb_bandwidth bb_squeeze bb_signalup bb_signaldn  bb_signal      ema50     ema150     ema200  ema_signal1  ema_signal2     kama50    kama150    kama200  kama_signal1  kama_signal2        sar  sar_signal        adx    plus_di   minus_di adx_trend adx_direction  adx_signal  aroon_osc  aroon_signal         cci  \\\n",
       "0  2010-01-04  20.370001  20.549999  20.270000  20.549999   664200  20.680000     True  0.006326  18.719999     False -0.089051        0  20.545079    19.9480  19.350920  1.004120      5.986360      False        True       False          0  19.245605  18.466066  18.432535            1            1  19.030677  18.358833  18.371497             1             1  19.822958           1  34.171492  33.666344  15.692957      True          True           1         96             1  122.917840   \n",
       "1  2010-01-05  20.610001  20.760000  20.459999  20.680000  1214800  20.340000    False -0.016441  18.900000     False -0.086074        0  20.632786    20.0125  19.392214  1.038058      6.198986      False        True       False          0  19.301856  18.495389  18.454898            1            1  19.120800  18.397050  18.419909             1             1  19.881121           1  34.807420  36.435763  14.496814      True          True           1        100             1  149.707718   \n",
       "2  2010-01-06  20.719999  20.730000  20.270000  20.340000   804600  20.260000    False -0.003933  18.600000     False -0.085546        0  20.667400    20.0395  19.411600  0.739290      6.266626      False       False       False          0  19.342568  18.519821  18.473655            1            1  19.183789  18.428070  18.450120             1             1  19.969009           1  34.451424  32.362519  17.493670      True          True           1         96             1   85.708389   \n",
       "3  2010-01-07  20.340000  20.379999  20.160000  20.260000   471900  20.110001    False -0.007404  18.570000     False -0.083416        0  20.677310    20.0705  19.463690  0.656144      6.046787      False       False       False          0  19.378545  18.542870  18.491429            1            1  19.248942  18.455162  18.480566             1             1  20.048108           1  33.614615  30.600584  19.263447      True          True           1         92             1   24.268894   \n",
       "4  2010-01-08  20.250000  20.250000  20.020000  20.110001   549100  20.150000     True  0.001989  18.400000     False -0.085032        0  20.670872    20.0925  19.514128  0.515130      5.757097      False       False       False          0  19.407230  18.563627  18.507535            1            1  19.296747  18.478643  18.507601             1             1  20.760000           0  32.227258  28.760971  21.612208      True          True           1         88             1  -45.787970   \n",
       "\n",
       "   cci_signal      macd  macd_sigline  macd_hist  macd_signal       ppo  ppo_signal        mfi  mfi_signal       roc  roc_signal        rsi  rsi_signal    ult_osc  ult_signal      willr  wr_signal         ad_osc  ad_signal  stoch_slowk  stoch_slowd  sslow_signal  stoch_fastk  stoch_fastd  srsi_signal      trix  trix_signal  sr_pivotpts    sr_res1    sr_sup1    sr_res2    sr_sup2    sr_res3    sr_sup3  cv_signal  \n",
       "0           1  0.393756      0.403865  -0.010110            0  2.048084           1  79.657038           0  4.900454           0  68.259660           0  56.239960           0  -0.000000          0  694259.549529          1    49.166583    52.670801             0    81.338670    27.112890            0  0.164700            1    20.456666  22.773333  20.363333  22.866666  18.046666  25.183333  17.953333          0  \n",
       "1           1  0.410108      0.405114   0.004994            1  2.058941           1  81.099707           0  4.444450           0  69.920669           0  60.808637           0  -6.666661          0  828264.024156          1    63.063063    50.743160             0   100.000000    60.446223            0  0.170615            1    20.633333  23.106666  20.506666  23.233333  18.033333  25.706666  17.906666          0  \n",
       "2           1  0.391124      0.402316  -0.011192            0  2.041574           1  76.927311           0  1.345291           0  60.938720           0  54.881580           0 -34.999971          0  629694.026402          1    77.477477    63.235708             0    10.627286    63.988652            1  0.175967            1    20.446667  22.583334  20.133333  22.896668  17.996666  25.033335  17.683332          0  \n",
       "3           1  0.365411      0.394935  -0.029524            0  1.902912           1  72.638398           0 -0.246179           0  59.017652           0  53.230087           0 -41.666632          0  477566.554469          1    54.954955    65.165165             0     0.000000    36.875762            1  0.180626            1    20.266666  22.223334  19.773333  22.716667  17.816665  24.673335  17.323332          1  \n",
       "4           1  0.329136      0.381775  -0.052639            0  1.685848           1  70.597898           0 -0.049702           0  55.485710           0  53.570511           0 -54.621765          0  333937.741315          1    29.279324    53.903919             0     0.000000     3.542429            1  0.184391            1    20.126667  21.943335  19.493334  22.576668  17.676666  24.393336  17.043333          0  "
      ]
     },
     "execution_count": 3,
     "metadata": {},
     "output_type": "execute_result"
    }
   ],
   "source": [
    "df=pd.read_csv(\"data/IYZ.csv\")\n",
    "df.head()"
   ]
  },
  {
   "cell_type": "code",
   "execution_count": 4,
   "metadata": {
    "collapsed": false
   },
   "outputs": [
    {
     "data": {
      "text/html": [
       "<div>\n",
       "<table border=\"1\" class=\"dataframe\">\n",
       "  <thead>\n",
       "    <tr style=\"text-align: right;\">\n",
       "      <th></th>\n",
       "      <th>date</th>\n",
       "      <th>open</th>\n",
       "      <th>high</th>\n",
       "      <th>low</th>\n",
       "      <th>close</th>\n",
       "      <th>volume</th>\n",
       "      <th>close_1</th>\n",
       "      <th>result_1</th>\n",
       "      <th>perf_1</th>\n",
       "      <th>close_14</th>\n",
       "      <th>result_14</th>\n",
       "      <th>perf_14</th>\n",
       "      <th>results</th>\n",
       "      <th>bb_upper</th>\n",
       "      <th>bb_middle</th>\n",
       "      <th>bb_lower</th>\n",
       "      <th>bb_pct</th>\n",
       "      <th>bb_bandwidth</th>\n",
       "      <th>bb_squeeze</th>\n",
       "      <th>bb_signalup</th>\n",
       "      <th>bb_signaldn</th>\n",
       "      <th>bb_signal</th>\n",
       "      <th>ema50</th>\n",
       "      <th>ema150</th>\n",
       "      <th>ema200</th>\n",
       "      <th>ema_signal1</th>\n",
       "      <th>ema_signal2</th>\n",
       "      <th>kama50</th>\n",
       "      <th>kama150</th>\n",
       "      <th>kama200</th>\n",
       "      <th>kama_signal1</th>\n",
       "      <th>kama_signal2</th>\n",
       "      <th>sar</th>\n",
       "      <th>sar_signal</th>\n",
       "      <th>adx</th>\n",
       "      <th>plus_di</th>\n",
       "      <th>minus_di</th>\n",
       "      <th>adx_trend</th>\n",
       "      <th>adx_direction</th>\n",
       "      <th>adx_signal</th>\n",
       "      <th>aroon_osc</th>\n",
       "      <th>aroon_signal</th>\n",
       "      <th>cci</th>\n",
       "      <th>cci_signal</th>\n",
       "      <th>macd</th>\n",
       "      <th>macd_sigline</th>\n",
       "      <th>macd_hist</th>\n",
       "      <th>macd_signal</th>\n",
       "      <th>ppo</th>\n",
       "      <th>ppo_signal</th>\n",
       "      <th>mfi</th>\n",
       "      <th>mfi_signal</th>\n",
       "      <th>roc</th>\n",
       "      <th>roc_signal</th>\n",
       "      <th>rsi</th>\n",
       "      <th>rsi_signal</th>\n",
       "      <th>ult_osc</th>\n",
       "      <th>ult_signal</th>\n",
       "      <th>willr</th>\n",
       "      <th>wr_signal</th>\n",
       "      <th>ad_osc</th>\n",
       "      <th>ad_signal</th>\n",
       "      <th>stoch_slowk</th>\n",
       "      <th>stoch_slowd</th>\n",
       "      <th>sslow_signal</th>\n",
       "      <th>stoch_fastk</th>\n",
       "      <th>stoch_fastd</th>\n",
       "      <th>srsi_signal</th>\n",
       "      <th>trix</th>\n",
       "      <th>trix_signal</th>\n",
       "      <th>sr_pivotpts</th>\n",
       "      <th>sr_res1</th>\n",
       "      <th>sr_sup1</th>\n",
       "      <th>sr_res2</th>\n",
       "      <th>sr_sup2</th>\n",
       "      <th>sr_res3</th>\n",
       "      <th>sr_sup3</th>\n",
       "      <th>cv_signal</th>\n",
       "    </tr>\n",
       "  </thead>\n",
       "  <tbody>\n",
       "    <tr>\n",
       "      <th>1478</th>\n",
       "      <td>2015-11-16</td>\n",
       "      <td>28.900000</td>\n",
       "      <td>29.309999</td>\n",
       "      <td>28.830000</td>\n",
       "      <td>29.309999</td>\n",
       "      <td>84100</td>\n",
       "      <td>29.389999</td>\n",
       "      <td>True</td>\n",
       "      <td>0.002729</td>\n",
       "      <td>27.940001</td>\n",
       "      <td>False</td>\n",
       "      <td>-0.046742</td>\n",
       "      <td>1</td>\n",
       "      <td>30.531382</td>\n",
       "      <td>29.6840</td>\n",
       "      <td>28.836617</td>\n",
       "      <td>0.279320</td>\n",
       "      <td>5.709355</td>\n",
       "      <td>False</td>\n",
       "      <td>False</td>\n",
       "      <td>False</td>\n",
       "      <td>0</td>\n",
       "      <td>29.076328</td>\n",
       "      <td>29.204370</td>\n",
       "      <td>29.298876</td>\n",
       "      <td>1</td>\n",
       "      <td>0</td>\n",
       "      <td>28.976103</td>\n",
       "      <td>29.241528</td>\n",
       "      <td>29.428410</td>\n",
       "      <td>1</td>\n",
       "      <td>0</td>\n",
       "      <td>30.067442</td>\n",
       "      <td>0</td>\n",
       "      <td>18.896958</td>\n",
       "      <td>22.420464</td>\n",
       "      <td>24.627827</td>\n",
       "      <td>False</td>\n",
       "      <td>False</td>\n",
       "      <td>1</td>\n",
       "      <td>60</td>\n",
       "      <td>1</td>\n",
       "      <td>-121.505885</td>\n",
       "      <td>1</td>\n",
       "      <td>0.162721</td>\n",
       "      <td>0.317523</td>\n",
       "      <td>-0.154802</td>\n",
       "      <td>0</td>\n",
       "      <td>1.148712</td>\n",
       "      <td>1</td>\n",
       "      <td>57.662795</td>\n",
       "      <td>0</td>\n",
       "      <td>-3.585530</td>\n",
       "      <td>0</td>\n",
       "      <td>50.035753</td>\n",
       "      <td>1</td>\n",
       "      <td>50.772526</td>\n",
       "      <td>0</td>\n",
       "      <td>-72.571486</td>\n",
       "      <td>1</td>\n",
       "      <td>-76270.418341</td>\n",
       "      <td>0</td>\n",
       "      <td>20.900071</td>\n",
       "      <td>10.839091</td>\n",
       "      <td>1</td>\n",
       "      <td>66.985684</td>\n",
       "      <td>22.328561</td>\n",
       "      <td>1</td>\n",
       "      <td>0.053348</td>\n",
       "      <td>1</td>\n",
       "      <td>29.149999</td>\n",
       "      <td>30.569999</td>\n",
       "      <td>27.719999</td>\n",
       "      <td>31.999999</td>\n",
       "      <td>26.299999</td>\n",
       "      <td>33.419999</td>\n",
       "      <td>24.869999</td>\n",
       "      <td>0</td>\n",
       "    </tr>\n",
       "    <tr>\n",
       "      <th>1479</th>\n",
       "      <td>2015-11-17</td>\n",
       "      <td>29.350000</td>\n",
       "      <td>29.590000</td>\n",
       "      <td>29.200001</td>\n",
       "      <td>29.389999</td>\n",
       "      <td>209900</td>\n",
       "      <td>29.780001</td>\n",
       "      <td>True</td>\n",
       "      <td>0.013270</td>\n",
       "      <td>27.000000</td>\n",
       "      <td>False</td>\n",
       "      <td>-0.081320</td>\n",
       "      <td>1</td>\n",
       "      <td>30.528164</td>\n",
       "      <td>29.6890</td>\n",
       "      <td>28.849835</td>\n",
       "      <td>0.321846</td>\n",
       "      <td>5.653034</td>\n",
       "      <td>False</td>\n",
       "      <td>False</td>\n",
       "      <td>False</td>\n",
       "      <td>0</td>\n",
       "      <td>29.088629</td>\n",
       "      <td>29.206829</td>\n",
       "      <td>29.299783</td>\n",
       "      <td>1</td>\n",
       "      <td>0</td>\n",
       "      <td>28.979545</td>\n",
       "      <td>29.242787</td>\n",
       "      <td>29.428221</td>\n",
       "      <td>1</td>\n",
       "      <td>0</td>\n",
       "      <td>29.894200</td>\n",
       "      <td>0</td>\n",
       "      <td>17.928899</td>\n",
       "      <td>25.628114</td>\n",
       "      <td>23.027874</td>\n",
       "      <td>False</td>\n",
       "      <td>True</td>\n",
       "      <td>1</td>\n",
       "      <td>60</td>\n",
       "      <td>1</td>\n",
       "      <td>-61.672994</td>\n",
       "      <td>1</td>\n",
       "      <td>0.143043</td>\n",
       "      <td>0.282627</td>\n",
       "      <td>-0.139584</td>\n",
       "      <td>0</td>\n",
       "      <td>0.874122</td>\n",
       "      <td>1</td>\n",
       "      <td>56.797205</td>\n",
       "      <td>0</td>\n",
       "      <td>-3.195000</td>\n",
       "      <td>0</td>\n",
       "      <td>51.129096</td>\n",
       "      <td>1</td>\n",
       "      <td>44.416942</td>\n",
       "      <td>0</td>\n",
       "      <td>-68.000057</td>\n",
       "      <td>1</td>\n",
       "      <td>-73410.275764</td>\n",
       "      <td>0</td>\n",
       "      <td>37.904052</td>\n",
       "      <td>21.177492</td>\n",
       "      <td>1</td>\n",
       "      <td>100.000000</td>\n",
       "      <td>55.661895</td>\n",
       "      <td>0</td>\n",
       "      <td>0.055936</td>\n",
       "      <td>1</td>\n",
       "      <td>29.393333</td>\n",
       "      <td>30.956667</td>\n",
       "      <td>28.206667</td>\n",
       "      <td>32.143333</td>\n",
       "      <td>26.643333</td>\n",
       "      <td>33.706667</td>\n",
       "      <td>25.456667</td>\n",
       "      <td>0</td>\n",
       "    </tr>\n",
       "    <tr>\n",
       "      <th>1480</th>\n",
       "      <td>2015-11-18</td>\n",
       "      <td>29.490000</td>\n",
       "      <td>29.840000</td>\n",
       "      <td>29.240000</td>\n",
       "      <td>29.780001</td>\n",
       "      <td>1379200</td>\n",
       "      <td>29.780001</td>\n",
       "      <td>False</td>\n",
       "      <td>0.000000</td>\n",
       "      <td>27.120001</td>\n",
       "      <td>False</td>\n",
       "      <td>-0.089322</td>\n",
       "      <td>1</td>\n",
       "      <td>30.499962</td>\n",
       "      <td>29.7300</td>\n",
       "      <td>28.960038</td>\n",
       "      <td>0.532470</td>\n",
       "      <td>5.179696</td>\n",
       "      <td>False</td>\n",
       "      <td>False</td>\n",
       "      <td>False</td>\n",
       "      <td>0</td>\n",
       "      <td>29.115741</td>\n",
       "      <td>29.214420</td>\n",
       "      <td>29.304561</td>\n",
       "      <td>1</td>\n",
       "      <td>0</td>\n",
       "      <td>28.990811</td>\n",
       "      <td>29.246183</td>\n",
       "      <td>29.429696</td>\n",
       "      <td>1</td>\n",
       "      <td>0</td>\n",
       "      <td>28.830000</td>\n",
       "      <td>1</td>\n",
       "      <td>17.600590</td>\n",
       "      <td>27.186669</td>\n",
       "      <td>20.790128</td>\n",
       "      <td>False</td>\n",
       "      <td>True</td>\n",
       "      <td>1</td>\n",
       "      <td>60</td>\n",
       "      <td>1</td>\n",
       "      <td>-16.082587</td>\n",
       "      <td>1</td>\n",
       "      <td>0.157107</td>\n",
       "      <td>0.257523</td>\n",
       "      <td>-0.100416</td>\n",
       "      <td>0</td>\n",
       "      <td>0.489928</td>\n",
       "      <td>1</td>\n",
       "      <td>64.333933</td>\n",
       "      <td>0</td>\n",
       "      <td>-1.259944</td>\n",
       "      <td>0</td>\n",
       "      <td>56.165021</td>\n",
       "      <td>1</td>\n",
       "      <td>53.357393</td>\n",
       "      <td>0</td>\n",
       "      <td>-45.714229</td>\n",
       "      <td>1</td>\n",
       "      <td>285503.997692</td>\n",
       "      <td>1</td>\n",
       "      <td>69.257220</td>\n",
       "      <td>42.687115</td>\n",
       "      <td>1</td>\n",
       "      <td>100.000000</td>\n",
       "      <td>88.995228</td>\n",
       "      <td>0</td>\n",
       "      <td>0.058436</td>\n",
       "      <td>1</td>\n",
       "      <td>29.620000</td>\n",
       "      <td>31.270002</td>\n",
       "      <td>28.660001</td>\n",
       "      <td>32.230001</td>\n",
       "      <td>27.009999</td>\n",
       "      <td>33.880003</td>\n",
       "      <td>26.050000</td>\n",
       "      <td>0</td>\n",
       "    </tr>\n",
       "    <tr>\n",
       "      <th>1481</th>\n",
       "      <td>2015-11-19</td>\n",
       "      <td>29.799999</td>\n",
       "      <td>29.860001</td>\n",
       "      <td>29.700001</td>\n",
       "      <td>29.780001</td>\n",
       "      <td>180900</td>\n",
       "      <td>29.680000</td>\n",
       "      <td>False</td>\n",
       "      <td>-0.003358</td>\n",
       "      <td>26.430000</td>\n",
       "      <td>False</td>\n",
       "      <td>-0.112492</td>\n",
       "      <td>1</td>\n",
       "      <td>30.507002</td>\n",
       "      <td>29.7395</td>\n",
       "      <td>28.971997</td>\n",
       "      <td>0.526385</td>\n",
       "      <td>5.161502</td>\n",
       "      <td>False</td>\n",
       "      <td>False</td>\n",
       "      <td>False</td>\n",
       "      <td>0</td>\n",
       "      <td>29.141791</td>\n",
       "      <td>29.221912</td>\n",
       "      <td>29.309292</td>\n",
       "      <td>1</td>\n",
       "      <td>0</td>\n",
       "      <td>29.003276</td>\n",
       "      <td>29.250148</td>\n",
       "      <td>29.431356</td>\n",
       "      <td>1</td>\n",
       "      <td>0</td>\n",
       "      <td>28.850200</td>\n",
       "      <td>1</td>\n",
       "      <td>17.340420</td>\n",
       "      <td>26.787955</td>\n",
       "      <td>20.225693</td>\n",
       "      <td>False</td>\n",
       "      <td>True</td>\n",
       "      <td>1</td>\n",
       "      <td>56</td>\n",
       "      <td>1</td>\n",
       "      <td>15.603011</td>\n",
       "      <td>1</td>\n",
       "      <td>0.166336</td>\n",
       "      <td>0.239286</td>\n",
       "      <td>-0.072950</td>\n",
       "      <td>0</td>\n",
       "      <td>0.093857</td>\n",
       "      <td>1</td>\n",
       "      <td>67.438783</td>\n",
       "      <td>0</td>\n",
       "      <td>-0.733330</td>\n",
       "      <td>0</td>\n",
       "      <td>56.165021</td>\n",
       "      <td>1</td>\n",
       "      <td>54.729219</td>\n",
       "      <td>0</td>\n",
       "      <td>-45.714229</td>\n",
       "      <td>1</td>\n",
       "      <td>406377.655225</td>\n",
       "      <td>1</td>\n",
       "      <td>82.610291</td>\n",
       "      <td>63.257188</td>\n",
       "      <td>0</td>\n",
       "      <td>100.000000</td>\n",
       "      <td>100.000000</td>\n",
       "      <td>0</td>\n",
       "      <td>0.060819</td>\n",
       "      <td>1</td>\n",
       "      <td>29.780001</td>\n",
       "      <td>31.590003</td>\n",
       "      <td>28.980002</td>\n",
       "      <td>32.390002</td>\n",
       "      <td>27.170000</td>\n",
       "      <td>34.200004</td>\n",
       "      <td>26.370001</td>\n",
       "      <td>0</td>\n",
       "    </tr>\n",
       "    <tr>\n",
       "      <th>1482</th>\n",
       "      <td>2015-11-20</td>\n",
       "      <td>29.860001</td>\n",
       "      <td>29.900000</td>\n",
       "      <td>29.639999</td>\n",
       "      <td>29.680000</td>\n",
       "      <td>153400</td>\n",
       "      <td>29.170000</td>\n",
       "      <td>False</td>\n",
       "      <td>-0.017183</td>\n",
       "      <td>25.219999</td>\n",
       "      <td>False</td>\n",
       "      <td>-0.150270</td>\n",
       "      <td>0</td>\n",
       "      <td>30.489814</td>\n",
       "      <td>29.7270</td>\n",
       "      <td>28.964186</td>\n",
       "      <td>0.469193</td>\n",
       "      <td>5.132129</td>\n",
       "      <td>False</td>\n",
       "      <td>False</td>\n",
       "      <td>False</td>\n",
       "      <td>0</td>\n",
       "      <td>29.162897</td>\n",
       "      <td>29.227979</td>\n",
       "      <td>29.312981</td>\n",
       "      <td>1</td>\n",
       "      <td>0</td>\n",
       "      <td>29.013116</td>\n",
       "      <td>29.253619</td>\n",
       "      <td>29.432630</td>\n",
       "      <td>1</td>\n",
       "      <td>0</td>\n",
       "      <td>28.890592</td>\n",
       "      <td>1</td>\n",
       "      <td>16.913323</td>\n",
       "      <td>25.572952</td>\n",
       "      <td>20.355045</td>\n",
       "      <td>False</td>\n",
       "      <td>True</td>\n",
       "      <td>1</td>\n",
       "      <td>52</td>\n",
       "      <td>1</td>\n",
       "      <td>17.310571</td>\n",
       "      <td>1</td>\n",
       "      <td>0.163693</td>\n",
       "      <td>0.224167</td>\n",
       "      <td>-0.060474</td>\n",
       "      <td>0</td>\n",
       "      <td>-0.167344</td>\n",
       "      <td>0</td>\n",
       "      <td>58.479730</td>\n",
       "      <td>0</td>\n",
       "      <td>-1.066667</td>\n",
       "      <td>0</td>\n",
       "      <td>54.495110</td>\n",
       "      <td>1</td>\n",
       "      <td>54.499672</td>\n",
       "      <td>0</td>\n",
       "      <td>-51.428571</td>\n",
       "      <td>1</td>\n",
       "      <td>385091.955069</td>\n",
       "      <td>1</td>\n",
       "      <td>88.577258</td>\n",
       "      <td>80.148257</td>\n",
       "      <td>0</td>\n",
       "      <td>72.755132</td>\n",
       "      <td>90.918377</td>\n",
       "      <td>0</td>\n",
       "      <td>0.062966</td>\n",
       "      <td>1</td>\n",
       "      <td>29.740000</td>\n",
       "      <td>31.510000</td>\n",
       "      <td>28.899999</td>\n",
       "      <td>32.350001</td>\n",
       "      <td>27.129999</td>\n",
       "      <td>34.120001</td>\n",
       "      <td>26.289998</td>\n",
       "      <td>0</td>\n",
       "    </tr>\n",
       "  </tbody>\n",
       "</table>\n",
       "</div>"
      ],
      "text/plain": [
       "            date       open       high        low      close   volume    close_1 result_1    perf_1   close_14 result_14   perf_14  results   bb_upper  bb_middle   bb_lower    bb_pct  bb_bandwidth bb_squeeze bb_signalup bb_signaldn  bb_signal      ema50     ema150     ema200  ema_signal1  ema_signal2     kama50    kama150    kama200  kama_signal1  kama_signal2        sar  sar_signal        adx    plus_di   minus_di adx_trend adx_direction  adx_signal  aroon_osc  aroon_signal         cci  \\\n",
       "1478  2015-11-16  28.900000  29.309999  28.830000  29.309999    84100  29.389999     True  0.002729  27.940001     False -0.046742        1  30.531382    29.6840  28.836617  0.279320      5.709355      False       False       False          0  29.076328  29.204370  29.298876            1            0  28.976103  29.241528  29.428410             1             0  30.067442           0  18.896958  22.420464  24.627827     False         False           1         60             1 -121.505885   \n",
       "1479  2015-11-17  29.350000  29.590000  29.200001  29.389999   209900  29.780001     True  0.013270  27.000000     False -0.081320        1  30.528164    29.6890  28.849835  0.321846      5.653034      False       False       False          0  29.088629  29.206829  29.299783            1            0  28.979545  29.242787  29.428221             1             0  29.894200           0  17.928899  25.628114  23.027874     False          True           1         60             1  -61.672994   \n",
       "1480  2015-11-18  29.490000  29.840000  29.240000  29.780001  1379200  29.780001    False  0.000000  27.120001     False -0.089322        1  30.499962    29.7300  28.960038  0.532470      5.179696      False       False       False          0  29.115741  29.214420  29.304561            1            0  28.990811  29.246183  29.429696             1             0  28.830000           1  17.600590  27.186669  20.790128     False          True           1         60             1  -16.082587   \n",
       "1481  2015-11-19  29.799999  29.860001  29.700001  29.780001   180900  29.680000    False -0.003358  26.430000     False -0.112492        1  30.507002    29.7395  28.971997  0.526385      5.161502      False       False       False          0  29.141791  29.221912  29.309292            1            0  29.003276  29.250148  29.431356             1             0  28.850200           1  17.340420  26.787955  20.225693     False          True           1         56             1   15.603011   \n",
       "1482  2015-11-20  29.860001  29.900000  29.639999  29.680000   153400  29.170000    False -0.017183  25.219999     False -0.150270        0  30.489814    29.7270  28.964186  0.469193      5.132129      False       False       False          0  29.162897  29.227979  29.312981            1            0  29.013116  29.253619  29.432630             1             0  28.890592           1  16.913323  25.572952  20.355045     False          True           1         52             1   17.310571   \n",
       "\n",
       "      cci_signal      macd  macd_sigline  macd_hist  macd_signal       ppo  ppo_signal        mfi  mfi_signal       roc  roc_signal        rsi  rsi_signal    ult_osc  ult_signal      willr  wr_signal         ad_osc  ad_signal  stoch_slowk  stoch_slowd  sslow_signal  stoch_fastk  stoch_fastd  srsi_signal      trix  trix_signal  sr_pivotpts    sr_res1    sr_sup1    sr_res2    sr_sup2    sr_res3    sr_sup3  cv_signal  \n",
       "1478           1  0.162721      0.317523  -0.154802            0  1.148712           1  57.662795           0 -3.585530           0  50.035753           1  50.772526           0 -72.571486          1  -76270.418341          0    20.900071    10.839091             1    66.985684    22.328561            1  0.053348            1    29.149999  30.569999  27.719999  31.999999  26.299999  33.419999  24.869999          0  \n",
       "1479           1  0.143043      0.282627  -0.139584            0  0.874122           1  56.797205           0 -3.195000           0  51.129096           1  44.416942           0 -68.000057          1  -73410.275764          0    37.904052    21.177492             1   100.000000    55.661895            0  0.055936            1    29.393333  30.956667  28.206667  32.143333  26.643333  33.706667  25.456667          0  \n",
       "1480           1  0.157107      0.257523  -0.100416            0  0.489928           1  64.333933           0 -1.259944           0  56.165021           1  53.357393           0 -45.714229          1  285503.997692          1    69.257220    42.687115             1   100.000000    88.995228            0  0.058436            1    29.620000  31.270002  28.660001  32.230001  27.009999  33.880003  26.050000          0  \n",
       "1481           1  0.166336      0.239286  -0.072950            0  0.093857           1  67.438783           0 -0.733330           0  56.165021           1  54.729219           0 -45.714229          1  406377.655225          1    82.610291    63.257188             0   100.000000   100.000000            0  0.060819            1    29.780001  31.590003  28.980002  32.390002  27.170000  34.200004  26.370001          0  \n",
       "1482           1  0.163693      0.224167  -0.060474            0 -0.167344           0  58.479730           0 -1.066667           0  54.495110           1  54.499672           0 -51.428571          1  385091.955069          1    88.577258    80.148257             0    72.755132    90.918377            0  0.062966            1    29.740000  31.510000  28.899999  32.350001  27.129999  34.120001  26.289998          0  "
      ]
     },
     "execution_count": 4,
     "metadata": {},
     "output_type": "execute_result"
    }
   ],
   "source": [
    "df.tail()"
   ]
  },
  {
   "cell_type": "code",
   "execution_count": 5,
   "metadata": {
    "collapsed": true
   },
   "outputs": [],
   "source": [
    "dftouse=df.copy()"
   ]
  },
  {
   "cell_type": "markdown",
   "metadata": {},
   "source": [
    "### Feature Engineering"
   ]
  },
  {
   "cell_type": "code",
   "execution_count": 6,
   "metadata": {
    "collapsed": true
   },
   "outputs": [],
   "source": [
    "IGNORE = ['date', 'result_1','close_1','perf_1','result_14','close_14','perf_14','results']"
   ]
  },
  {
   "cell_type": "code",
   "execution_count": 7,
   "metadata": {
    "collapsed": false,
    "scrolled": false
   },
   "outputs": [
    {
     "name": "stdout",
     "output_type": "stream",
     "text": [
      "bb_squeeze [False True]\n",
      "bb_signalup [True False]\n",
      "bb_signaldn [False True]\n",
      "bb_signal [ 0.  1.]\n",
      "ema_signal1 [1 0]\n",
      "ema_signal2 [1 0]\n",
      "kama_signal1 [1 0]\n",
      "kama_signal2 [1 0]\n",
      "sar_signal [1 0]\n",
      "adx_trend [True False]\n",
      "adx_direction [True False]\n",
      "adx_signal [ 1.  0.]\n",
      "aroon_signal [1 0]\n",
      "cci_signal [ 1.  0.]\n",
      "macd_signal [0 1]\n",
      "ppo_signal [1 0]\n",
      "mfi_signal [ 0.  1.]\n",
      "roc_signal [ 0.  1.]\n",
      "rsi_signal [ 0.  1.]\n",
      "ult_signal [ 0.  1.]\n",
      "wr_signal [ 0.  1.]\n",
      "ad_signal [1 0]\n",
      "sslow_signal [ 0.  1.]\n",
      "srsi_signal [ 0.  1.]\n",
      "trix_signal [1 0]\n",
      "cv_signal [0 1]\n"
     ]
    }
   ],
   "source": [
    "INDICATORS=[]\n",
    "for v in df.columns:\n",
    "    l=df[v].unique()\n",
    "    if len(l) <= 10 and v not in IGNORE:\n",
    "        print v, l\n",
    "        INDICATORS.append(v)"
   ]
  },
  {
   "cell_type": "code",
   "execution_count": 8,
   "metadata": {
    "collapsed": false
   },
   "outputs": [
    {
     "name": "stdout",
     "output_type": "stream",
     "text": [
      "open\n",
      "high\n",
      "low\n",
      "close\n",
      "volume\n",
      "bb_upper\n",
      "bb_middle\n",
      "bb_lower\n",
      "bb_pct\n",
      "bb_bandwidth\n",
      "ema50\n",
      "ema150\n",
      "ema200\n",
      "kama50\n",
      "kama150\n",
      "kama200\n",
      "sar\n",
      "adx\n",
      "plus_di\n",
      "minus_di\n",
      "aroon_osc\n",
      "cci\n",
      "macd\n",
      "macd_sigline\n",
      "macd_hist\n",
      "ppo\n",
      "mfi\n",
      "roc\n",
      "rsi\n",
      "ult_osc\n",
      "willr\n",
      "ad_osc\n",
      "stoch_slowk\n",
      "stoch_slowd\n",
      "stoch_fastk\n",
      "stoch_fastd\n",
      "trix\n",
      "sr_pivotpts\n",
      "sr_res1\n",
      "sr_sup1\n",
      "sr_res2\n",
      "sr_sup2\n",
      "sr_res3\n",
      "sr_sup3\n"
     ]
    }
   ],
   "source": [
    "STANDARDIZABLE = []\n",
    "for v in df.columns:\n",
    "    if v not in INDICATORS and v not in IGNORE:\n",
    "        print v\n",
    "        STANDARDIZABLE.append(v)"
   ]
  },
  {
   "cell_type": "code",
   "execution_count": 9,
   "metadata": {
    "collapsed": false
   },
   "outputs": [],
   "source": [
    "# from sklearn.cross_validation import train_test_split\n",
    "# itrain, itest = train_test_split(xrange(dftouse.shape[0]), train_size=0.7)\n",
    "# mask=np.ones(dftouse.shape[0], dtype='int')\n",
    "# mask[itrain]=1\n",
    "# mask[itest]=0\n",
    "# mask = (mask==1)\n",
    "# mask.shape, mask.sum()"
   ]
  },
  {
   "cell_type": "code",
   "execution_count": 10,
   "metadata": {
    "collapsed": false
   },
   "outputs": [
    {
     "data": {
      "text/plain": [
       "((1483,), 1258)"
      ]
     },
     "execution_count": 10,
     "metadata": {},
     "output_type": "execute_result"
    }
   ],
   "source": [
    "dftouse['date'] = pd.to_datetime(dftouse['date'])\n",
    "mask = (dftouse.date < '2015-01-01').values\n",
    "mask.shape, mask.sum()"
   ]
  },
  {
   "cell_type": "markdown",
   "metadata": {},
   "source": [
    "### Check ROI of signals, alone:"
   ]
  },
  {
   "cell_type": "code",
   "execution_count": 11,
   "metadata": {
    "collapsed": false
   },
   "outputs": [
    {
     "name": "stdout",
     "output_type": "stream",
     "text": [
      "ROI baseline: 1.12%\n",
      "ROI \"result\" buy-only: 67.45%\n",
      "ROI \"result\" buy-sell: 172.49%\n"
     ]
    }
   ],
   "source": [
    "print \"ROI baseline: 1.12%\"\n",
    "print 'ROI \"result\" buy-only: 67.45%'\n",
    "print 'ROI \"result\" buy-sell: 172.49%'\n",
    "    \n",
    "def signalperf(signal):\n",
    "    ypred = df[signal]\n",
    "    df_pred = df[~mask].reset_index(drop=True)\n",
    "    df_pred['pred_result'] = ypred\n",
    "    df_pred['result_baseline'] = np.ones(df_pred.shape[0])\n",
    "\n",
    "    balance, profit, ROI2 = evaluate_profit(df_pred, 10000, 'pred_result', 'close', False)\n",
    "    #print 'ROI \"pred\" buy-only: {0:.2f}%'.format(ROI*100)\n",
    "\n",
    "    balance, profit, ROI = evaluate_profit2(df_pred, 10000, 'pred_result', 'close', False)\n",
    "    print signal + ': ROI \"pred\" buy-only: {0:.2f}%'.format(ROI2*100), 'buy-sell: {0:.2f}%'.format(ROI*100)\n",
    "    return"
   ]
  },
  {
   "cell_type": "code",
   "execution_count": 12,
   "metadata": {
    "collapsed": false
   },
   "outputs": [
    {
     "name": "stdout",
     "output_type": "stream",
     "text": [
      "bb_squeeze: ROI \"pred\" buy-only: 0.83% buy-sell: -0.48%\n",
      "bb_signalup: ROI \"pred\" buy-only: -9.98% buy-sell: -20.92%\n",
      "bb_signaldn: ROI \"pred\" buy-only: -1.77% buy-sell: -4.85%\n",
      "bb_signal: ROI \"pred\" buy-only: -2.36% buy-sell: -5.85%\n",
      "ema_signal1: ROI \"pred\" buy-only: 0.13% buy-sell: -1.25%\n",
      "ema_signal2: ROI \"pred\" buy-only: 1.12% buy-sell: 1.12%\n",
      "kama_signal1: ROI \"pred\" buy-only: 1.70% buy-sell: 1.94%\n",
      "kama_signal2: ROI \"pred\" buy-only: 1.12% buy-sell: 1.12%\n",
      "sar_signal: ROI \"pred\" buy-only: -9.83% buy-sell: -20.27%\n",
      "adx_trend: ROI \"pred\" buy-only: 12.65% buy-sell: 24.86%\n",
      "adx_direction: ROI \"pred\" buy-only: 1.36% buy-sell: 0.40%\n",
      "adx_signal: ROI \"pred\" buy-only: -1.32% buy-sell: -4.57%\n",
      "aroon_signal: ROI \"pred\" buy-only: -2.54% buy-sell: -6.78%\n",
      "cci_signal: ROI \"pred\" buy-only: -4.73% buy-sell: -10.57%\n",
      "macd_signal: ROI \"pred\" buy-only: -3.20% buy-sell: -9.29%\n",
      "ppo_signal: ROI \"pred\" buy-only: -5.35% buy-sell: -11.78%\n",
      "mfi_signal: ROI \"pred\" buy-only: -3.39% buy-sell: -7.87%\n",
      "roc_signal: ROI \"pred\" buy-only: 0.00% buy-sell: -1.12%\n",
      "rsi_signal: ROI \"pred\" buy-only: 0.42% buy-sell: -0.54%\n",
      "ult_signal: ROI \"pred\" buy-only: 0.00% buy-sell: -1.12%\n",
      "wr_signal: ROI \"pred\" buy-only: 10.35% buy-sell: 19.74%\n",
      "ad_signal: ROI \"pred\" buy-only: -1.44% buy-sell: -5.02%\n",
      "sslow_signal: ROI \"pred\" buy-only: 3.16% buy-sell: 4.81%\n",
      "srsi_signal: ROI \"pred\" buy-only: 5.22% buy-sell: 8.72%\n",
      "trix_signal: ROI \"pred\" buy-only: 4.46% buy-sell: 7.80%\n",
      "cv_signal: ROI \"pred\" buy-only: -0.16% buy-sell: -3.05%\n"
     ]
    }
   ],
   "source": [
    "for v in INDICATORS:\n",
    "    signalperf(v)"
   ]
  },
  {
   "cell_type": "markdown",
   "metadata": {},
   "source": [
    "#### 1.2 Standardize the data"
   ]
  },
  {
   "cell_type": "markdown",
   "metadata": {},
   "source": [
    "Use the mask to compute the training and test parts of the dataframe. Use `StandardScaler` from `sklearn.preprocessing` to \"fit\" the columns in `STANDARDIZABLE` on the training set. Then use the resultant estimator to transform both the training and the test parts of each of the columns in the dataframe, replacing the old unstandardized values in the `STANDARDIZABLE` columns of `dftouse` by the new standardized ones."
   ]
  },
  {
   "cell_type": "code",
   "execution_count": 13,
   "metadata": {
    "collapsed": false
   },
   "outputs": [
    {
     "data": {
      "text/html": [
       "<div>\n",
       "<table border=\"1\" class=\"dataframe\">\n",
       "  <thead>\n",
       "    <tr style=\"text-align: right;\">\n",
       "      <th></th>\n",
       "      <th>date</th>\n",
       "      <th>open</th>\n",
       "      <th>high</th>\n",
       "      <th>low</th>\n",
       "      <th>close</th>\n",
       "      <th>volume</th>\n",
       "      <th>close_1</th>\n",
       "      <th>result_1</th>\n",
       "      <th>perf_1</th>\n",
       "      <th>close_14</th>\n",
       "      <th>result_14</th>\n",
       "      <th>perf_14</th>\n",
       "      <th>results</th>\n",
       "      <th>bb_upper</th>\n",
       "      <th>bb_middle</th>\n",
       "      <th>bb_lower</th>\n",
       "      <th>bb_pct</th>\n",
       "      <th>bb_bandwidth</th>\n",
       "      <th>bb_squeeze</th>\n",
       "      <th>bb_signalup</th>\n",
       "      <th>bb_signaldn</th>\n",
       "      <th>bb_signal</th>\n",
       "      <th>ema50</th>\n",
       "      <th>ema150</th>\n",
       "      <th>ema200</th>\n",
       "      <th>ema_signal1</th>\n",
       "      <th>ema_signal2</th>\n",
       "      <th>kama50</th>\n",
       "      <th>kama150</th>\n",
       "      <th>kama200</th>\n",
       "      <th>kama_signal1</th>\n",
       "      <th>kama_signal2</th>\n",
       "      <th>sar</th>\n",
       "      <th>sar_signal</th>\n",
       "      <th>adx</th>\n",
       "      <th>plus_di</th>\n",
       "      <th>minus_di</th>\n",
       "      <th>adx_trend</th>\n",
       "      <th>adx_direction</th>\n",
       "      <th>adx_signal</th>\n",
       "      <th>aroon_osc</th>\n",
       "      <th>aroon_signal</th>\n",
       "      <th>cci</th>\n",
       "      <th>cci_signal</th>\n",
       "      <th>macd</th>\n",
       "      <th>macd_sigline</th>\n",
       "      <th>macd_hist</th>\n",
       "      <th>macd_signal</th>\n",
       "      <th>ppo</th>\n",
       "      <th>ppo_signal</th>\n",
       "      <th>mfi</th>\n",
       "      <th>mfi_signal</th>\n",
       "      <th>roc</th>\n",
       "      <th>roc_signal</th>\n",
       "      <th>rsi</th>\n",
       "      <th>rsi_signal</th>\n",
       "      <th>ult_osc</th>\n",
       "      <th>ult_signal</th>\n",
       "      <th>willr</th>\n",
       "      <th>wr_signal</th>\n",
       "      <th>ad_osc</th>\n",
       "      <th>ad_signal</th>\n",
       "      <th>stoch_slowk</th>\n",
       "      <th>stoch_slowd</th>\n",
       "      <th>sslow_signal</th>\n",
       "      <th>stoch_fastk</th>\n",
       "      <th>stoch_fastd</th>\n",
       "      <th>srsi_signal</th>\n",
       "      <th>trix</th>\n",
       "      <th>trix_signal</th>\n",
       "      <th>sr_pivotpts</th>\n",
       "      <th>sr_res1</th>\n",
       "      <th>sr_sup1</th>\n",
       "      <th>sr_res2</th>\n",
       "      <th>sr_sup2</th>\n",
       "      <th>sr_res3</th>\n",
       "      <th>sr_sup3</th>\n",
       "      <th>cv_signal</th>\n",
       "    </tr>\n",
       "  </thead>\n",
       "  <tbody>\n",
       "    <tr>\n",
       "      <th>0</th>\n",
       "      <td>2010-01-04</td>\n",
       "      <td>-1.169181</td>\n",
       "      <td>-1.157299</td>\n",
       "      <td>-1.15216</td>\n",
       "      <td>-1.118360</td>\n",
       "      <td>0.639008</td>\n",
       "      <td>20.680000</td>\n",
       "      <td>True</td>\n",
       "      <td>0.006326</td>\n",
       "      <td>18.719999</td>\n",
       "      <td>False</td>\n",
       "      <td>-0.089051</td>\n",
       "      <td>0</td>\n",
       "      <td>-1.321332</td>\n",
       "      <td>-1.279148</td>\n",
       "      <td>-1.221656</td>\n",
       "      <td>1.341702</td>\n",
       "      <td>-0.221542</td>\n",
       "      <td>False</td>\n",
       "      <td>True</td>\n",
       "      <td>False</td>\n",
       "      <td>0</td>\n",
       "      <td>-1.460919</td>\n",
       "      <td>-1.608066</td>\n",
       "      <td>-1.592815</td>\n",
       "      <td>1</td>\n",
       "      <td>1</td>\n",
       "      <td>-1.591111</td>\n",
       "      <td>-1.688776</td>\n",
       "      <td>-1.698226</td>\n",
       "      <td>1</td>\n",
       "      <td>1</td>\n",
       "      <td>-1.257753</td>\n",
       "      <td>1</td>\n",
       "      <td>1.219553</td>\n",
       "      <td>1.264466</td>\n",
       "      <td>-1.068669</td>\n",
       "      <td>True</td>\n",
       "      <td>True</td>\n",
       "      <td>1</td>\n",
       "      <td>1.313898</td>\n",
       "      <td>1</td>\n",
       "      <td>1.004782</td>\n",
       "      <td>1</td>\n",
       "      <td>1.390227</td>\n",
       "      <td>1.549988</td>\n",
       "      <td>-0.096380</td>\n",
       "      <td>0</td>\n",
       "      <td>1.164215</td>\n",
       "      <td>1</td>\n",
       "      <td>1.561731</td>\n",
       "      <td>0</td>\n",
       "      <td>1.442156</td>\n",
       "      <td>0</td>\n",
       "      <td>1.356830</td>\n",
       "      <td>0</td>\n",
       "      <td>0.191720</td>\n",
       "      <td>0</td>\n",
       "      <td>1.334246</td>\n",
       "      <td>0</td>\n",
       "      <td>1.564001</td>\n",
       "      <td>1</td>\n",
       "      <td>-0.269844</td>\n",
       "      <td>-0.148049</td>\n",
       "      <td>0</td>\n",
       "      <td>0.698039</td>\n",
       "      <td>-0.732738</td>\n",
       "      <td>0</td>\n",
       "      <td>1.451422</td>\n",
       "      <td>1</td>\n",
       "      <td>-1.142985</td>\n",
       "      <td>-0.827349</td>\n",
       "      <td>-0.890331</td>\n",
       "      <td>-1.051099</td>\n",
       "      <td>-1.175919</td>\n",
       "      <td>-0.728905</td>\n",
       "      <td>-0.909411</td>\n",
       "      <td>0</td>\n",
       "    </tr>\n",
       "    <tr>\n",
       "      <th>1</th>\n",
       "      <td>2010-01-05</td>\n",
       "      <td>-1.101747</td>\n",
       "      <td>-1.098349</td>\n",
       "      <td>-1.09877</td>\n",
       "      <td>-1.081848</td>\n",
       "      <td>2.142760</td>\n",
       "      <td>20.340000</td>\n",
       "      <td>False</td>\n",
       "      <td>-0.016441</td>\n",
       "      <td>18.900000</td>\n",
       "      <td>False</td>\n",
       "      <td>-0.086074</td>\n",
       "      <td>0</td>\n",
       "      <td>-1.296796</td>\n",
       "      <td>-1.260871</td>\n",
       "      <td>-1.209938</td>\n",
       "      <td>1.443046</td>\n",
       "      <td>-0.155418</td>\n",
       "      <td>False</td>\n",
       "      <td>True</td>\n",
       "      <td>False</td>\n",
       "      <td>0</td>\n",
       "      <td>-1.444752</td>\n",
       "      <td>-1.599330</td>\n",
       "      <td>-1.585983</td>\n",
       "      <td>1</td>\n",
       "      <td>1</td>\n",
       "      <td>-1.564010</td>\n",
       "      <td>-1.677462</td>\n",
       "      <td>-1.683838</td>\n",
       "      <td>1</td>\n",
       "      <td>1</td>\n",
       "      <td>-1.241792</td>\n",
       "      <td>1</td>\n",
       "      <td>1.295293</td>\n",
       "      <td>1.656456</td>\n",
       "      <td>-1.216766</td>\n",
       "      <td>True</td>\n",
       "      <td>True</td>\n",
       "      <td>1</td>\n",
       "      <td>1.378875</td>\n",
       "      <td>1</td>\n",
       "      <td>1.253799</td>\n",
       "      <td>1</td>\n",
       "      <td>1.457677</td>\n",
       "      <td>1.555591</td>\n",
       "      <td>0.078078</td>\n",
       "      <td>1</td>\n",
       "      <td>1.171118</td>\n",
       "      <td>1</td>\n",
       "      <td>1.645223</td>\n",
       "      <td>0</td>\n",
       "      <td>1.297461</td>\n",
       "      <td>0</td>\n",
       "      <td>1.505069</td>\n",
       "      <td>0</td>\n",
       "      <td>0.626544</td>\n",
       "      <td>0</td>\n",
       "      <td>1.120493</td>\n",
       "      <td>0</td>\n",
       "      <td>1.930265</td>\n",
       "      <td>1</td>\n",
       "      <td>0.257237</td>\n",
       "      <td>-0.227046</td>\n",
       "      <td>0</td>\n",
       "      <td>1.139066</td>\n",
       "      <td>0.256536</td>\n",
       "      <td>0</td>\n",
       "      <td>1.519308</td>\n",
       "      <td>1</td>\n",
       "      <td>-1.093350</td>\n",
       "      <td>-0.737175</td>\n",
       "      <td>-0.851602</td>\n",
       "      <td>-0.950513</td>\n",
       "      <td>-1.179561</td>\n",
       "      <td>-0.593715</td>\n",
       "      <td>-0.921427</td>\n",
       "      <td>0</td>\n",
       "    </tr>\n",
       "    <tr>\n",
       "      <th>2</th>\n",
       "      <td>2010-01-06</td>\n",
       "      <td>-1.070840</td>\n",
       "      <td>-1.106770</td>\n",
       "      <td>-1.15216</td>\n",
       "      <td>-1.177339</td>\n",
       "      <td>1.022456</td>\n",
       "      <td>20.260000</td>\n",
       "      <td>False</td>\n",
       "      <td>-0.003933</td>\n",
       "      <td>18.600000</td>\n",
       "      <td>False</td>\n",
       "      <td>-0.085546</td>\n",
       "      <td>0</td>\n",
       "      <td>-1.287113</td>\n",
       "      <td>-1.253220</td>\n",
       "      <td>-1.204436</td>\n",
       "      <td>0.550893</td>\n",
       "      <td>-0.134384</td>\n",
       "      <td>False</td>\n",
       "      <td>False</td>\n",
       "      <td>False</td>\n",
       "      <td>0</td>\n",
       "      <td>-1.433052</td>\n",
       "      <td>-1.592050</td>\n",
       "      <td>-1.580253</td>\n",
       "      <td>1</td>\n",
       "      <td>1</td>\n",
       "      <td>-1.545068</td>\n",
       "      <td>-1.668280</td>\n",
       "      <td>-1.674858</td>\n",
       "      <td>1</td>\n",
       "      <td>1</td>\n",
       "      <td>-1.217674</td>\n",
       "      <td>1</td>\n",
       "      <td>1.252893</td>\n",
       "      <td>1.079920</td>\n",
       "      <td>-0.845719</td>\n",
       "      <td>True</td>\n",
       "      <td>True</td>\n",
       "      <td>1</td>\n",
       "      <td>1.313898</td>\n",
       "      <td>1</td>\n",
       "      <td>0.658914</td>\n",
       "      <td>1</td>\n",
       "      <td>1.379371</td>\n",
       "      <td>1.543035</td>\n",
       "      <td>-0.108883</td>\n",
       "      <td>0</td>\n",
       "      <td>1.160075</td>\n",
       "      <td>1</td>\n",
       "      <td>1.403751</td>\n",
       "      <td>0</td>\n",
       "      <td>0.314070</td>\n",
       "      <td>0</td>\n",
       "      <td>0.703464</td>\n",
       "      <td>0</td>\n",
       "      <td>0.062437</td>\n",
       "      <td>0</td>\n",
       "      <td>0.212042</td>\n",
       "      <td>0</td>\n",
       "      <td>1.387529</td>\n",
       "      <td>1</td>\n",
       "      <td>0.803962</td>\n",
       "      <td>0.284918</td>\n",
       "      <td>0</td>\n",
       "      <td>-0.973098</td>\n",
       "      <td>0.361669</td>\n",
       "      <td>1</td>\n",
       "      <td>1.580734</td>\n",
       "      <td>1</td>\n",
       "      <td>-1.145794</td>\n",
       "      <td>-0.878748</td>\n",
       "      <td>-0.952477</td>\n",
       "      <td>-1.042869</td>\n",
       "      <td>-1.189577</td>\n",
       "      <td>-0.767654</td>\n",
       "      <td>-0.978934</td>\n",
       "      <td>0</td>\n",
       "    </tr>\n",
       "    <tr>\n",
       "      <th>3</th>\n",
       "      <td>2010-01-07</td>\n",
       "      <td>-1.177611</td>\n",
       "      <td>-1.205021</td>\n",
       "      <td>-1.18307</td>\n",
       "      <td>-1.199808</td>\n",
       "      <td>0.113814</td>\n",
       "      <td>20.110001</td>\n",
       "      <td>False</td>\n",
       "      <td>-0.007404</td>\n",
       "      <td>18.570000</td>\n",
       "      <td>False</td>\n",
       "      <td>-0.083416</td>\n",
       "      <td>0</td>\n",
       "      <td>-1.284341</td>\n",
       "      <td>-1.244436</td>\n",
       "      <td>-1.189654</td>\n",
       "      <td>0.302612</td>\n",
       "      <td>-0.202750</td>\n",
       "      <td>False</td>\n",
       "      <td>False</td>\n",
       "      <td>False</td>\n",
       "      <td>0</td>\n",
       "      <td>-1.422711</td>\n",
       "      <td>-1.585183</td>\n",
       "      <td>-1.574823</td>\n",
       "      <td>1</td>\n",
       "      <td>1</td>\n",
       "      <td>-1.525476</td>\n",
       "      <td>-1.660259</td>\n",
       "      <td>-1.665809</td>\n",
       "      <td>1</td>\n",
       "      <td>1</td>\n",
       "      <td>-1.195968</td>\n",
       "      <td>1</td>\n",
       "      <td>1.153228</td>\n",
       "      <td>0.830531</td>\n",
       "      <td>-0.626599</td>\n",
       "      <td>True</td>\n",
       "      <td>True</td>\n",
       "      <td>1</td>\n",
       "      <td>1.248921</td>\n",
       "      <td>1</td>\n",
       "      <td>0.087822</td>\n",
       "      <td>1</td>\n",
       "      <td>1.273312</td>\n",
       "      <td>1.509911</td>\n",
       "      <td>-0.320626</td>\n",
       "      <td>0</td>\n",
       "      <td>1.071905</td>\n",
       "      <td>1</td>\n",
       "      <td>1.155536</td>\n",
       "      <td>0</td>\n",
       "      <td>-0.190918</td>\n",
       "      <td>0</td>\n",
       "      <td>0.532015</td>\n",
       "      <td>0</td>\n",
       "      <td>-0.094744</td>\n",
       "      <td>0</td>\n",
       "      <td>-0.001712</td>\n",
       "      <td>0</td>\n",
       "      <td>0.971730</td>\n",
       "      <td>1</td>\n",
       "      <td>-0.050296</td>\n",
       "      <td>0.363990</td>\n",
       "      <td>0</td>\n",
       "      <td>-1.224255</td>\n",
       "      <td>-0.442993</td>\n",
       "      <td>1</td>\n",
       "      <td>1.634198</td>\n",
       "      <td>1</td>\n",
       "      <td>-1.196366</td>\n",
       "      <td>-0.976136</td>\n",
       "      <td>-1.049750</td>\n",
       "      <td>-1.092248</td>\n",
       "      <td>-1.238745</td>\n",
       "      <td>-0.860651</td>\n",
       "      <td>-1.071632</td>\n",
       "      <td>1</td>\n",
       "    </tr>\n",
       "    <tr>\n",
       "      <th>4</th>\n",
       "      <td>2010-01-08</td>\n",
       "      <td>-1.202899</td>\n",
       "      <td>-1.241514</td>\n",
       "      <td>-1.22241</td>\n",
       "      <td>-1.241936</td>\n",
       "      <td>0.324656</td>\n",
       "      <td>20.150000</td>\n",
       "      <td>True</td>\n",
       "      <td>0.001989</td>\n",
       "      <td>18.400000</td>\n",
       "      <td>False</td>\n",
       "      <td>-0.085032</td>\n",
       "      <td>0</td>\n",
       "      <td>-1.286142</td>\n",
       "      <td>-1.238202</td>\n",
       "      <td>-1.175341</td>\n",
       "      <td>-0.118472</td>\n",
       "      <td>-0.292838</td>\n",
       "      <td>False</td>\n",
       "      <td>False</td>\n",
       "      <td>False</td>\n",
       "      <td>0</td>\n",
       "      <td>-1.414467</td>\n",
       "      <td>-1.578999</td>\n",
       "      <td>-1.569903</td>\n",
       "      <td>1</td>\n",
       "      <td>1</td>\n",
       "      <td>-1.511101</td>\n",
       "      <td>-1.653308</td>\n",
       "      <td>-1.657774</td>\n",
       "      <td>1</td>\n",
       "      <td>1</td>\n",
       "      <td>-1.000611</td>\n",
       "      <td>0</td>\n",
       "      <td>0.987992</td>\n",
       "      <td>0.570148</td>\n",
       "      <td>-0.335794</td>\n",
       "      <td>True</td>\n",
       "      <td>True</td>\n",
       "      <td>1</td>\n",
       "      <td>1.183944</td>\n",
       "      <td>1</td>\n",
       "      <td>-0.563369</td>\n",
       "      <td>1</td>\n",
       "      <td>1.123685</td>\n",
       "      <td>1.450854</td>\n",
       "      <td>-0.587622</td>\n",
       "      <td>0</td>\n",
       "      <td>0.933880</td>\n",
       "      <td>1</td>\n",
       "      <td>1.037445</td>\n",
       "      <td>0</td>\n",
       "      <td>-0.128574</td>\n",
       "      <td>0</td>\n",
       "      <td>0.216803</td>\n",
       "      <td>0</td>\n",
       "      <td>-0.062344</td>\n",
       "      <td>0</td>\n",
       "      <td>-0.417092</td>\n",
       "      <td>0</td>\n",
       "      <td>0.579160</td>\n",
       "      <td>1</td>\n",
       "      <td>-1.024149</td>\n",
       "      <td>-0.097513</td>\n",
       "      <td>0</td>\n",
       "      <td>-1.224255</td>\n",
       "      <td>-1.432267</td>\n",
       "      <td>1</td>\n",
       "      <td>1.677407</td>\n",
       "      <td>1</td>\n",
       "      <td>-1.235698</td>\n",
       "      <td>-1.051881</td>\n",
       "      <td>-1.125406</td>\n",
       "      <td>-1.130653</td>\n",
       "      <td>-1.276986</td>\n",
       "      <td>-0.932983</td>\n",
       "      <td>-1.143730</td>\n",
       "      <td>0</td>\n",
       "    </tr>\n",
       "  </tbody>\n",
       "</table>\n",
       "</div>"
      ],
      "text/plain": [
       "        date      open      high      low     close    volume    close_1 result_1    perf_1   close_14 result_14   perf_14  results  bb_upper  bb_middle  bb_lower    bb_pct  bb_bandwidth bb_squeeze bb_signalup bb_signaldn  bb_signal     ema50    ema150    ema200  ema_signal1  ema_signal2    kama50   kama150   kama200  kama_signal1  kama_signal2       sar  sar_signal       adx   plus_di  minus_di adx_trend adx_direction  adx_signal  aroon_osc  aroon_signal       cci  cci_signal      macd  \\\n",
       "0 2010-01-04 -1.169181 -1.157299 -1.15216 -1.118360  0.639008  20.680000     True  0.006326  18.719999     False -0.089051        0 -1.321332  -1.279148 -1.221656  1.341702     -0.221542      False        True       False          0 -1.460919 -1.608066 -1.592815            1            1 -1.591111 -1.688776 -1.698226             1             1 -1.257753           1  1.219553  1.264466 -1.068669      True          True           1   1.313898             1  1.004782           1  1.390227   \n",
       "1 2010-01-05 -1.101747 -1.098349 -1.09877 -1.081848  2.142760  20.340000    False -0.016441  18.900000     False -0.086074        0 -1.296796  -1.260871 -1.209938  1.443046     -0.155418      False        True       False          0 -1.444752 -1.599330 -1.585983            1            1 -1.564010 -1.677462 -1.683838             1             1 -1.241792           1  1.295293  1.656456 -1.216766      True          True           1   1.378875             1  1.253799           1  1.457677   \n",
       "2 2010-01-06 -1.070840 -1.106770 -1.15216 -1.177339  1.022456  20.260000    False -0.003933  18.600000     False -0.085546        0 -1.287113  -1.253220 -1.204436  0.550893     -0.134384      False       False       False          0 -1.433052 -1.592050 -1.580253            1            1 -1.545068 -1.668280 -1.674858             1             1 -1.217674           1  1.252893  1.079920 -0.845719      True          True           1   1.313898             1  0.658914           1  1.379371   \n",
       "3 2010-01-07 -1.177611 -1.205021 -1.18307 -1.199808  0.113814  20.110001    False -0.007404  18.570000     False -0.083416        0 -1.284341  -1.244436 -1.189654  0.302612     -0.202750      False       False       False          0 -1.422711 -1.585183 -1.574823            1            1 -1.525476 -1.660259 -1.665809             1             1 -1.195968           1  1.153228  0.830531 -0.626599      True          True           1   1.248921             1  0.087822           1  1.273312   \n",
       "4 2010-01-08 -1.202899 -1.241514 -1.22241 -1.241936  0.324656  20.150000     True  0.001989  18.400000     False -0.085032        0 -1.286142  -1.238202 -1.175341 -0.118472     -0.292838      False       False       False          0 -1.414467 -1.578999 -1.569903            1            1 -1.511101 -1.653308 -1.657774             1             1 -1.000611           0  0.987992  0.570148 -0.335794      True          True           1   1.183944             1 -0.563369           1  1.123685   \n",
       "\n",
       "   macd_sigline  macd_hist  macd_signal       ppo  ppo_signal       mfi  mfi_signal       roc  roc_signal       rsi  rsi_signal   ult_osc  ult_signal     willr  wr_signal    ad_osc  ad_signal  stoch_slowk  stoch_slowd  sslow_signal  stoch_fastk  stoch_fastd  srsi_signal      trix  trix_signal  sr_pivotpts   sr_res1   sr_sup1   sr_res2   sr_sup2   sr_res3   sr_sup3  cv_signal  \n",
       "0      1.549988  -0.096380            0  1.164215           1  1.561731           0  1.442156           0  1.356830           0  0.191720           0  1.334246          0  1.564001          1    -0.269844    -0.148049             0     0.698039    -0.732738            0  1.451422            1    -1.142985 -0.827349 -0.890331 -1.051099 -1.175919 -0.728905 -0.909411          0  \n",
       "1      1.555591   0.078078            1  1.171118           1  1.645223           0  1.297461           0  1.505069           0  0.626544           0  1.120493          0  1.930265          1     0.257237    -0.227046             0     1.139066     0.256536            0  1.519308            1    -1.093350 -0.737175 -0.851602 -0.950513 -1.179561 -0.593715 -0.921427          0  \n",
       "2      1.543035  -0.108883            0  1.160075           1  1.403751           0  0.314070           0  0.703464           0  0.062437           0  0.212042          0  1.387529          1     0.803962     0.284918             0    -0.973098     0.361669            1  1.580734            1    -1.145794 -0.878748 -0.952477 -1.042869 -1.189577 -0.767654 -0.978934          0  \n",
       "3      1.509911  -0.320626            0  1.071905           1  1.155536           0 -0.190918           0  0.532015           0 -0.094744           0 -0.001712          0  0.971730          1    -0.050296     0.363990             0    -1.224255    -0.442993            1  1.634198            1    -1.196366 -0.976136 -1.049750 -1.092248 -1.238745 -0.860651 -1.071632          1  \n",
       "4      1.450854  -0.587622            0  0.933880           1  1.037445           0 -0.128574           0  0.216803           0 -0.062344           0 -0.417092          0  0.579160          1    -1.024149    -0.097513             0    -1.224255    -1.432267            1  1.677407            1    -1.235698 -1.051881 -1.125406 -1.130653 -1.276986 -0.932983 -1.143730          0  "
      ]
     },
     "execution_count": 13,
     "metadata": {},
     "output_type": "execute_result"
    }
   ],
   "source": [
    "#your code here\n",
    "from sklearn.preprocessing import StandardScaler\n",
    "scaler = StandardScaler()\n",
    "scaler.fit(dftouse[mask][STANDARDIZABLE])\n",
    "dftouse[STANDARDIZABLE] = scaler.transform(dftouse[STANDARDIZABLE])\n",
    "dftouse.head()"
   ]
  },
  {
   "cell_type": "markdown",
   "metadata": {},
   "source": [
    "We create a list `lcols` of the columns we will use in our classifier. This list should not contain the response `RESP`. How many features do we have?"
   ]
  },
  {
   "cell_type": "code",
   "execution_count": 14,
   "metadata": {
    "collapsed": false
   },
   "outputs": [
    {
     "name": "stdout",
     "output_type": "stream",
     "text": [
      "70\n"
     ]
    }
   ],
   "source": [
    "#lcols=list(dftouse.columns)\n",
    "#lcols.remove(u'results')\n",
    "lcols=[]\n",
    "#lcols.append('cv_signal')\n",
    "for c in list(dftouse.columns):\n",
    "    #if c not in INDICATORS and c not in IGNORE:\n",
    "    #if c in INDICATORS:\n",
    "    if c not in IGNORE:  #Original\n",
    "        lcols.append(c)\n",
    "print len(lcols)"
   ]
  },
  {
   "cell_type": "markdown",
   "metadata": {},
   "source": [
    "### EDA for the data"
   ]
  },
  {
   "cell_type": "markdown",
   "metadata": {
    "collapsed": true
   },
   "source": [
    "We create a variable `ccols` which contains all variables not in our indicators list"
   ]
  },
  {
   "cell_type": "code",
   "execution_count": 15,
   "metadata": {
    "collapsed": false
   },
   "outputs": [
    {
     "name": "stdout",
     "output_type": "stream",
     "text": [
      "44 26\n"
     ]
    },
    {
     "data": {
      "text/plain": [
       "['open',\n",
       " 'high',\n",
       " 'low',\n",
       " 'close',\n",
       " 'volume',\n",
       " 'bb_upper',\n",
       " 'bb_middle',\n",
       " 'bb_lower',\n",
       " 'bb_pct',\n",
       " 'bb_bandwidth',\n",
       " 'ema50',\n",
       " 'ema150',\n",
       " 'ema200',\n",
       " 'kama50',\n",
       " 'kama150',\n",
       " 'kama200',\n",
       " 'sar',\n",
       " 'adx',\n",
       " 'plus_di',\n",
       " 'minus_di',\n",
       " 'aroon_osc',\n",
       " 'cci',\n",
       " 'macd',\n",
       " 'macd_sigline',\n",
       " 'macd_hist',\n",
       " 'ppo',\n",
       " 'mfi',\n",
       " 'roc',\n",
       " 'rsi',\n",
       " 'ult_osc',\n",
       " 'willr',\n",
       " 'ad_osc',\n",
       " 'stoch_slowk',\n",
       " 'stoch_slowd',\n",
       " 'stoch_fastk',\n",
       " 'stoch_fastd',\n",
       " 'trix',\n",
       " 'sr_pivotpts',\n",
       " 'sr_res1',\n",
       " 'sr_sup1',\n",
       " 'sr_res2',\n",
       " 'sr_sup2',\n",
       " 'sr_res3',\n",
       " 'sr_sup3']"
      ]
     },
     "execution_count": 15,
     "metadata": {},
     "output_type": "execute_result"
    }
   ],
   "source": [
    "ccols=[]\n",
    "for c in lcols:\n",
    "    if c not in INDICATORS and c not in IGNORE:\n",
    "        ccols.append(c)\n",
    "print len(ccols), len(INDICATORS)\n",
    "ccols"
   ]
  },
  {
   "cell_type": "markdown",
   "metadata": {},
   "source": [
    "#### 1.4 Train a SVM on this data."
   ]
  },
  {
   "cell_type": "code",
   "execution_count": 16,
   "metadata": {
    "collapsed": true
   },
   "outputs": [],
   "source": [
    "from sklearn.svm import LinearSVC\n",
    "from sklearn.grid_search import GridSearchCV"
   ]
  },
  {
   "cell_type": "code",
   "execution_count": 17,
   "metadata": {
    "collapsed": true
   },
   "outputs": [],
   "source": [
    "\"\"\"\n",
    "Function\n",
    "--------\n",
    "cv_optimize\n",
    "\n",
    "Inputs\n",
    "------\n",
    "clf : an instance of a scikit-learn classifier\n",
    "parameters: a parameter grid dictionary thats passed to GridSearchCV (see above)\n",
    "X: a samples-features matrix in the scikit-learn style\n",
    "y: the response vectors of 1s and 0s (+ives and -ives)\n",
    "n_folds: the number of cross-validation folds (default 5)\n",
    "score_func: a score function we might want to pass (default python None)\n",
    "   \n",
    "Returns\n",
    "-------\n",
    "The best estimator from the GridSearchCV, after the GridSearchCV has been used to\n",
    "fit the model.\n",
    "     \n",
    "Notes\n",
    "-----\n",
    "see do_classify and the code below for an example of how this is used\n",
    "\"\"\"\n",
    "#your code here\n",
    "def cv_optimize(clf, parameters, X, y, n_folds, score_func):\n",
    "    fitmodel = GridSearchCV(clf, param_grid=parameters, cv=n_folds, scoring=score_func)\n",
    "    fitmodel.fit(X, y)\n",
    "    return fitmodel.best_estimator_"
   ]
  },
  {
   "cell_type": "code",
   "execution_count": 18,
   "metadata": {
    "collapsed": true
   },
   "outputs": [],
   "source": [
    "from sklearn.metrics import confusion_matrix\n",
    "def do_classify(clf, parameters, indf, featurenames, targetname, target1val, mask=None, reuse_split=None, score_func=None, n_folds=5):\n",
    "    subdf=indf[featurenames]\n",
    "    X=subdf.values\n",
    "    y=(indf[targetname].values==target1val)*1\n",
    "    if mask !=None:\n",
    "        print \"using mask\"\n",
    "        Xtrain, Xtest, ytrain, ytest = X[mask], X[~mask], y[mask], y[~mask]\n",
    "    if reuse_split !=None:\n",
    "        print \"using reuse split\"\n",
    "        Xtrain, Xtest, ytrain, ytest = reuse_split['Xtrain'], reuse_split['Xtest'], reuse_split['ytrain'], reuse_split['ytest']\n",
    "    if parameters:\n",
    "        clf = cv_optimize(clf, parameters, Xtrain, ytrain, n_folds=n_folds, score_func=score_func)\n",
    "    clf=clf.fit(Xtrain, ytrain)\n",
    "    training_accuracy = clf.score(Xtrain, ytrain)\n",
    "    test_accuracy = clf.score(Xtest, ytest)\n",
    "    print \"############# based on standard predict ################\"\n",
    "    print \"Accuracy on training data: %0.2f\" % (training_accuracy)\n",
    "    print \"Accuracy on test data:     %0.2f\" % (test_accuracy)\n",
    "    print confusion_matrix(ytest, clf.predict(Xtest))\n",
    "    print \"########################################################\"\n",
    "    return clf, Xtrain, ytrain, Xtest, ytest"
   ]
  },
  {
   "cell_type": "code",
   "execution_count": 19,
   "metadata": {
    "collapsed": false
   },
   "outputs": [
    {
     "name": "stdout",
     "output_type": "stream",
     "text": [
      "using mask\n",
      "############# based on standard predict ################\n",
      "Accuracy on training data: 0.60\n",
      "Accuracy on test data:     0.58\n",
      "[[122   1]\n",
      " [ 94   8]]\n",
      "########################################################\n",
      "CPU times: user 1.73 s, sys: 22.6 ms, total: 1.75 s\n",
      "Wall time: 2.34 s\n"
     ]
    },
    {
     "name": "stderr",
     "output_type": "stream",
     "text": [
      "/Users/ela/anaconda/lib/python2.7/site-packages/ipykernel/__main__.py:6: FutureWarning: comparison to `None` will result in an elementwise object comparison in the future.\n"
     ]
    }
   ],
   "source": [
    "%%time\n",
    "clfsvm, Xtrain, ytrain, Xtest, ytest = do_classify(LinearSVC(loss=\"hinge\"), {\"C\": [0.00001, 0.0001, 0.001, 0.01, 0.1, 1.0, 10.0]}, dftouse, lcols, u'result_14',1, mask=mask)"
   ]
  },
  {
   "cell_type": "code",
   "execution_count": 20,
   "metadata": {
    "collapsed": false
   },
   "outputs": [
    {
     "data": {
      "text/plain": [
       "LinearSVC(C=1e-05, class_weight=None, dual=True, fit_intercept=True,\n",
       "     intercept_scaling=1, loss='hinge', max_iter=1000, multi_class='ovr',\n",
       "     penalty='l2', random_state=None, tol=0.0001, verbose=0)"
      ]
     },
     "execution_count": 20,
     "metadata": {},
     "output_type": "execute_result"
    }
   ],
   "source": [
    "clfsvm"
   ]
  },
  {
   "cell_type": "code",
   "execution_count": 21,
   "metadata": {
    "collapsed": false
   },
   "outputs": [
    {
     "name": "stdout",
     "output_type": "stream",
     "text": [
      "accuracy on test set: 0.578\n",
      "ROI baseline: 1.12%\n",
      "ROI \"result\" buy-only: 32.48%\n",
      "ROI \"result\" buy-sell: 72.07%\n",
      "ROI \"pred\" buy-only: 5.70%\n",
      "ROI \"pred\" buy-sell: 9.57%\n"
     ]
    }
   ],
   "source": [
    "#your code here\n",
    "\n",
    "def evaluate(clf):\n",
    "\n",
    "    ypred = clf.predict(Xtest)\n",
    "    df_pred = df[~mask].reset_index(drop=True)\n",
    "    df_pred['pred_result'] = ypred\n",
    "    df_pred['result_baseline'] = np.ones(df_pred.shape[0])\n",
    "    print \"accuracy on test set: {0:.3f}\".format((df_pred.result_14 == df_pred.pred_result).sum()/float(len(df_pred)))\n",
    "    \n",
    "    balance, profit, ROI = evaluate_profit2(df_pred, 10000, 'result_baseline', 'close', False)\n",
    "    print \"ROI baseline: {0:.2f}%\".format(ROI*100)\n",
    "    \n",
    "    balance, profit, ROI = evaluate_profit(df_pred, 10000, 'result_14', 'close', False)\n",
    "    print 'ROI \"result\" buy-only: {0:.2f}%'.format(ROI*100)\n",
    "    \n",
    "    balance, profit, ROI = evaluate_profit2(df_pred, 10000, 'result_14', 'close', False)\n",
    "    print 'ROI \"result\" buy-sell: {0:.2f}%'.format(ROI*100)\n",
    "    \n",
    "    balance, profit, ROI = evaluate_profit(df_pred, 10000, 'pred_result', 'close', False)\n",
    "    print 'ROI \"pred\" buy-only: {0:.2f}%'.format(ROI*100)\n",
    "    \n",
    "    balance, profit, ROI = evaluate_profit2(df_pred, 10000, 'pred_result', 'close', False)\n",
    "    print 'ROI \"pred\" buy-sell: {0:.2f}%'.format(ROI*100)\n",
    "    \n",
    "evaluate(clfsvm)"
   ]
  },
  {
   "cell_type": "markdown",
   "metadata": {},
   "source": [
    "The results obtained ought to be very similar to the efforts you put in earlier. If not its likely you wrote `cv_optimize` wrong. (Remember that we are using the same mask).\n",
    "\n",
    "We'll reuse the training and test sets you computed above later in the homework. We do this by putting them into a dictionary `reuse_split`"
   ]
  },
  {
   "cell_type": "code",
   "execution_count": 22,
   "metadata": {
    "collapsed": true
   },
   "outputs": [],
   "source": [
    "reuse_split=dict(Xtrain=Xtrain, Xtest=Xtest, ytrain=ytrain, ytest=ytest)"
   ]
  },
  {
   "cell_type": "markdown",
   "metadata": {},
   "source": [
    "## 2. Estimate costs and benefits from assumptions and data"
   ]
  },
  {
   "cell_type": "markdown",
   "metadata": {},
   "source": [
    "### Our data is highly asymmetric"
   ]
  },
  {
   "cell_type": "markdown",
   "metadata": {},
   "source": [
    "First notice that our data set is very highly asymmetric, with positive `RESP`onses only making up 16-17% of the samples."
   ]
  },
  {
   "cell_type": "code",
   "execution_count": 23,
   "metadata": {
    "collapsed": false
   },
   "outputs": [
    {
     "name": "stdout",
     "output_type": "stream",
     "text": [
      "whole data set 0.551584625759\n",
      "training set 0.569157392687 test set 0.453333333333\n"
     ]
    }
   ],
   "source": [
    "print \"whole data set\", dftouse['result_14'].mean()#Highly asymmetric\n",
    "print \"training set\", dftouse['result_14'][mask].mean(), \"test set\", dftouse['result_14'][~mask].mean()"
   ]
  },
  {
   "cell_type": "markdown",
   "metadata": {},
   "source": [
    "This means that a classifier which predicts that EVERY customer is a negative has an accuracy rate of 83-84%. By this we mean that **a classifier that predicts that no customer will respond to our mailing** has an accuracy of 83-84%!"
   ]
  },
  {
   "cell_type": "code",
   "execution_count": 24,
   "metadata": {
    "collapsed": false
   },
   "outputs": [
    {
     "name": "stdout",
     "output_type": "stream",
     "text": [
      "using mask\n",
      "using reuse split\n",
      "############# based on standard predict ################\n",
      "Accuracy on training data: 0.57\n",
      "Accuracy on test data:     0.59\n",
      "[[105  18]\n",
      " [ 75  27]]\n",
      "########################################################\n"
     ]
    },
    {
     "name": "stderr",
     "output_type": "stream",
     "text": [
      "/Users/ela/anaconda/lib/python2.7/site-packages/ipykernel/__main__.py:6: FutureWarning: comparison to `None` will result in an elementwise object comparison in the future.\n"
     ]
    }
   ],
   "source": [
    "#your code here\n",
    "from sklearn.linear_model import LogisticRegression\n",
    "clflog = LogisticRegression(penalty=\"l1\")\n",
    "parameters = {\"C\": [0.001, 0.01, 0.1, 1, 10, 100]}\n",
    "clflog, Xtrain, ytrain, Xtest, ytest = do_classify(clflog, parameters, dftouse, lcols, u'result_14',1, mask=mask, reuse_split=reuse_split)"
   ]
  },
  {
   "cell_type": "code",
   "execution_count": 25,
   "metadata": {
    "collapsed": false
   },
   "outputs": [
    {
     "data": {
      "text/plain": [
       "LogisticRegression(C=0.01, class_weight=None, dual=False, fit_intercept=True,\n",
       "          intercept_scaling=1, max_iter=100, multi_class='ovr',\n",
       "          penalty='l1', random_state=None, solver='liblinear', tol=0.0001,\n",
       "          verbose=0)"
      ]
     },
     "execution_count": 25,
     "metadata": {},
     "output_type": "execute_result"
    }
   ],
   "source": [
    "clflog"
   ]
  },
  {
   "cell_type": "code",
   "execution_count": 26,
   "metadata": {
    "collapsed": false,
    "scrolled": false
   },
   "outputs": [
    {
     "name": "stdout",
     "output_type": "stream",
     "text": [
      "accuracy on test set: 0.587\n",
      "ROI baseline: 1.12%\n",
      "ROI \"result\" buy-only: 32.48%\n",
      "ROI \"result\" buy-sell: 72.07%\n",
      "ROI \"pred\" buy-only: 10.47%\n",
      "ROI \"pred\" buy-sell: 19.09%\n"
     ]
    }
   ],
   "source": [
    "evaluate(clflog)"
   ]
  },
  {
   "cell_type": "code",
   "execution_count": 27,
   "metadata": {
    "collapsed": false
   },
   "outputs": [
    {
     "name": "stdout",
     "output_type": "stream",
     "text": [
      "using mask\n",
      "using reuse split\n",
      "############# based on standard predict ################\n",
      "Accuracy on training data: 1.00\n",
      "Accuracy on test data:     0.60\n",
      "[[92 31]\n",
      " [60 42]]\n",
      "########################################################\n"
     ]
    },
    {
     "name": "stderr",
     "output_type": "stream",
     "text": [
      "/Users/ela/anaconda/lib/python2.7/site-packages/ipykernel/__main__.py:6: FutureWarning: comparison to `None` will result in an elementwise object comparison in the future.\n"
     ]
    }
   ],
   "source": [
    "from sklearn.ensemble import RandomForestClassifier\n",
    "clfraf = RandomForestClassifier(n_jobs=2)\n",
    "parameters = {}#{\"C\": [0.001, 0.01, 0.1, 1, 10, 100]}\n",
    "clfraf, Xtrain, ytrain, Xtest, ytest = do_classify(clfraf, parameters, dftouse, lcols, u'result_14',1, mask=mask, reuse_split=reuse_split)"
   ]
  },
  {
   "cell_type": "code",
   "execution_count": 28,
   "metadata": {
    "collapsed": false
   },
   "outputs": [
    {
     "name": "stdout",
     "output_type": "stream",
     "text": [
      "accuracy on test set: 0.596\n",
      "ROI baseline: 1.12%\n",
      "ROI \"result\" buy-only: 32.48%\n",
      "ROI \"result\" buy-sell: 72.07%\n",
      "ROI \"pred\" buy-only: 8.73%\n",
      "ROI \"pred\" buy-sell: 16.69%\n"
     ]
    }
   ],
   "source": [
    "evaluate(clfraf)"
   ]
  },
  {
   "cell_type": "markdown",
   "metadata": {},
   "source": [
    "## 4. Trying to improve the SVM: Feature Selection and Data Balancing"
   ]
  },
  {
   "cell_type": "markdown",
   "metadata": {},
   "source": [
    "If you did the previous section right, you will find that the logistic regression model provides a better profit over some section of the profit curve than the baseline \"send to everyone\" classifier, while the SVM classifier is generally poor. At this might we might want to try all kinds of classifiers: from perceptrons to random forests. In the interest of time, and to study the SVM in some more detail, we'll restrict ourselves to trying to improve the SVM performance here. In real life you would try other classifiers as well.\n",
    "\n",
    " We wont be exhaustive in this improvement process either(which is something you should do on your project) in the interests of time, but we'll explore if feature-selection on the  SVM, and data balancing on the SVM (SVM's are known to perform better on balanced data) help.\n",
    " \n",
    "( An aside: many classifiers such as SVM and decision trees struggle in their techniques on imbalanced data. You can read more at: see Weiss, Gary M., and Foster Provost. \"The effect of class distribution on classifier learning: an empirical study.\" Rutgers Univ (2001). Also see http://pages.stern.nyu.edu/~fprovost/Papers/skew.PDF and http://www.cs.ox.ac.uk/people/vasile.palade/papers/Class-Imbalance-SVM.pdf for multiple ways to deal with the imbalance problem: balancing is not always the best option. `Sklearn` also provides a class weighting strategy: http://scikit-learn.org/stable/modules/svm.html#unbalanced-problems ). "
   ]
  },
  {
   "cell_type": "markdown",
   "metadata": {},
   "source": [
    "### Feature Selection"
   ]
  },
  {
   "cell_type": "markdown",
   "metadata": {},
   "source": [
    "The Lasso, for example, implements internally, a form of feature selection by setting many coefficients to zero. Let us find coefficients that are non-zero."
   ]
  },
  {
   "cell_type": "markdown",
   "metadata": {},
   "source": [
    "#### Non zero lasso features"
   ]
  },
  {
   "cell_type": "markdown",
   "metadata": {},
   "source": [
    "We write a function `nonzero_lasso` which takes the fit classifier `clfloglasso` as an argument, and spits out a dataframe of coefficients, sorted by the absolute magnitude of the coefficients. This way we can see which features dominated the logistic regression."
   ]
  },
  {
   "cell_type": "code",
   "execution_count": 29,
   "metadata": {
    "collapsed": false
   },
   "outputs": [],
   "source": [
    "def nonzero_lasso(clf):\n",
    "    featuremask=(clf.coef_ !=0.0)[0]\n",
    "    return pd.DataFrame(dict(feature=lcols, coef=clf.coef_[0], abscoef=np.abs(clf.coef_[0])))[featuremask].sort('abscoef', ascending=False)"
   ]
  },
  {
   "cell_type": "code",
   "execution_count": 30,
   "metadata": {
    "collapsed": false
   },
   "outputs": [
    {
     "data": {
      "text/html": [
       "<div>\n",
       "<table border=\"1\" class=\"dataframe\">\n",
       "  <thead>\n",
       "    <tr style=\"text-align: right;\">\n",
       "      <th></th>\n",
       "      <th>abscoef</th>\n",
       "      <th>coef</th>\n",
       "    </tr>\n",
       "    <tr>\n",
       "      <th>feature</th>\n",
       "      <th></th>\n",
       "      <th></th>\n",
       "    </tr>\n",
       "  </thead>\n",
       "  <tbody>\n",
       "    <tr>\n",
       "      <th>macd_sigline</th>\n",
       "      <td>0.086251</td>\n",
       "      <td>-0.086251</td>\n",
       "    </tr>\n",
       "    <tr>\n",
       "      <th>sr_res3</th>\n",
       "      <td>0.081607</td>\n",
       "      <td>-0.081607</td>\n",
       "    </tr>\n",
       "  </tbody>\n",
       "</table>\n",
       "</div>"
      ],
      "text/plain": [
       "               abscoef      coef\n",
       "feature                         \n",
       "macd_sigline  0.086251 -0.086251\n",
       "sr_res3       0.081607 -0.081607"
      ]
     },
     "execution_count": 30,
     "metadata": {},
     "output_type": "execute_result"
    }
   ],
   "source": [
    "lasso_importances=nonzero_lasso(clflog)\n",
    "lasso_importances.set_index(\"feature\", inplace=True)\n",
    "lasso_importances.head(10)"
   ]
  },
  {
   "cell_type": "markdown",
   "metadata": {},
   "source": [
    "#### 4.1 Feature importance using correlations"
   ]
  },
  {
   "cell_type": "markdown",
   "metadata": {},
   "source": [
    "We can also get a notion of which features are important in the classification process by seeing how they correlate with the response. Implement some code to obtain the Pearson correlation coefficient between each of our features and the response. Do this on the training set only! Create a dataframe indexed by the features, which has columns `abscorr` the absolute value of the correlation and `corr` the value of the correlation. Sort the dataframe by `abscorr`, highest first, and show the top 25 features with the highest absolute correlation. Is there much overlap with the feature selection performed by the LASSO?"
   ]
  },
  {
   "cell_type": "code",
   "execution_count": 31,
   "metadata": {
    "collapsed": false
   },
   "outputs": [
    {
     "data": {
      "text/html": [
       "<div>\n",
       "<table border=\"1\" class=\"dataframe\">\n",
       "  <thead>\n",
       "    <tr style=\"text-align: right;\">\n",
       "      <th></th>\n",
       "      <th>abscorr</th>\n",
       "      <th>corr</th>\n",
       "    </tr>\n",
       "    <tr>\n",
       "      <th>feature</th>\n",
       "      <th></th>\n",
       "      <th></th>\n",
       "    </tr>\n",
       "  </thead>\n",
       "  <tbody>\n",
       "    <tr>\n",
       "      <th>macd_sigline</th>\n",
       "      <td>0.210943</td>\n",
       "      <td>-0.210943</td>\n",
       "    </tr>\n",
       "    <tr>\n",
       "      <th>sr_res3</th>\n",
       "      <td>0.209055</td>\n",
       "      <td>-0.209055</td>\n",
       "    </tr>\n",
       "    <tr>\n",
       "      <th>sr_res1</th>\n",
       "      <td>0.208616</td>\n",
       "      <td>-0.208616</td>\n",
       "    </tr>\n",
       "    <tr>\n",
       "      <th>macd</th>\n",
       "      <td>0.208234</td>\n",
       "      <td>-0.208234</td>\n",
       "    </tr>\n",
       "    <tr>\n",
       "      <th>mfi_signal</th>\n",
       "      <td>0.205098</td>\n",
       "      <td>0.205098</td>\n",
       "    </tr>\n",
       "    <tr>\n",
       "      <th>sr_sup1</th>\n",
       "      <td>0.198074</td>\n",
       "      <td>-0.198074</td>\n",
       "    </tr>\n",
       "    <tr>\n",
       "      <th>sr_res2</th>\n",
       "      <td>0.181206</td>\n",
       "      <td>-0.181206</td>\n",
       "    </tr>\n",
       "    <tr>\n",
       "      <th>sr_sup3</th>\n",
       "      <td>0.178948</td>\n",
       "      <td>-0.178948</td>\n",
       "    </tr>\n",
       "    <tr>\n",
       "      <th>close</th>\n",
       "      <td>0.175370</td>\n",
       "      <td>-0.175370</td>\n",
       "    </tr>\n",
       "    <tr>\n",
       "      <th>open</th>\n",
       "      <td>0.175102</td>\n",
       "      <td>-0.175102</td>\n",
       "    </tr>\n",
       "    <tr>\n",
       "      <th>sr_pivotpts</th>\n",
       "      <td>0.174877</td>\n",
       "      <td>-0.174877</td>\n",
       "    </tr>\n",
       "    <tr>\n",
       "      <th>low</th>\n",
       "      <td>0.174848</td>\n",
       "      <td>-0.174848</td>\n",
       "    </tr>\n",
       "    <tr>\n",
       "      <th>high</th>\n",
       "      <td>0.174240</td>\n",
       "      <td>-0.174240</td>\n",
       "    </tr>\n",
       "    <tr>\n",
       "      <th>ppo</th>\n",
       "      <td>0.168296</td>\n",
       "      <td>-0.168296</td>\n",
       "    </tr>\n",
       "    <tr>\n",
       "      <th>aroon_osc</th>\n",
       "      <td>0.164465</td>\n",
       "      <td>-0.164465</td>\n",
       "    </tr>\n",
       "    <tr>\n",
       "      <th>kama_signal1</th>\n",
       "      <td>0.163011</td>\n",
       "      <td>-0.163011</td>\n",
       "    </tr>\n",
       "    <tr>\n",
       "      <th>ppo_signal</th>\n",
       "      <td>0.159918</td>\n",
       "      <td>-0.159918</td>\n",
       "    </tr>\n",
       "    <tr>\n",
       "      <th>sr_sup2</th>\n",
       "      <td>0.159616</td>\n",
       "      <td>-0.159616</td>\n",
       "    </tr>\n",
       "    <tr>\n",
       "      <th>sar</th>\n",
       "      <td>0.157664</td>\n",
       "      <td>-0.157664</td>\n",
       "    </tr>\n",
       "    <tr>\n",
       "      <th>bb_lower</th>\n",
       "      <td>0.157062</td>\n",
       "      <td>-0.157062</td>\n",
       "    </tr>\n",
       "    <tr>\n",
       "      <th>trix</th>\n",
       "      <td>0.156048</td>\n",
       "      <td>-0.156048</td>\n",
       "    </tr>\n",
       "    <tr>\n",
       "      <th>bb_middle</th>\n",
       "      <td>0.155585</td>\n",
       "      <td>-0.155585</td>\n",
       "    </tr>\n",
       "    <tr>\n",
       "      <th>plus_di</th>\n",
       "      <td>0.154099</td>\n",
       "      <td>-0.154099</td>\n",
       "    </tr>\n",
       "    <tr>\n",
       "      <th>bb_upper</th>\n",
       "      <td>0.152367</td>\n",
       "      <td>-0.152367</td>\n",
       "    </tr>\n",
       "    <tr>\n",
       "      <th>rsi</th>\n",
       "      <td>0.141417</td>\n",
       "      <td>-0.141417</td>\n",
       "    </tr>\n",
       "  </tbody>\n",
       "</table>\n",
       "</div>"
      ],
      "text/plain": [
       "               abscorr      corr\n",
       "feature                         \n",
       "macd_sigline  0.210943 -0.210943\n",
       "sr_res3       0.209055 -0.209055\n",
       "sr_res1       0.208616 -0.208616\n",
       "macd          0.208234 -0.208234\n",
       "mfi_signal    0.205098  0.205098\n",
       "sr_sup1       0.198074 -0.198074\n",
       "sr_res2       0.181206 -0.181206\n",
       "sr_sup3       0.178948 -0.178948\n",
       "close         0.175370 -0.175370\n",
       "open          0.175102 -0.175102\n",
       "sr_pivotpts   0.174877 -0.174877\n",
       "low           0.174848 -0.174848\n",
       "high          0.174240 -0.174240\n",
       "ppo           0.168296 -0.168296\n",
       "aroon_osc     0.164465 -0.164465\n",
       "kama_signal1  0.163011 -0.163011\n",
       "ppo_signal    0.159918 -0.159918\n",
       "sr_sup2       0.159616 -0.159616\n",
       "sar           0.157664 -0.157664\n",
       "bb_lower      0.157062 -0.157062\n",
       "trix          0.156048 -0.156048\n",
       "bb_middle     0.155585 -0.155585\n",
       "plus_di       0.154099 -0.154099\n",
       "bb_upper      0.152367 -0.152367\n",
       "rsi           0.141417 -0.141417"
      ]
     },
     "execution_count": 31,
     "metadata": {},
     "output_type": "execute_result"
    }
   ],
   "source": [
    "from scipy.stats.stats import pearsonr\n",
    "correlations=[]\n",
    "dftousetrain=dftouse[mask]\n",
    "for col in lcols:\n",
    "    r=pearsonr(dftousetrain[col], dftousetrain['result_14'])[0]\n",
    "    correlations.append(dict(feature=col,corr=r, abscorr=np.abs(r)))\n",
    "\n",
    "bpdf=pd.DataFrame(correlations).sort('abscorr', ascending=False)\n",
    "bpdf.set_index(['feature'], inplace=True)\n",
    "bpdf.head(25)"
   ]
  },
  {
   "cell_type": "markdown",
   "metadata": {},
   "source": [
    "#### Why Feature Select?"
   ]
  },
  {
   "cell_type": "markdown",
   "metadata": {},
   "source": [
    "One of the reasons feature selection is done, automatically or otherwise, is that there might be strong correlations between features. Also recall polynomial regression: a large number of features can lead to overfitting. Feature selection helps curb the problem of the curse of dimensionality, where centrality measures often used in statistics go wonky at higher dimensions. Between feature-engineering which we did some of, earlier, and feature selection, is where a lot of smarts and domain knowledge comes in. You will gain this with experience."
   ]
  },
  {
   "cell_type": "markdown",
   "metadata": {},
   "source": [
    "### Create a pipeline to feature-select, standardize and train!"
   ]
  },
  {
   "cell_type": "markdown",
   "metadata": {},
   "source": [
    "We shall use sklearn pipelines to do correlation-with-response based feature selection for our SVM model. Maybe such feature-selection will improve the abysmal performance. \n",
    "\n",
    "This does not reduce the collinearity amongst the features, for which one either needs PCA, ICA, or some feature selection using the forward-backward algorithm. We do not have the time to approach it here. \n",
    "\n",
    "Its very important to do response based feature selection in the right way. If you remember, we separately standardized the training and test sets. This was to prevent **any** information about the overall mean and standard deviation leaking into the test set. \n",
    "\n",
    "But we played a bit loose with the rules there. We standardized on the entire training set. Instead we should have been standardizing separately in each cross-validation fold. There the original training set would be broken up into a sub-training and validation set, the standardization needed to be done on those separately. This can be implemented with `sklearn` pipelines.\n",
    "\n",
    "Such kind of \"data snooping\" is relatively benign though, as it used no information about the response variable. But if you do any feature selection which uses the response variable, such as choosing the \"k\" most correlated variables from above, its not benign any more. This is because you have leaked the response from the validation into your sub-training set, and cannot thus be confident about your predictions: you might overfit. In such a situation, you must do the feature selection inside the cross-validation fold. See http://nbviewer.ipython.org/github/cs109/content/blob/master/lec_10_cross_val.ipynb from the 2013 course for a particularly dastardly case of this, where you see that the problem is particularly exacerbated when you have many more features than samples.\n",
    "\n",
    "Lets do this here using sklearn pipelines."
   ]
  },
  {
   "cell_type": "code",
   "execution_count": 32,
   "metadata": {
    "collapsed": true
   },
   "outputs": [],
   "source": [
    "from sklearn import feature_selection\n",
    "from sklearn.pipeline import Pipeline\n",
    "from sklearn.feature_selection import SelectKBest"
   ]
  },
  {
   "cell_type": "markdown",
   "metadata": {},
   "source": [
    "Lets define a scorer which returns the absolute values of the pearson correlation between the feature and the response for each sample. The specific form of the scorer is dictated to us in the API docs for `SelectKBest`, see [here](http://scikit-learn.org/stable/modules/generated/sklearn.feature_selection.SelectKBest.html): the first argument must be an array of scores, and the second an array of p-values."
   ]
  },
  {
   "cell_type": "code",
   "execution_count": 33,
   "metadata": {
    "collapsed": true
   },
   "outputs": [],
   "source": [
    "def pearson_scorer(X,y):\n",
    "    rs=np.zeros(X.shape[1])\n",
    "    pvals=np.zeros(X.shape[1])\n",
    "    i=0\n",
    "    for v in X.T:\n",
    "        rs[i], pvals[i]=pearsonr(v, y)\n",
    "        i=i+1\n",
    "    return np.abs(rs), pvals    "
   ]
  },
  {
   "cell_type": "markdown",
   "metadata": {},
   "source": [
    "Lets apply the feature selection to a model which did not have any automatic feature selection and performed rather poorly before: the linear SVM. \n",
    "\n",
    "The `Pipeline` feature of sklearn chains various parts of a machine learning algorithm together. In this case we want to chain feature-selection and training in such a way that both happen freshly for each cross-validation fold (we wont bother to standardize in each cross-validation fold separately here for brevity, although you might want to do this).\n",
    "We use the `SelectKBest` meta estimator to select the 25 most correlated/anti-correlated features. We create an instance of this meta-estimator, `selectorlinearsvm`. We then combine it with the linear SVC estimators into the pipeline `pipelinearsvm`: the `Pipeline` function simply takes a list of `scikit-learn` estimators and wraps them together into a new estimator object, which can then be passed to `GridSearchCV` via our `do_classify` function. Notice how this new estimator object can be used exactly the same way as a single classifier can be used in `scikit-learn`..this uniformity of interface is one of the nice features of `sklearn`!"
   ]
  },
  {
   "cell_type": "code",
   "execution_count": 34,
   "metadata": {
    "collapsed": false
   },
   "outputs": [],
   "source": [
    "selectorlinearsvm = SelectKBest(k=25, score_func=pearson_scorer)\n",
    "pipelinearsvm = Pipeline([('select', selectorlinearsvm), ('svm', LinearSVC(loss=\"hinge\"))])\n"
   ]
  },
  {
   "cell_type": "markdown",
   "metadata": {},
   "source": [
    "#### Let us run the pipelined classifier "
   ]
  },
  {
   "cell_type": "markdown",
   "metadata": {},
   "source": [
    "We'll run the classifier and compare the results using the ROC curve to the previous SVM result."
   ]
  },
  {
   "cell_type": "code",
   "execution_count": 35,
   "metadata": {
    "collapsed": false
   },
   "outputs": [
    {
     "name": "stdout",
     "output_type": "stream",
     "text": [
      "using reuse split\n",
      "############# based on standard predict ################\n",
      "Accuracy on training data: 0.58\n",
      "Accuracy on test data:     0.56\n",
      "[[123   0]\n",
      " [ 98   4]]\n",
      "########################################################\n"
     ]
    }
   ],
   "source": [
    "pipelinearsvm, _,_,_,_  = do_classify(pipelinearsvm, {\"svm__C\": [0.00001, 0.001, 0.01, 0.1, 1.0, 10.0, 100.0]}, dftouse,lcols, u'result_14',1, reuse_split=reuse_split)"
   ]
  },
  {
   "cell_type": "markdown",
   "metadata": {},
   "source": [
    "What features did the pipelined classifier use? We can access them so:"
   ]
  },
  {
   "cell_type": "code",
   "execution_count": 36,
   "metadata": {
    "collapsed": false
   },
   "outputs": [
    {
     "data": {
      "text/plain": [
       "array(['open', 'high', 'low', 'close', 'bb_upper', 'bb_middle', 'bb_lower',\n",
       "       'kama_signal1', 'sar', 'plus_di', 'aroon_osc', 'macd',\n",
       "       'macd_sigline', 'ppo', 'ppo_signal', 'mfi_signal', 'rsi', 'trix',\n",
       "       'sr_pivotpts', 'sr_res1', 'sr_sup1', 'sr_res2', 'sr_sup2',\n",
       "       'sr_res3', 'sr_sup3'], \n",
       "      dtype='|S13')"
      ]
     },
     "execution_count": 36,
     "metadata": {},
     "output_type": "execute_result"
    }
   ],
   "source": [
    "np.array(lcols)[pipelinearsvm.get_params()['select'].get_support()]"
   ]
  },
  {
   "cell_type": "markdown",
   "metadata": {},
   "source": [
    "We plot the ROC curves, using the label `svm-feature-selected` for the pipelined classifier `pipelinearsvm`. We plot it alongside the older logistic-with lasso and all-features SVM for comparison"
   ]
  },
  {
   "cell_type": "code",
   "execution_count": 37,
   "metadata": {
    "collapsed": false
   },
   "outputs": [
    {
     "name": "stdout",
     "output_type": "stream",
     "text": [
      "accuracy on test set: 0.564\n",
      "ROI baseline: 1.12%\n",
      "ROI \"result\" buy-only: 32.48%\n",
      "ROI \"result\" buy-sell: 72.07%\n",
      "ROI \"pred\" buy-only: 5.69%\n",
      "ROI \"pred\" buy-sell: 9.37%\n"
     ]
    }
   ],
   "source": [
    "evaluate(pipelinearsvm)"
   ]
  },
  {
   "cell_type": "markdown",
   "metadata": {},
   "source": [
    "### Balancing train set to test set for training."
   ]
  },
  {
   "cell_type": "code",
   "execution_count": 38,
   "metadata": {
    "collapsed": false
   },
   "outputs": [
    {
     "name": "stdout",
     "output_type": "stream",
     "text": [
      "716 542\n"
     ]
    }
   ],
   "source": [
    "jtrain=np.arange(0, ytrain.shape[0])\n",
    "n_pos=len(jtrain[ytrain==1])\n",
    "n_neg=len(jtrain[ytrain==0])\n",
    "print n_pos, n_neg"
   ]
  },
  {
   "cell_type": "markdown",
   "metadata": {},
   "source": [
    "There are many more negative samples in the training set. We want to balance the negative samples to the positive samples. So lets sample $n_{+}$ samples from the negative samples in the training set (without replacement)."
   ]
  },
  {
   "cell_type": "code",
   "execution_count": 40,
   "metadata": {
    "collapsed": false
   },
   "outputs": [],
   "source": [
    "ineg = np.random.choice(jtrain[ytrain==0], 500, replace=False)#n_pos, replace=False)"
   ]
  },
  {
   "cell_type": "markdown",
   "metadata": {},
   "source": [
    "We concatenate all the indexes and use them to select a new training set from the old one."
   ]
  },
  {
   "cell_type": "code",
   "execution_count": 41,
   "metadata": {
    "collapsed": false
   },
   "outputs": [
    {
     "data": {
      "text/plain": [
       "(1216,)"
      ]
     },
     "execution_count": 41,
     "metadata": {},
     "output_type": "execute_result"
    }
   ],
   "source": [
    "alli=np.concatenate((jtrain[ytrain==1], ineg))\n",
    "alli.shape"
   ]
  },
  {
   "cell_type": "code",
   "execution_count": 42,
   "metadata": {
    "collapsed": false
   },
   "outputs": [
    {
     "data": {
      "text/plain": [
       "((1216, 70), (1216,))"
      ]
     },
     "execution_count": 42,
     "metadata": {},
     "output_type": "execute_result"
    }
   ],
   "source": [
    "Xtrain_new = Xtrain[alli]\n",
    "ytrain_new = ytrain[alli]\n",
    "Xtrain_new.shape, ytrain_new.shape"
   ]
  },
  {
   "cell_type": "markdown",
   "metadata": {},
   "source": [
    "We store these into a new split variable `reuse_split_new`."
   ]
  },
  {
   "cell_type": "code",
   "execution_count": 43,
   "metadata": {
    "collapsed": false
   },
   "outputs": [],
   "source": [
    "reuse_split_new=dict(Xtrain=Xtrain_new, Xtest=Xtest, ytrain=ytrain_new, ytest=ytest)"
   ]
  },
  {
   "cell_type": "markdown",
   "metadata": {},
   "source": [
    "Note that the test sets are identical as before. This is as, even though we are training the SVM classifier in the \"naturally\" unfound situation of balanced classes, we **must test it in the real-world scenario of imbalance**."
   ]
  },
  {
   "cell_type": "markdown",
   "metadata": {},
   "source": [
    "#### 4.2 Train a linear SVM on this balanced set"
   ]
  },
  {
   "cell_type": "markdown",
   "metadata": {},
   "source": [
    "Train a non-feature-selected linear SVM on this new balanced set as a comparison to both our old SVM on the imbalanced data set `clfsvm` and the feature-selected linear SVM `pipelinearsvm`. Store this new classifier in the variable `clfsvm_b`.\n",
    "\n",
    "Compare the performances of all three of these classifiers using the roc curve plot, with the new `clfsvm_b` labeled as `svm-all-features-balanced`. "
   ]
  },
  {
   "cell_type": "code",
   "execution_count": 44,
   "metadata": {
    "collapsed": false
   },
   "outputs": [
    {
     "name": "stdout",
     "output_type": "stream",
     "text": [
      "using reuse split\n",
      "############# based on standard predict ################\n",
      "Accuracy on training data: 0.59\n",
      "Accuracy on test data:     0.56\n",
      "[[123   0]\n",
      " [ 98   4]]\n",
      "########################################################\n"
     ]
    }
   ],
   "source": [
    "#your code here\n",
    "clfsvm_b = Pipeline([('select', selectorlinearsvm), ('svm', LinearSVC(loss=\"hinge\"))])\n",
    "clfsvm_b, _,_,_,_  = do_classify(clfsvm_b, {\"svm__C\": [0.00001, 0.001, 0.01, 0.1, 1.0, 10.0, 100.0]}, dftouse,lcols, u'result_14',1, reuse_split=reuse_split_new)"
   ]
  },
  {
   "cell_type": "code",
   "execution_count": 45,
   "metadata": {
    "collapsed": false
   },
   "outputs": [
    {
     "data": {
      "text/plain": [
       "Pipeline(steps=[('select', SelectKBest(k=25, score_func=<function pearson_scorer at 0x109b03410>)), ('svm', LinearSVC(C=1e-05, class_weight=None, dual=True, fit_intercept=True,\n",
       "     intercept_scaling=1, loss='hinge', max_iter=1000, multi_class='ovr',\n",
       "     penalty='l2', random_state=None, tol=0.0001, verbose=0))])"
      ]
     },
     "execution_count": 45,
     "metadata": {},
     "output_type": "execute_result"
    }
   ],
   "source": [
    "clfsvm_b"
   ]
  },
  {
   "cell_type": "code",
   "execution_count": 46,
   "metadata": {
    "collapsed": false
   },
   "outputs": [
    {
     "name": "stdout",
     "output_type": "stream",
     "text": [
      "accuracy on test set: 0.564\n",
      "ROI baseline: 1.12%\n",
      "ROI \"result\" buy-only: 32.48%\n",
      "ROI \"result\" buy-sell: 72.07%\n",
      "ROI \"pred\" buy-only: 5.69%\n",
      "ROI \"pred\" buy-sell: 9.37%\n"
     ]
    }
   ],
   "source": [
    "evaluate(clfsvm_b)"
   ]
  },
  {
   "cell_type": "markdown",
   "metadata": {},
   "source": [
    "#### 4.3 Implement a RBF based pipelined (feature-selected) classifier on the balanced set."
   ]
  },
  {
   "cell_type": "code",
   "execution_count": 47,
   "metadata": {
    "collapsed": true
   },
   "outputs": [],
   "source": [
    "from sklearn.svm import SVC"
   ]
  },
  {
   "cell_type": "code",
   "execution_count": 48,
   "metadata": {
    "collapsed": false
   },
   "outputs": [
    {
     "name": "stdout",
     "output_type": "stream",
     "text": [
      "using reuse split\n",
      "############# based on standard predict ################\n",
      "Accuracy on training data: 0.55\n",
      "Accuracy on test data:     0.55\n",
      "[[123   0]\n",
      " [102   0]]\n",
      "########################################################\n",
      "CPU times: user 3.92 s, sys: 41.8 ms, total: 3.96 s\n",
      "Wall time: 5.24 s\n"
     ]
    }
   ],
   "source": [
    "%%time\n",
    "selectorsvm2 = SelectKBest(k=25, score_func=pearson_scorer)\n",
    "pipesvm2 = Pipeline([('select2', selectorsvm2), ('svm2', SVC())])\n",
    "pipesvm2, _,_,_,_  = do_classify(pipesvm2, {\"svm2__C\": [1e8, 1e9, 1e10], \"svm2__gamma\": [ 1e-9, 1e-10, 1e-11]}, dftouse,lcols, u'result_14',1, reuse_split=reuse_split_new)"
   ]
  },
  {
   "cell_type": "code",
   "execution_count": 49,
   "metadata": {
    "collapsed": false
   },
   "outputs": [
    {
     "data": {
      "text/plain": [
       "{'select2': SelectKBest(k=25, score_func=<function pearson_scorer at 0x109b03410>),\n",
       " 'select2__k': 25,\n",
       " 'select2__score_func': <function __main__.pearson_scorer>,\n",
       " 'svm2': SVC(C=100000000.0, cache_size=200, class_weight=None, coef0=0.0, degree=3,\n",
       "   gamma=1e-09, kernel='rbf', max_iter=-1, probability=False,\n",
       "   random_state=None, shrinking=True, tol=0.001, verbose=False),\n",
       " 'svm2__C': 100000000.0,\n",
       " 'svm2__cache_size': 200,\n",
       " 'svm2__class_weight': None,\n",
       " 'svm2__coef0': 0.0,\n",
       " 'svm2__degree': 3,\n",
       " 'svm2__gamma': 1e-09,\n",
       " 'svm2__kernel': 'rbf',\n",
       " 'svm2__max_iter': -1,\n",
       " 'svm2__probability': False,\n",
       " 'svm2__random_state': None,\n",
       " 'svm2__shrinking': True,\n",
       " 'svm2__tol': 0.001,\n",
       " 'svm2__verbose': False}"
      ]
     },
     "execution_count": 49,
     "metadata": {},
     "output_type": "execute_result"
    }
   ],
   "source": [
    "pipesvm2.get_params()"
   ]
  },
  {
   "cell_type": "code",
   "execution_count": 50,
   "metadata": {
    "collapsed": false
   },
   "outputs": [
    {
     "name": "stdout",
     "output_type": "stream",
     "text": [
      "accuracy on test set: 0.547\n",
      "ROI baseline: 1.12%\n",
      "ROI \"result\" buy-only: 32.48%\n",
      "ROI \"result\" buy-sell: 72.07%\n",
      "ROI \"pred\" buy-only: 0.00%\n",
      "ROI \"pred\" buy-sell: -1.12%\n"
     ]
    }
   ],
   "source": [
    "evaluate(pipesvm2)"
   ]
  }
 ],
 "metadata": {
  "kernelspec": {
   "display_name": "Python 2",
   "language": "python",
   "name": "python2"
  },
  "language_info": {
   "codemirror_mode": {
    "name": "ipython",
    "version": 2
   },
   "file_extension": ".py",
   "mimetype": "text/x-python",
   "name": "python",
   "nbconvert_exporter": "python",
   "pygments_lexer": "ipython2",
   "version": "2.7.10"
  }
 },
 "nbformat": 4,
 "nbformat_minor": 0
}
